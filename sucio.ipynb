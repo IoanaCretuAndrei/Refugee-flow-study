{
 "cells": [
  {
   "cell_type": "code",
   "execution_count": 25,
   "metadata": {},
   "outputs": [],
   "source": [
    "import pandas as pd\n",
    "import numpy as np\n",
    "import seaborn as sns\n",
    "import matplotlib.pyplot as plt\n",
    "import plotly.express as px "
   ]
  },
  {
   "cell_type": "markdown",
   "metadata": {},
   "source": [
    "# ESTO ES UNA PRUEBA, BORRAR!"
   ]
  },
  {
   "cell_type": "code",
   "execution_count": 26,
   "metadata": {},
   "outputs": [],
   "source": [
    "asylum = pd.read_csv(r'C:\\Users\\ioana\\OneDrive\\Escritorio\\Entorno10\\Refugee_project_study\\Refugees-flow-study-project\\Data\\asylum_decisions.csv')\n",
    "population = pd.read_csv(r'C:\\Users\\ioana\\OneDrive\\Escritorio\\Entorno10\\Refugee_project_study\\Refugees-flow-study-project\\Data\\population.csv')"
   ]
  },
  {
   "cell_type": "code",
   "execution_count": 27,
   "metadata": {},
   "outputs": [
    {
     "data": {
      "text/html": [
       "<div>\n",
       "<style scoped>\n",
       "    .dataframe tbody tr th:only-of-type {\n",
       "        vertical-align: middle;\n",
       "    }\n",
       "\n",
       "    .dataframe tbody tr th {\n",
       "        vertical-align: top;\n",
       "    }\n",
       "\n",
       "    .dataframe thead th {\n",
       "        text-align: right;\n",
       "    }\n",
       "</style>\n",
       "<table border=\"1\" class=\"dataframe\">\n",
       "  <thead>\n",
       "    <tr style=\"text-align: right;\">\n",
       "      <th></th>\n",
       "      <th>Year</th>\n",
       "      <th>Country of origin</th>\n",
       "      <th>Country of origin (ISO)</th>\n",
       "      <th>Country of asylum</th>\n",
       "      <th>Country of asylum (ISO)</th>\n",
       "      <th>Refugees under UNHCR's mandate</th>\n",
       "      <th>Asylum-seekers</th>\n",
       "      <th>IDPs of concern to UNHCR</th>\n",
       "      <th>Other people in need of international protection</th>\n",
       "      <th>Stateless persons</th>\n",
       "      <th>Host Community</th>\n",
       "      <th>Others of concern</th>\n",
       "    </tr>\n",
       "  </thead>\n",
       "  <tbody>\n",
       "    <tr>\n",
       "      <th>0</th>\n",
       "      <td>2023</td>\n",
       "      <td>Philippines</td>\n",
       "      <td>PHL</td>\n",
       "      <td>Poland</td>\n",
       "      <td>POL</td>\n",
       "      <td>5</td>\n",
       "      <td>0</td>\n",
       "      <td>0</td>\n",
       "      <td>-</td>\n",
       "      <td>0</td>\n",
       "      <td>0</td>\n",
       "      <td>0</td>\n",
       "    </tr>\n",
       "    <tr>\n",
       "      <th>1</th>\n",
       "      <td>2023</td>\n",
       "      <td>South Africa</td>\n",
       "      <td>ZAF</td>\n",
       "      <td>Poland</td>\n",
       "      <td>POL</td>\n",
       "      <td>6</td>\n",
       "      <td>0</td>\n",
       "      <td>0</td>\n",
       "      <td>-</td>\n",
       "      <td>0</td>\n",
       "      <td>0</td>\n",
       "      <td>0</td>\n",
       "    </tr>\n",
       "    <tr>\n",
       "      <th>2</th>\n",
       "      <td>2023</td>\n",
       "      <td>Russian Federation</td>\n",
       "      <td>RUS</td>\n",
       "      <td>Poland</td>\n",
       "      <td>POL</td>\n",
       "      <td>2284</td>\n",
       "      <td>1102</td>\n",
       "      <td>0</td>\n",
       "      <td>-</td>\n",
       "      <td>0</td>\n",
       "      <td>0</td>\n",
       "      <td>0</td>\n",
       "    </tr>\n",
       "    <tr>\n",
       "      <th>3</th>\n",
       "      <td>2023</td>\n",
       "      <td>Rwanda</td>\n",
       "      <td>RWA</td>\n",
       "      <td>Poland</td>\n",
       "      <td>POL</td>\n",
       "      <td>5</td>\n",
       "      <td>0</td>\n",
       "      <td>0</td>\n",
       "      <td>-</td>\n",
       "      <td>0</td>\n",
       "      <td>0</td>\n",
       "      <td>0</td>\n",
       "    </tr>\n",
       "    <tr>\n",
       "      <th>4</th>\n",
       "      <td>2023</td>\n",
       "      <td>Serbia and Kosovo: S/RES/1244 (1999)</td>\n",
       "      <td>SRB</td>\n",
       "      <td>Poland</td>\n",
       "      <td>POL</td>\n",
       "      <td>5</td>\n",
       "      <td>0</td>\n",
       "      <td>0</td>\n",
       "      <td>-</td>\n",
       "      <td>0</td>\n",
       "      <td>0</td>\n",
       "      <td>0</td>\n",
       "    </tr>\n",
       "  </tbody>\n",
       "</table>\n",
       "</div>"
      ],
      "text/plain": [
       "   Year                     Country of origin Country of origin (ISO)  \\\n",
       "0  2023                           Philippines                     PHL   \n",
       "1  2023                          South Africa                     ZAF   \n",
       "2  2023                    Russian Federation                     RUS   \n",
       "3  2023                                Rwanda                     RWA   \n",
       "4  2023  Serbia and Kosovo: S/RES/1244 (1999)                     SRB   \n",
       "\n",
       "  Country of asylum Country of asylum (ISO)  Refugees under UNHCR's mandate  \\\n",
       "0            Poland                     POL                               5   \n",
       "1            Poland                     POL                               6   \n",
       "2            Poland                     POL                            2284   \n",
       "3            Poland                     POL                               5   \n",
       "4            Poland                     POL                               5   \n",
       "\n",
       "   Asylum-seekers  IDPs of concern to UNHCR  \\\n",
       "0               0                         0   \n",
       "1               0                         0   \n",
       "2            1102                         0   \n",
       "3               0                         0   \n",
       "4               0                         0   \n",
       "\n",
       "  Other people in need of international protection  Stateless persons  \\\n",
       "0                                                -                  0   \n",
       "1                                                -                  0   \n",
       "2                                                -                  0   \n",
       "3                                                -                  0   \n",
       "4                                                -                  0   \n",
       "\n",
       "  Host Community  Others of concern  \n",
       "0              0                  0  \n",
       "1              0                  0  \n",
       "2              0                  0  \n",
       "3              0                  0  \n",
       "4              0                  0  "
      ]
     },
     "execution_count": 27,
     "metadata": {},
     "output_type": "execute_result"
    }
   ],
   "source": [
    "population.head()"
   ]
  },
  {
   "cell_type": "markdown",
   "metadata": {},
   "source": [
    "Refugees include individuals recognized under the 1951 Convention relating to the Status of Refugees, its 1967 Protocol, the 1969 Organization of African Unity (OAU) Convention Governing the Specific Aspects of Refugee Problems in Africa, the refugee definition contained in the 1984 Cartagena Declaration on Refugees as incorporated into national laws, those recognized in accordance with the UNHCR Statute, individuals granted complementary forms of protection, and those enjoying temporary protection. The refugee population also includes people in refugee-like situations.<br>\n",
    "\n",
    "Asylum-seekers are individuals who have sought international protection and whose claims for refugee status have not yet been determined. <br>\n",
    "\n",
    "Internally displaced persons (IDPs) are persons or groups of persons who have been forced or obliged to flee or to leave their homes or places of habitual residence, in particular as a result of, or in order to avoid the effects of armed conflict, situations of generalized violence, violations of human rights or natural or human-made disasters, and who have not crossed an internationally recognized State border. For the purposes of UNHCR’s statistics, this population includes only conflict-generated IDPs to whom the Office extends protection and/or assistance. The IDP population also includes people in an IDP-like situation.<br>\n",
    "\n",
    "Other people in need of international protection refers to people who are outside their country or territory of origin, typically because they have been forcibly displaced across international borders, who have not been reported under other categories (asylum-seekers, refugees, people in refugee-like situations) but who likely need international protection, including protection against forced return, as well as access to basic services on a temporary or longer-term basis.<br>\n",
    "\n",
    "Stateless People as those not considered as nationals by any State under the operation of its law. In other words, they do not possess the nationality of any State. UNHCR statistics refer to people who fall under the organization’s statelessness mandate as those who are stateless according to this international definition. Data from some countries may also include people with undetermined nationality. These are people who lack proof of possession of any nationality and at the same time have or are regarded as having important links to more than one State. UNHCR also works with populations at risk of statelessness, but persons at risk of statelessness are not reported on under the statistical category of individuals under UNHCR’s statelessness mandate.<br>\n",
    "\n",
    "Host community refers to a community that hosts large populations of refugees or internally displaced persons, whether in camps, integrated into households, or independently. UNHCR reports on host communities in countries with substantive programmes focusing on sharing the burden of hosting large refugee populations, as set out in the Global Compact on Refugees.<br>\n",
    "\n",
    "Other groups or persons of concern refers to individuals who do not necessarily fall directly into any of these groups above but to whom UNHCR has extended its protection and/or assistance services, based on humanitarian or other special grounds."
   ]
  },
  {
   "cell_type": "code",
   "execution_count": 28,
   "metadata": {},
   "outputs": [
    {
     "data": {
      "text/plain": [
       "Year                                                0\n",
       "Country of origin                                   0\n",
       "Country of origin (ISO)                             0\n",
       "Country of asylum                                   0\n",
       "Country of asylum (ISO)                             0\n",
       "Refugees under UNHCR's mandate                      0\n",
       "Asylum-seekers                                      0\n",
       "IDPs of concern to UNHCR                            0\n",
       "Other people in need of international protection    0\n",
       "Stateless persons                                   0\n",
       "Host Community                                      0\n",
       "Others of concern                                   0\n",
       "dtype: int64"
      ]
     },
     "execution_count": 28,
     "metadata": {},
     "output_type": "execute_result"
    }
   ],
   "source": [
    "population.isnull().sum()   "
   ]
  },
  {
   "cell_type": "code",
   "execution_count": 29,
   "metadata": {},
   "outputs": [
    {
     "data": {
      "text/plain": [
       "Country of asylum\n",
       "Thailand              14138030\n",
       "Myanmar               13276638\n",
       "Cote d'Ivoire          9581213\n",
       "Nepal                  7801762\n",
       "Bangladesh             7192879\n",
       "Latvia                 5746592\n",
       "Syrian Arab Rep.       4312000\n",
       "Estonia                1891145\n",
       "Iraq                   1840197\n",
       "Kuwait                 1819106\n",
       "Russian Federation     1706567\n",
       "Saudi Arabia           1330000\n",
       "Malaysia                924003\n",
       "Ukraine                 889671\n",
       "Uzbekistan              683372\n",
       "Kenya                   662657\n",
       "Dominican Rep.          553770\n",
       "Sweden                  475381\n",
       "Cambodia                397332\n",
       "Viet Nam                335900\n",
       "Name: Stateless persons, dtype: int64"
      ]
     },
     "execution_count": 29,
     "metadata": {},
     "output_type": "execute_result"
    }
   ],
   "source": [
    "# No eliminar stateless person sino agrupar por pais de asilo. Vamos a ver si las personas viajan a paises cercanos y así podemos deducir que los refugiados stateless provienen en su gran mayoría de ciertas áreas. \n",
    "#agrupar por pais de origen y sumar los stateless persons \n",
    "population.groupby(['Country of asylum'])['Stateless persons'].sum().nlargest(20)"
   ]
  },
  {
   "cell_type": "code",
   "execution_count": 30,
   "metadata": {},
   "outputs": [
    {
     "data": {
      "text/plain": [
       "array(['0', '12002', '49305', '454831', '15765482', '2581900', '7576',\n",
       "       '1700', '401356', '1400000', '14521', '3365', '827077', '81620',\n",
       "       '174850', '13666', '83995', '876000', '3051', '947281', '1038257',\n",
       "       '406161', '1224393', '96800', '2155', '617687', '81619', '5480',\n",
       "       '1102358', '640', '11972', '85061', '371594', '15209720', '5433',\n",
       "       '9346', '596148', '4200', '878451', '-', '3581', '500353', '8165',\n",
       "       '391', '250000', '4605', '2428906', '4020', '6000', '5226',\n",
       "       '110526', '741889', '1863', '1301', '84953', '5892', '494710',\n",
       "       '68880', '9201', '26596', '154150', '472000', '44000', '2351313',\n",
       "       '2304506'], dtype=object)"
      ]
     },
     "execution_count": 30,
     "metadata": {},
     "output_type": "execute_result"
    }
   ],
   "source": [
    "population['Host Community'].unique()"
   ]
  },
  {
   "cell_type": "code",
   "execution_count": 31,
   "metadata": {},
   "outputs": [
    {
     "data": {
      "text/plain": [
       "<Axes: xlabel='Year'>"
      ]
     },
     "execution_count": 31,
     "metadata": {},
     "output_type": "execute_result"
    },
    {
     "data": {
      "image/png": "[encoded data removed]",
      "text/plain": [
       "<Figure size 640x480 with 1 Axes>"
      ]
     },
     "metadata": {},
     "output_type": "display_data"
    }
   ],
   "source": [
    "#quiero ver como evoluciona el numero de refugiados en el tiempo en una grafica de linea\n",
    "population.groupby(['Year'])['Asylum-seekers'].sum().plot(kind='line')\n",
    "\n",
    "#No había datos de asylum seekers hasta el año 1990 y algo?"
   ]
  },
  {
   "cell_type": "code",
   "execution_count": 32,
   "metadata": {},
   "outputs": [
    {
     "data": {
      "text/plain": [
       "<Axes: xlabel='Year'>"
      ]
     },
     "execution_count": 32,
     "metadata": {},
     "output_type": "execute_result"
    },
    {
     "data": {
      "image/png": "[encoded data removed]",
      "text/plain": [
       "<Figure size 640x480 with 1 Axes>"
      ]
     },
     "metadata": {},
     "output_type": "display_data"
    }
   ],
   "source": [
    "population.groupby(['Year'])['Refugees under UNHCR\\'s mandate'].sum().plot(kind='line')"
   ]
  },
  {
   "cell_type": "code",
   "execution_count": 33,
   "metadata": {},
   "outputs": [
    {
     "data": {
      "text/plain": [
       "<Axes: xlabel='Year'>"
      ]
     },
     "execution_count": 33,
     "metadata": {},
     "output_type": "execute_result"
    },
    {
     "data": {
      "image/png": "[encoded data removed]",
      "text/plain": [
       "<Figure size 640x480 with 1 Axes>"
      ]
     },
     "metadata": {},
     "output_type": "display_data"
    }
   ],
   "source": [
    "population.groupby(['Year'])['Others of concern'].sum().plot(kind='line')"
   ]
  },
  {
   "cell_type": "code",
   "execution_count": 34,
   "metadata": {},
   "outputs": [
    {
     "data": {
      "text/plain": [
       "array(['-', '10878', '23628', '17000', '14000', '51156', '146559', '311',\n",
       "       '980470', '214771', '15428', '310148', '436060', '2452890',\n",
       "       '18900', '114805', '495481', '19635', '53027', '146696', '1004',\n",
       "       '969817', '165174', '13531', '264040', '436845', '2453862',\n",
       "       '16598', '14178', '23023', '113722', '495304', '128000', '1910',\n",
       "       '791442', '60', '8403', '14995', '5', '25', '175992', '92',\n",
       "       '500271', '1842390', '21766', '116000', '503882', '234', '1469',\n",
       "       '25800', '164622', '11805', '67', '63179', '81847', '118937',\n",
       "       '2879', '515039', '19', '171659', '9557', '163754', '39', '454547',\n",
       "       '1729537', '22401', '114050', '401777', '23307', '4663', '14063',\n",
       "       '14', '21', '16691', '38', '11', '16602', '16190', '115768',\n",
       "       '3588', '377864', '7664', '14362', '5472', '123507', '52',\n",
       "       '452712', '1771237', '20828', '33816', '374045', '173343', '22000',\n",
       "       '121', '52982', '42104', '94400', '803', '428214', '127152',\n",
       "       '39771', '285122', '1171552', '26428', '256265', '36400', '31843',\n",
       "       '11605', '15602', '25686'], dtype=object)"
      ]
     },
     "execution_count": 34,
     "metadata": {},
     "output_type": "execute_result"
    }
   ],
   "source": [
    "population['Other people in need of international protection'].unique() "
   ]
  },
  {
   "cell_type": "code",
   "execution_count": null,
   "metadata": {},
   "outputs": [],
   "source": [
    "\n",
    "\n"
   ]
  },
  {
   "cell_type": "code",
   "execution_count": 35,
   "metadata": {},
   "outputs": [
    {
     "data": {
      "text/plain": [
       "0.0"
      ]
     },
     "execution_count": 35,
     "metadata": {},
     "output_type": "execute_result"
    }
   ],
   "source": [
    "population['Other people in need of international protection'].isnull().mean() "
   ]
  },
  {
   "cell_type": "code",
   "execution_count": 36,
   "metadata": {},
   "outputs": [
    {
     "data": {
      "text/html": [
       "<div>\n",
       "<style scoped>\n",
       "    .dataframe tbody tr th:only-of-type {\n",
       "        vertical-align: middle;\n",
       "    }\n",
       "\n",
       "    .dataframe tbody tr th {\n",
       "        vertical-align: top;\n",
       "    }\n",
       "\n",
       "    .dataframe thead th {\n",
       "        text-align: right;\n",
       "    }\n",
       "</style>\n",
       "<table border=\"1\" class=\"dataframe\">\n",
       "  <thead>\n",
       "    <tr style=\"text-align: right;\">\n",
       "      <th></th>\n",
       "      <th>Year</th>\n",
       "      <th>Country of origin</th>\n",
       "      <th>Country of origin (ISO)</th>\n",
       "      <th>Country of asylum</th>\n",
       "      <th>Country of asylum (ISO)</th>\n",
       "      <th>Refugees under UNHCR's mandate</th>\n",
       "      <th>Asylum-seekers</th>\n",
       "      <th>IDPs of concern to UNHCR</th>\n",
       "      <th>Other people in need of international protection</th>\n",
       "      <th>Stateless persons</th>\n",
       "      <th>Host Community</th>\n",
       "      <th>Others of concern</th>\n",
       "    </tr>\n",
       "  </thead>\n",
       "  <tbody>\n",
       "    <tr>\n",
       "      <th>0</th>\n",
       "      <td>2023</td>\n",
       "      <td>Philippines</td>\n",
       "      <td>PHL</td>\n",
       "      <td>Poland</td>\n",
       "      <td>POL</td>\n",
       "      <td>5</td>\n",
       "      <td>0</td>\n",
       "      <td>0</td>\n",
       "      <td>0</td>\n",
       "      <td>0</td>\n",
       "      <td>0</td>\n",
       "      <td>0</td>\n",
       "    </tr>\n",
       "    <tr>\n",
       "      <th>1</th>\n",
       "      <td>2023</td>\n",
       "      <td>South Africa</td>\n",
       "      <td>ZAF</td>\n",
       "      <td>Poland</td>\n",
       "      <td>POL</td>\n",
       "      <td>6</td>\n",
       "      <td>0</td>\n",
       "      <td>0</td>\n",
       "      <td>0</td>\n",
       "      <td>0</td>\n",
       "      <td>0</td>\n",
       "      <td>0</td>\n",
       "    </tr>\n",
       "    <tr>\n",
       "      <th>2</th>\n",
       "      <td>2023</td>\n",
       "      <td>Russian Federation</td>\n",
       "      <td>RUS</td>\n",
       "      <td>Poland</td>\n",
       "      <td>POL</td>\n",
       "      <td>2284</td>\n",
       "      <td>1102</td>\n",
       "      <td>0</td>\n",
       "      <td>0</td>\n",
       "      <td>0</td>\n",
       "      <td>0</td>\n",
       "      <td>0</td>\n",
       "    </tr>\n",
       "    <tr>\n",
       "      <th>3</th>\n",
       "      <td>2023</td>\n",
       "      <td>Rwanda</td>\n",
       "      <td>RWA</td>\n",
       "      <td>Poland</td>\n",
       "      <td>POL</td>\n",
       "      <td>5</td>\n",
       "      <td>0</td>\n",
       "      <td>0</td>\n",
       "      <td>0</td>\n",
       "      <td>0</td>\n",
       "      <td>0</td>\n",
       "      <td>0</td>\n",
       "    </tr>\n",
       "    <tr>\n",
       "      <th>4</th>\n",
       "      <td>2023</td>\n",
       "      <td>Serbia and Kosovo: S/RES/1244 (1999)</td>\n",
       "      <td>SRB</td>\n",
       "      <td>Poland</td>\n",
       "      <td>POL</td>\n",
       "      <td>5</td>\n",
       "      <td>0</td>\n",
       "      <td>0</td>\n",
       "      <td>0</td>\n",
       "      <td>0</td>\n",
       "      <td>0</td>\n",
       "      <td>0</td>\n",
       "    </tr>\n",
       "    <tr>\n",
       "      <th>...</th>\n",
       "      <td>...</td>\n",
       "      <td>...</td>\n",
       "      <td>...</td>\n",
       "      <td>...</td>\n",
       "      <td>...</td>\n",
       "      <td>...</td>\n",
       "      <td>...</td>\n",
       "      <td>...</td>\n",
       "      <td>...</td>\n",
       "      <td>...</td>\n",
       "      <td>...</td>\n",
       "      <td>...</td>\n",
       "    </tr>\n",
       "    <tr>\n",
       "      <th>125684</th>\n",
       "      <td>1951</td>\n",
       "      <td>Unknown</td>\n",
       "      <td>UNK</td>\n",
       "      <td>Switzerland</td>\n",
       "      <td>CHE</td>\n",
       "      <td>10000</td>\n",
       "      <td>0</td>\n",
       "      <td>0</td>\n",
       "      <td>0</td>\n",
       "      <td>0</td>\n",
       "      <td>-</td>\n",
       "      <td>0</td>\n",
       "    </tr>\n",
       "    <tr>\n",
       "      <th>125685</th>\n",
       "      <td>1951</td>\n",
       "      <td>Unknown</td>\n",
       "      <td>UNK</td>\n",
       "      <td>Tunisia</td>\n",
       "      <td>TUN</td>\n",
       "      <td>2000</td>\n",
       "      <td>0</td>\n",
       "      <td>0</td>\n",
       "      <td>0</td>\n",
       "      <td>0</td>\n",
       "      <td>-</td>\n",
       "      <td>0</td>\n",
       "    </tr>\n",
       "    <tr>\n",
       "      <th>125686</th>\n",
       "      <td>1951</td>\n",
       "      <td>Unknown</td>\n",
       "      <td>UNK</td>\n",
       "      <td>Türkiye</td>\n",
       "      <td>TUR</td>\n",
       "      <td>2700</td>\n",
       "      <td>0</td>\n",
       "      <td>0</td>\n",
       "      <td>0</td>\n",
       "      <td>0</td>\n",
       "      <td>-</td>\n",
       "      <td>0</td>\n",
       "    </tr>\n",
       "    <tr>\n",
       "      <th>125687</th>\n",
       "      <td>1951</td>\n",
       "      <td>Unknown</td>\n",
       "      <td>UNK</td>\n",
       "      <td>United States of America</td>\n",
       "      <td>USA</td>\n",
       "      <td>350000</td>\n",
       "      <td>0</td>\n",
       "      <td>0</td>\n",
       "      <td>0</td>\n",
       "      <td>0</td>\n",
       "      <td>-</td>\n",
       "      <td>0</td>\n",
       "    </tr>\n",
       "    <tr>\n",
       "      <th>125688</th>\n",
       "      <td>1951</td>\n",
       "      <td>Unknown</td>\n",
       "      <td>UNK</td>\n",
       "      <td>Unknown</td>\n",
       "      <td>UNK</td>\n",
       "      <td>158800</td>\n",
       "      <td>0</td>\n",
       "      <td>0</td>\n",
       "      <td>0</td>\n",
       "      <td>0</td>\n",
       "      <td>-</td>\n",
       "      <td>0</td>\n",
       "    </tr>\n",
       "  </tbody>\n",
       "</table>\n",
       "<p>125689 rows × 12 columns</p>\n",
       "</div>"
      ],
      "text/plain": [
       "        Year                     Country of origin Country of origin (ISO)  \\\n",
       "0       2023                           Philippines                     PHL   \n",
       "1       2023                          South Africa                     ZAF   \n",
       "2       2023                    Russian Federation                     RUS   \n",
       "3       2023                                Rwanda                     RWA   \n",
       "4       2023  Serbia and Kosovo: S/RES/1244 (1999)                     SRB   \n",
       "...      ...                                   ...                     ...   \n",
       "125684  1951                              Unknown                      UNK   \n",
       "125685  1951                              Unknown                      UNK   \n",
       "125686  1951                              Unknown                      UNK   \n",
       "125687  1951                              Unknown                      UNK   \n",
       "125688  1951                              Unknown                      UNK   \n",
       "\n",
       "               Country of asylum Country of asylum (ISO)  \\\n",
       "0                         Poland                     POL   \n",
       "1                         Poland                     POL   \n",
       "2                         Poland                     POL   \n",
       "3                         Poland                     POL   \n",
       "4                         Poland                     POL   \n",
       "...                          ...                     ...   \n",
       "125684               Switzerland                     CHE   \n",
       "125685                   Tunisia                     TUN   \n",
       "125686                   Türkiye                     TUR   \n",
       "125687  United States of America                     USA   \n",
       "125688                  Unknown                      UNK   \n",
       "\n",
       "        Refugees under UNHCR's mandate  Asylum-seekers  \\\n",
       "0                                    5               0   \n",
       "1                                    6               0   \n",
       "2                                 2284            1102   \n",
       "3                                    5               0   \n",
       "4                                    5               0   \n",
       "...                                ...             ...   \n",
       "125684                           10000               0   \n",
       "125685                            2000               0   \n",
       "125686                            2700               0   \n",
       "125687                          350000               0   \n",
       "125688                          158800               0   \n",
       "\n",
       "        IDPs of concern to UNHCR  \\\n",
       "0                              0   \n",
       "1                              0   \n",
       "2                              0   \n",
       "3                              0   \n",
       "4                              0   \n",
       "...                          ...   \n",
       "125684                         0   \n",
       "125685                         0   \n",
       "125686                         0   \n",
       "125687                         0   \n",
       "125688                         0   \n",
       "\n",
       "        Other people in need of international protection  Stateless persons  \\\n",
       "0                                                      0                  0   \n",
       "1                                                      0                  0   \n",
       "2                                                      0                  0   \n",
       "3                                                      0                  0   \n",
       "4                                                      0                  0   \n",
       "...                                                  ...                ...   \n",
       "125684                                                 0                  0   \n",
       "125685                                                 0                  0   \n",
       "125686                                                 0                  0   \n",
       "125687                                                 0                  0   \n",
       "125688                                                 0                  0   \n",
       "\n",
       "       Host Community  Others of concern  \n",
       "0                   0                  0  \n",
       "1                   0                  0  \n",
       "2                   0                  0  \n",
       "3                   0                  0  \n",
       "4                   0                  0  \n",
       "...               ...                ...  \n",
       "125684              -                  0  \n",
       "125685              -                  0  \n",
       "125686              -                  0  \n",
       "125687              -                  0  \n",
       "125688              -                  0  \n",
       "\n",
       "[125689 rows x 12 columns]"
      ]
     },
     "execution_count": 36,
     "metadata": {},
     "output_type": "execute_result"
    }
   ],
   "source": [
    "\n",
    "#reemplazar los valores '-' por np.nan en la columna 'Other people in need of international protection'\n",
    "population['Other people in need of international protection'] = population['Other people in need of international protection'].replace('-', 0).astype(int)\n",
    "population"
   ]
  },
  {
   "cell_type": "code",
   "execution_count": 37,
   "metadata": {},
   "outputs": [
    {
     "data": {
      "text/plain": [
       "Index(['Year', 'Country of origin', 'Country of origin (ISO)',\n",
       "       'Country of asylum', 'Country of asylum (ISO)',\n",
       "       'Refugees under UNHCR's mandate', 'Asylum-seekers',\n",
       "       'IDPs of concern to UNHCR',\n",
       "       'Other people in need of international protection', 'Stateless persons',\n",
       "       'Host Community', 'Others of concern'],\n",
       "      dtype='object')"
      ]
     },
     "execution_count": 37,
     "metadata": {},
     "output_type": "execute_result"
    }
   ],
   "source": [
    "population.columns"
   ]
  },
  {
   "cell_type": "code",
   "execution_count": 38,
   "metadata": {},
   "outputs": [
    {
     "data": {
      "text/plain": [
       "0         98.099277\n",
       "5          0.290399\n",
       "6          0.064445\n",
       "7          0.046146\n",
       "10         0.040576\n",
       "            ...    \n",
       "497        0.000796\n",
       "129445     0.000796\n",
       "1747       0.000796\n",
       "2941       0.000796\n",
       "600        0.000796\n",
       "Name: Others of concern, Length: 930, dtype: float64"
      ]
     },
     "execution_count": 38,
     "metadata": {},
     "output_type": "execute_result"
    }
   ],
   "source": [
    "#quiero calcular el porcentaje  de 0s en other of concern\n",
    "population['Others of concern'].value_counts(normalize=True) * 100\n",
    "\n",
    "#Un 98% de los valores de others of concern son 0. Elimino la columna."
   ]
  },
  {
   "cell_type": "code",
   "execution_count": 39,
   "metadata": {},
   "outputs": [
    {
     "name": "stdout",
     "output_type": "stream",
     "text": [
      "<class 'pandas.core.frame.DataFrame'>\n",
      "RangeIndex: 125689 entries, 0 to 125688\n",
      "Data columns (total 12 columns):\n",
      " #   Column                                            Non-Null Count   Dtype \n",
      "---  ------                                            --------------   ----- \n",
      " 0   Year                                              125689 non-null  int64 \n",
      " 1   Country of origin                                 125689 non-null  object\n",
      " 2   Country of origin (ISO)                           125689 non-null  object\n",
      " 3   Country of asylum                                 125689 non-null  object\n",
      " 4   Country of asylum (ISO)                           125689 non-null  object\n",
      " 5   Refugees under UNHCR's mandate                    125689 non-null  int64 \n",
      " 6   Asylum-seekers                                    125689 non-null  int64 \n",
      " 7   IDPs of concern to UNHCR                          125689 non-null  int64 \n",
      " 8   Other people in need of international protection  125689 non-null  int32 \n",
      " 9   Stateless persons                                 125689 non-null  int64 \n",
      " 10  Host Community                                    125689 non-null  object\n",
      " 11  Others of concern                                 125689 non-null  int64 \n",
      "dtypes: int32(1), int64(6), object(5)\n",
      "memory usage: 11.0+ MB\n"
     ]
    }
   ],
   "source": [
    "population.info()"
   ]
  },
  {
   "cell_type": "code",
   "execution_count": 40,
   "metadata": {},
   "outputs": [],
   "source": [
    "# hacer una nueva columna que sea la suma de los diferentes tipos tipos de refugiados\n",
    "population['Total forced displacements'] = population['Refugees under UNHCR\\'s mandate'] + population['Asylum-seekers'] + population['IDPs of concern to UNHCR']+population['Others of concern']+population['Other people in need of international protection']"
   ]
  },
  {
   "cell_type": "code",
   "execution_count": 41,
   "metadata": {},
   "outputs": [
    {
     "data": {
      "text/plain": [
       "<Axes: xlabel='Year'>"
      ]
     },
     "execution_count": 41,
     "metadata": {},
     "output_type": "execute_result"
    },
    {
     "data": {
      "image/png": "[encoded data removed]",
      "text/plain": [
       "<Figure size 640x480 with 1 Axes>"
      ]
     },
     "metadata": {},
     "output_type": "display_data"
    }
   ],
   "source": [
    "population.groupby(['Year'])['Total forced displacements'].sum().plot(kind='line')"
   ]
  },
  {
   "cell_type": "code",
   "execution_count": 42,
   "metadata": {},
   "outputs": [
    {
     "data": {
      "text/html": [
       "<div>\n",
       "<style scoped>\n",
       "    .dataframe tbody tr th:only-of-type {\n",
       "        vertical-align: middle;\n",
       "    }\n",
       "\n",
       "    .dataframe tbody tr th {\n",
       "        vertical-align: top;\n",
       "    }\n",
       "\n",
       "    .dataframe thead th {\n",
       "        text-align: right;\n",
       "    }\n",
       "</style>\n",
       "<table border=\"1\" class=\"dataframe\">\n",
       "  <thead>\n",
       "    <tr style=\"text-align: right;\">\n",
       "      <th></th>\n",
       "      <th>Year</th>\n",
       "      <th>Country of origin</th>\n",
       "      <th>Country of origin (ISO)</th>\n",
       "      <th>Country of asylum</th>\n",
       "      <th>Country of asylum (ISO)</th>\n",
       "      <th>Refugees under UNHCR's mandate</th>\n",
       "      <th>Asylum-seekers</th>\n",
       "      <th>IDPs of concern to UNHCR</th>\n",
       "      <th>Other people in need of international protection</th>\n",
       "      <th>Stateless persons</th>\n",
       "      <th>Host Community</th>\n",
       "      <th>Others of concern</th>\n",
       "      <th>Total forced displacements</th>\n",
       "    </tr>\n",
       "  </thead>\n",
       "  <tbody>\n",
       "    <tr>\n",
       "      <th>109286</th>\n",
       "      <td>1999</td>\n",
       "      <td>Unknown</td>\n",
       "      <td>UNK</td>\n",
       "      <td>Unknown</td>\n",
       "      <td>UNK</td>\n",
       "      <td>0</td>\n",
       "      <td>1027400</td>\n",
       "      <td>0</td>\n",
       "      <td>0</td>\n",
       "      <td>0</td>\n",
       "      <td>-</td>\n",
       "      <td>0</td>\n",
       "      <td>1027400</td>\n",
       "    </tr>\n",
       "    <tr>\n",
       "      <th>111621</th>\n",
       "      <td>1998</td>\n",
       "      <td>Unknown</td>\n",
       "      <td>UNK</td>\n",
       "      <td>Unknown</td>\n",
       "      <td>UNK</td>\n",
       "      <td>0</td>\n",
       "      <td>977800</td>\n",
       "      <td>0</td>\n",
       "      <td>0</td>\n",
       "      <td>0</td>\n",
       "      <td>-</td>\n",
       "      <td>0</td>\n",
       "      <td>977800</td>\n",
       "    </tr>\n",
       "    <tr>\n",
       "      <th>112761</th>\n",
       "      <td>1997</td>\n",
       "      <td>Unknown</td>\n",
       "      <td>UNK</td>\n",
       "      <td>Unknown</td>\n",
       "      <td>UNK</td>\n",
       "      <td>0</td>\n",
       "      <td>1028200</td>\n",
       "      <td>0</td>\n",
       "      <td>0</td>\n",
       "      <td>0</td>\n",
       "      <td>-</td>\n",
       "      <td>0</td>\n",
       "      <td>1028200</td>\n",
       "    </tr>\n",
       "    <tr>\n",
       "      <th>114372</th>\n",
       "      <td>1996</td>\n",
       "      <td>Unknown</td>\n",
       "      <td>UNK</td>\n",
       "      <td>Unknown</td>\n",
       "      <td>UNK</td>\n",
       "      <td>0</td>\n",
       "      <td>977087</td>\n",
       "      <td>0</td>\n",
       "      <td>0</td>\n",
       "      <td>0</td>\n",
       "      <td>-</td>\n",
       "      <td>0</td>\n",
       "      <td>977087</td>\n",
       "    </tr>\n",
       "    <tr>\n",
       "      <th>115995</th>\n",
       "      <td>1995</td>\n",
       "      <td>Unknown</td>\n",
       "      <td>UNK</td>\n",
       "      <td>Unknown</td>\n",
       "      <td>UNK</td>\n",
       "      <td>0</td>\n",
       "      <td>986458</td>\n",
       "      <td>0</td>\n",
       "      <td>0</td>\n",
       "      <td>0</td>\n",
       "      <td>-</td>\n",
       "      <td>0</td>\n",
       "      <td>986458</td>\n",
       "    </tr>\n",
       "    <tr>\n",
       "      <th>...</th>\n",
       "      <td>...</td>\n",
       "      <td>...</td>\n",
       "      <td>...</td>\n",
       "      <td>...</td>\n",
       "      <td>...</td>\n",
       "      <td>...</td>\n",
       "      <td>...</td>\n",
       "      <td>...</td>\n",
       "      <td>...</td>\n",
       "      <td>...</td>\n",
       "      <td>...</td>\n",
       "      <td>...</td>\n",
       "      <td>...</td>\n",
       "    </tr>\n",
       "    <tr>\n",
       "      <th>125609</th>\n",
       "      <td>1955</td>\n",
       "      <td>Unknown</td>\n",
       "      <td>UNK</td>\n",
       "      <td>Unknown</td>\n",
       "      <td>UNK</td>\n",
       "      <td>170900</td>\n",
       "      <td>0</td>\n",
       "      <td>0</td>\n",
       "      <td>0</td>\n",
       "      <td>0</td>\n",
       "      <td>-</td>\n",
       "      <td>0</td>\n",
       "      <td>170900</td>\n",
       "    </tr>\n",
       "    <tr>\n",
       "      <th>125630</th>\n",
       "      <td>1954</td>\n",
       "      <td>Unknown</td>\n",
       "      <td>UNK</td>\n",
       "      <td>Unknown</td>\n",
       "      <td>UNK</td>\n",
       "      <td>168000</td>\n",
       "      <td>0</td>\n",
       "      <td>0</td>\n",
       "      <td>0</td>\n",
       "      <td>0</td>\n",
       "      <td>-</td>\n",
       "      <td>0</td>\n",
       "      <td>168000</td>\n",
       "    </tr>\n",
       "    <tr>\n",
       "      <th>125648</th>\n",
       "      <td>1953</td>\n",
       "      <td>Unknown</td>\n",
       "      <td>UNK</td>\n",
       "      <td>Unknown</td>\n",
       "      <td>UNK</td>\n",
       "      <td>168000</td>\n",
       "      <td>0</td>\n",
       "      <td>0</td>\n",
       "      <td>0</td>\n",
       "      <td>0</td>\n",
       "      <td>-</td>\n",
       "      <td>0</td>\n",
       "      <td>168000</td>\n",
       "    </tr>\n",
       "    <tr>\n",
       "      <th>125666</th>\n",
       "      <td>1952</td>\n",
       "      <td>Unknown</td>\n",
       "      <td>UNK</td>\n",
       "      <td>Unknown</td>\n",
       "      <td>UNK</td>\n",
       "      <td>165000</td>\n",
       "      <td>0</td>\n",
       "      <td>0</td>\n",
       "      <td>0</td>\n",
       "      <td>0</td>\n",
       "      <td>-</td>\n",
       "      <td>0</td>\n",
       "      <td>165000</td>\n",
       "    </tr>\n",
       "    <tr>\n",
       "      <th>125688</th>\n",
       "      <td>1951</td>\n",
       "      <td>Unknown</td>\n",
       "      <td>UNK</td>\n",
       "      <td>Unknown</td>\n",
       "      <td>UNK</td>\n",
       "      <td>158800</td>\n",
       "      <td>0</td>\n",
       "      <td>0</td>\n",
       "      <td>0</td>\n",
       "      <td>0</td>\n",
       "      <td>-</td>\n",
       "      <td>0</td>\n",
       "      <td>158800</td>\n",
       "    </tr>\n",
       "  </tbody>\n",
       "</table>\n",
       "<p>62 rows × 13 columns</p>\n",
       "</div>"
      ],
      "text/plain": [
       "        Year Country of origin Country of origin (ISO) Country of asylum  \\\n",
       "109286  1999          Unknown                      UNK          Unknown    \n",
       "111621  1998          Unknown                      UNK          Unknown    \n",
       "112761  1997          Unknown                      UNK          Unknown    \n",
       "114372  1996          Unknown                      UNK          Unknown    \n",
       "115995  1995          Unknown                      UNK          Unknown    \n",
       "...      ...               ...                     ...               ...   \n",
       "125609  1955          Unknown                      UNK          Unknown    \n",
       "125630  1954          Unknown                      UNK          Unknown    \n",
       "125648  1953          Unknown                      UNK          Unknown    \n",
       "125666  1952          Unknown                      UNK          Unknown    \n",
       "125688  1951          Unknown                      UNK          Unknown    \n",
       "\n",
       "       Country of asylum (ISO)  Refugees under UNHCR's mandate  \\\n",
       "109286                     UNK                               0   \n",
       "111621                     UNK                               0   \n",
       "112761                     UNK                               0   \n",
       "114372                     UNK                               0   \n",
       "115995                     UNK                               0   \n",
       "...                        ...                             ...   \n",
       "125609                     UNK                          170900   \n",
       "125630                     UNK                          168000   \n",
       "125648                     UNK                          168000   \n",
       "125666                     UNK                          165000   \n",
       "125688                     UNK                          158800   \n",
       "\n",
       "        Asylum-seekers  IDPs of concern to UNHCR  \\\n",
       "109286         1027400                         0   \n",
       "111621          977800                         0   \n",
       "112761         1028200                         0   \n",
       "114372          977087                         0   \n",
       "115995          986458                         0   \n",
       "...                ...                       ...   \n",
       "125609               0                         0   \n",
       "125630               0                         0   \n",
       "125648               0                         0   \n",
       "125666               0                         0   \n",
       "125688               0                         0   \n",
       "\n",
       "        Other people in need of international protection  Stateless persons  \\\n",
       "109286                                                 0                  0   \n",
       "111621                                                 0                  0   \n",
       "112761                                                 0                  0   \n",
       "114372                                                 0                  0   \n",
       "115995                                                 0                  0   \n",
       "...                                                  ...                ...   \n",
       "125609                                                 0                  0   \n",
       "125630                                                 0                  0   \n",
       "125648                                                 0                  0   \n",
       "125666                                                 0                  0   \n",
       "125688                                                 0                  0   \n",
       "\n",
       "       Host Community  Others of concern  Total forced displacements  \n",
       "109286              -                  0                     1027400  \n",
       "111621              -                  0                      977800  \n",
       "112761              -                  0                     1028200  \n",
       "114372              -                  0                      977087  \n",
       "115995              -                  0                      986458  \n",
       "...               ...                ...                         ...  \n",
       "125609              -                  0                      170900  \n",
       "125630              -                  0                      168000  \n",
       "125648              -                  0                      168000  \n",
       "125666              -                  0                      165000  \n",
       "125688              -                  0                      158800  \n",
       "\n",
       "[62 rows x 13 columns]"
      ]
     },
     "execution_count": 42,
     "metadata": {},
     "output_type": "execute_result"
    }
   ],
   "source": [
    "population[population['Country of asylum (ISO)']=='UNK']"
   ]
  },
  {
   "cell_type": "code",
   "execution_count": 43,
   "metadata": {},
   "outputs": [],
   "source": [
    "continent = pd.read_csv('Data\\countryContinent.csv')\n",
    "continent = continent[['code_3', 'continent', 'sub_region']]"
   ]
  },
  {
   "cell_type": "code",
   "execution_count": 44,
   "metadata": {},
   "outputs": [
    {
     "data": {
      "text/html": [
       "<div>\n",
       "<style scoped>\n",
       "    .dataframe tbody tr th:only-of-type {\n",
       "        vertical-align: middle;\n",
       "    }\n",
       "\n",
       "    .dataframe tbody tr th {\n",
       "        vertical-align: top;\n",
       "    }\n",
       "\n",
       "    .dataframe thead th {\n",
       "        text-align: right;\n",
       "    }\n",
       "</style>\n",
       "<table border=\"1\" class=\"dataframe\">\n",
       "  <thead>\n",
       "    <tr style=\"text-align: right;\">\n",
       "      <th></th>\n",
       "      <th>code_3</th>\n",
       "      <th>continent</th>\n",
       "      <th>sub_region</th>\n",
       "    </tr>\n",
       "  </thead>\n",
       "  <tbody>\n",
       "    <tr>\n",
       "      <th>0</th>\n",
       "      <td>AFG</td>\n",
       "      <td>Asia</td>\n",
       "      <td>Southern Asia</td>\n",
       "    </tr>\n",
       "    <tr>\n",
       "      <th>1</th>\n",
       "      <td>ALA</td>\n",
       "      <td>Europe</td>\n",
       "      <td>Northern Europe</td>\n",
       "    </tr>\n",
       "    <tr>\n",
       "      <th>2</th>\n",
       "      <td>ALB</td>\n",
       "      <td>Europe</td>\n",
       "      <td>Southern Europe</td>\n",
       "    </tr>\n",
       "    <tr>\n",
       "      <th>3</th>\n",
       "      <td>DZA</td>\n",
       "      <td>Africa</td>\n",
       "      <td>Northern Africa</td>\n",
       "    </tr>\n",
       "    <tr>\n",
       "      <th>4</th>\n",
       "      <td>ASM</td>\n",
       "      <td>Oceania</td>\n",
       "      <td>Polynesia</td>\n",
       "    </tr>\n",
       "    <tr>\n",
       "      <th>...</th>\n",
       "      <td>...</td>\n",
       "      <td>...</td>\n",
       "      <td>...</td>\n",
       "    </tr>\n",
       "    <tr>\n",
       "      <th>244</th>\n",
       "      <td>WLF</td>\n",
       "      <td>Oceania</td>\n",
       "      <td>Polynesia</td>\n",
       "    </tr>\n",
       "    <tr>\n",
       "      <th>245</th>\n",
       "      <td>ESH</td>\n",
       "      <td>Africa</td>\n",
       "      <td>Northern Africa</td>\n",
       "    </tr>\n",
       "    <tr>\n",
       "      <th>246</th>\n",
       "      <td>YEM</td>\n",
       "      <td>Asia</td>\n",
       "      <td>Western Asia</td>\n",
       "    </tr>\n",
       "    <tr>\n",
       "      <th>247</th>\n",
       "      <td>ZMB</td>\n",
       "      <td>Africa</td>\n",
       "      <td>Eastern Africa</td>\n",
       "    </tr>\n",
       "    <tr>\n",
       "      <th>248</th>\n",
       "      <td>ZWE</td>\n",
       "      <td>Africa</td>\n",
       "      <td>Eastern Africa</td>\n",
       "    </tr>\n",
       "  </tbody>\n",
       "</table>\n",
       "<p>249 rows × 3 columns</p>\n",
       "</div>"
      ],
      "text/plain": [
       "    code_3 continent       sub_region\n",
       "0      AFG      Asia    Southern Asia\n",
       "1      ALA    Europe  Northern Europe\n",
       "2      ALB    Europe  Southern Europe\n",
       "3      DZA    Africa  Northern Africa\n",
       "4      ASM   Oceania        Polynesia\n",
       "..     ...       ...              ...\n",
       "244    WLF   Oceania        Polynesia\n",
       "245    ESH    Africa  Northern Africa\n",
       "246    YEM      Asia     Western Asia\n",
       "247    ZMB    Africa   Eastern Africa\n",
       "248    ZWE    Africa   Eastern Africa\n",
       "\n",
       "[249 rows x 3 columns]"
      ]
     },
     "execution_count": 44,
     "metadata": {},
     "output_type": "execute_result"
    }
   ],
   "source": [
    "continent\n",
    "#guardar como csv"
   ]
  },
  {
   "cell_type": "code",
   "execution_count": 45,
   "metadata": {},
   "outputs": [
    {
     "data": {
      "text/plain": [
       "False"
      ]
     },
     "execution_count": 45,
     "metadata": {},
     "output_type": "execute_result"
    }
   ],
   "source": [
    "#comprobar si la columna code_3 contiene los mismos valores que la columna Country of asylum (ISO)\n",
    "set(continent['code_3']) == set(population['Country of asylum (ISO)'])\n",
    "# Tiene más valores pero en principio todo concuerda. Porque hay un total de 193 paises en la columna country asylum y 250 en la columna code 3. "
   ]
  },
  {
   "cell_type": "code",
   "execution_count": 46,
   "metadata": {},
   "outputs": [],
   "source": [
    "# añadir nueva columna con el continente y subregion a population\n",
    "#primero creo un diccionario con los valores de code_3 como keys y continent y sub_region como values\n",
    "continent_dict = dict(zip(continent.code_3, continent.continent))\n"
   ]
  },
  {
   "cell_type": "code",
   "execution_count": 47,
   "metadata": {},
   "outputs": [
    {
     "data": {
      "text/plain": [
       "{'AFG': 'Asia',\n",
       " 'ALA': 'Europe',\n",
       " 'ALB': 'Europe',\n",
       " 'DZA': 'Africa',\n",
       " 'ASM': 'Oceania',\n",
       " 'AND': 'Europe',\n",
       " 'AGO': 'Africa',\n",
       " 'AIA': 'Americas',\n",
       " 'ATA': nan,\n",
       " 'ATG': 'Americas',\n",
       " 'ARG': 'Americas',\n",
       " 'ARM': 'Asia',\n",
       " 'ABW': 'Americas',\n",
       " 'AUS': 'Oceania',\n",
       " 'AUT': 'Europe',\n",
       " 'AZE': 'Asia',\n",
       " 'BHS': 'Americas',\n",
       " 'BHR': 'Asia',\n",
       " 'BGD': 'Asia',\n",
       " 'BRB': 'Americas',\n",
       " 'BLR': 'Europe',\n",
       " 'BEL': 'Europe',\n",
       " 'BLZ': 'Americas',\n",
       " 'BEN': 'Africa',\n",
       " 'BMU': 'Americas',\n",
       " 'BTN': 'Asia',\n",
       " 'BOL': 'Americas',\n",
       " 'BES': 'Americas',\n",
       " 'BIH': 'Europe',\n",
       " 'BWA': 'Africa',\n",
       " 'BVT': nan,\n",
       " 'BRA': 'Americas',\n",
       " 'IOT': nan,\n",
       " 'BRN': 'Asia',\n",
       " 'BGR': 'Europe',\n",
       " 'BFA': 'Africa',\n",
       " 'BDI': 'Africa',\n",
       " 'KHM': 'Asia',\n",
       " 'CMR': 'Africa',\n",
       " 'CAN': 'Americas',\n",
       " 'CPV': 'Africa',\n",
       " 'CYM': 'Americas',\n",
       " 'CAF': 'Africa',\n",
       " 'TCD': 'Africa',\n",
       " 'CHL': 'Americas',\n",
       " 'CHN': 'Asia',\n",
       " 'CXR': nan,\n",
       " 'CCK': nan,\n",
       " 'COL': 'Americas',\n",
       " 'COM': 'Africa',\n",
       " 'COG': 'Africa',\n",
       " 'COD': 'Africa',\n",
       " 'COK': 'Oceania',\n",
       " 'CRI': 'Americas',\n",
       " 'CIV': 'Africa',\n",
       " 'HRV': 'Europe',\n",
       " 'CUB': 'Americas',\n",
       " 'CUW': 'Americas',\n",
       " 'CYP': 'Asia',\n",
       " 'CZE': 'Europe',\n",
       " 'DNK': 'Europe',\n",
       " 'DJI': 'Africa',\n",
       " 'DMA': 'Americas',\n",
       " 'DOM': 'Americas',\n",
       " 'ECU': 'Americas',\n",
       " 'EGY': 'Africa',\n",
       " 'SLV': 'Americas',\n",
       " 'GNQ': 'Africa',\n",
       " 'ERI': 'Africa',\n",
       " 'EST': 'Europe',\n",
       " 'ETH': 'Africa',\n",
       " 'FLK': 'Americas',\n",
       " 'FRO': 'Europe',\n",
       " 'FJI': 'Oceania',\n",
       " 'FIN': 'Europe',\n",
       " 'FRA': 'Europe',\n",
       " 'GUF': 'Americas',\n",
       " 'PYF': 'Oceania',\n",
       " 'ATF': nan,\n",
       " 'GAB': 'Africa',\n",
       " 'GMB': 'Africa',\n",
       " 'GEO': 'Asia',\n",
       " 'DEU': 'Europe',\n",
       " 'GHA': 'Africa',\n",
       " 'GIB': 'Europe',\n",
       " 'GRC': 'Europe',\n",
       " 'GRL': 'Americas',\n",
       " 'GRD': 'Americas',\n",
       " 'GLP': 'Americas',\n",
       " 'GUM': 'Oceania',\n",
       " 'GTM': 'Americas',\n",
       " 'GGY': 'Europe',\n",
       " 'GIN': 'Africa',\n",
       " 'GNB': 'Africa',\n",
       " 'GUY': 'Americas',\n",
       " 'HTI': 'Americas',\n",
       " 'HMD': nan,\n",
       " 'VAT': 'Europe',\n",
       " 'HND': 'Americas',\n",
       " 'HKG': 'Asia',\n",
       " 'HUN': 'Europe',\n",
       " 'ISL': 'Europe',\n",
       " 'IND': 'Asia',\n",
       " 'IDN': 'Asia',\n",
       " 'IRN': 'Asia',\n",
       " 'IRQ': 'Asia',\n",
       " 'IRL': 'Europe',\n",
       " 'IMN': 'Europe',\n",
       " 'ISR': 'Asia',\n",
       " 'ITA': 'Europe',\n",
       " 'JAM': 'Americas',\n",
       " 'JPN': 'Asia',\n",
       " 'JEY': 'Europe',\n",
       " 'JOR': 'Asia',\n",
       " 'KAZ': 'Asia',\n",
       " 'KEN': 'Africa',\n",
       " 'KIR': 'Oceania',\n",
       " 'PRK': 'Asia',\n",
       " 'KOR': 'Asia',\n",
       " 'KWT': 'Asia',\n",
       " 'KGZ': 'Asia',\n",
       " 'LAO': 'Asia',\n",
       " 'LVA': 'Europe',\n",
       " 'LBN': 'Asia',\n",
       " 'LSO': 'Africa',\n",
       " 'LBR': 'Africa',\n",
       " 'LBY': 'Africa',\n",
       " 'LIE': 'Europe',\n",
       " 'LTU': 'Europe',\n",
       " 'LUX': 'Europe',\n",
       " 'MAC': 'Asia',\n",
       " 'MKD': 'Europe',\n",
       " 'MDG': 'Africa',\n",
       " 'MWI': 'Africa',\n",
       " 'MYS': 'Asia',\n",
       " 'MDV': 'Asia',\n",
       " 'MLI': 'Africa',\n",
       " 'MLT': 'Europe',\n",
       " 'MHL': 'Oceania',\n",
       " 'MTQ': 'Americas',\n",
       " 'MRT': 'Africa',\n",
       " 'MUS': 'Africa',\n",
       " 'MYT': 'Africa',\n",
       " 'MEX': 'Americas',\n",
       " 'FSM': 'Oceania',\n",
       " 'MDA': 'Europe',\n",
       " 'MCO': 'Europe',\n",
       " 'MNG': 'Asia',\n",
       " 'MNE': 'Europe',\n",
       " 'MSR': 'Americas',\n",
       " 'MAR': 'Africa',\n",
       " 'MOZ': 'Africa',\n",
       " 'MMR': 'Asia',\n",
       " 'NAM': 'Africa',\n",
       " 'NRU': 'Oceania',\n",
       " 'NPL': 'Asia',\n",
       " 'NLD': 'Europe',\n",
       " 'NCL': 'Oceania',\n",
       " 'NZL': 'Oceania',\n",
       " 'NIC': 'Americas',\n",
       " 'NER': 'Africa',\n",
       " 'NGA': 'Africa',\n",
       " 'NIU': 'Oceania',\n",
       " 'NFK': 'Oceania',\n",
       " 'MNP': 'Oceania',\n",
       " 'NOR': 'Europe',\n",
       " 'OMN': 'Asia',\n",
       " 'PAK': 'Asia',\n",
       " 'PLW': 'Oceania',\n",
       " 'PSE': 'Asia',\n",
       " 'PAN': 'Americas',\n",
       " 'PNG': 'Oceania',\n",
       " 'PRY': 'Americas',\n",
       " 'PER': 'Americas',\n",
       " 'PHL': 'Asia',\n",
       " 'PCN': 'Oceania',\n",
       " 'POL': 'Europe',\n",
       " 'PRT': 'Europe',\n",
       " 'PRI': 'Americas',\n",
       " 'QAT': 'Asia',\n",
       " 'REU': 'Africa',\n",
       " 'ROU': 'Europe',\n",
       " 'RUS': 'Europe',\n",
       " 'RWA': 'Africa',\n",
       " 'BLM': 'Americas',\n",
       " 'SHN': 'Africa',\n",
       " 'KNA': 'Americas',\n",
       " 'LCA': 'Americas',\n",
       " 'MAF': 'Americas',\n",
       " 'SPM': 'Americas',\n",
       " 'VCT': 'Americas',\n",
       " 'WSM': 'Oceania',\n",
       " 'SMR': 'Europe',\n",
       " 'STP': 'Africa',\n",
       " 'SAU': 'Asia',\n",
       " 'SEN': 'Africa',\n",
       " 'SRB': 'Europe',\n",
       " 'SYC': 'Africa',\n",
       " 'SLE': 'Africa',\n",
       " 'SGP': 'Asia',\n",
       " 'SXM': 'Americas',\n",
       " 'SVK': 'Europe',\n",
       " 'SVN': 'Europe',\n",
       " 'SLB': 'Oceania',\n",
       " 'SOM': 'Africa',\n",
       " 'ZAF': 'Africa',\n",
       " 'SGS': nan,\n",
       " 'SSD': 'Africa',\n",
       " 'ESP': 'Europe',\n",
       " 'LKA': 'Asia',\n",
       " 'SDN': 'Africa',\n",
       " 'SUR': 'Americas',\n",
       " 'SJM': 'Europe',\n",
       " 'SWZ': 'Africa',\n",
       " 'SWE': 'Europe',\n",
       " 'CHE': 'Europe',\n",
       " 'SYR': 'Asia',\n",
       " 'TWN': 'Asia',\n",
       " 'TJK': 'Asia',\n",
       " 'TZA': 'Africa',\n",
       " 'THA': 'Asia',\n",
       " 'TLS': 'Asia',\n",
       " 'TGO': 'Africa',\n",
       " 'TKL': 'Oceania',\n",
       " 'TON': 'Oceania',\n",
       " 'TTO': 'Americas',\n",
       " 'TUN': 'Africa',\n",
       " 'TUR': 'Asia',\n",
       " 'TKM': 'Asia',\n",
       " 'TCA': 'Americas',\n",
       " 'TUV': 'Oceania',\n",
       " 'UGA': 'Africa',\n",
       " 'UKR': 'Europe',\n",
       " 'ARE': 'Asia',\n",
       " 'GBR': 'Europe',\n",
       " 'USA': 'Americas',\n",
       " 'UMI': nan,\n",
       " 'URY': 'Americas',\n",
       " 'UZB': 'Asia',\n",
       " 'VUT': 'Oceania',\n",
       " 'VEN': 'Americas',\n",
       " 'VNM': 'Asia',\n",
       " 'VGB': 'Americas',\n",
       " 'VIR': 'Americas',\n",
       " 'WLF': 'Oceania',\n",
       " 'ESH': 'Africa',\n",
       " 'YEM': 'Asia',\n",
       " 'ZMB': 'Africa',\n",
       " 'ZWE': 'Africa'}"
      ]
     },
     "execution_count": 47,
     "metadata": {},
     "output_type": "execute_result"
    }
   ],
   "source": [
    "continent_dict"
   ]
  },
  {
   "cell_type": "code",
   "execution_count": 48,
   "metadata": {},
   "outputs": [],
   "source": [
    "#ahora creo una nueva columna en population que se llame continent y que tenga los valores de continent_dict\n",
    "population['Continent_of_Asylum'] = population['Country of asylum (ISO)'].map(continent_dict)"
   ]
  },
  {
   "cell_type": "code",
   "execution_count": 49,
   "metadata": {},
   "outputs": [
    {
     "data": {
      "text/plain": [
       "array(['UNK'], dtype=object)"
      ]
     },
     "execution_count": 49,
     "metadata": {},
     "output_type": "execute_result"
    }
   ],
   "source": [
    "#Comprobar los paises que tienen valores nulos en continent os asylum \n",
    "population[population['Continent_of_Asylum'].isnull()]['Country of asylum (ISO)'].unique()\n",
    "\n",
    "#UNK corresponde a Unknown por lo tanto, no hay ningún país sin continente asignado, así que perfecto. "
   ]
  },
  {
   "cell_type": "code",
   "execution_count": 50,
   "metadata": {},
   "outputs": [],
   "source": [
    "subregion_dict = dict(zip(continent.code_3, continent.sub_region))"
   ]
  },
  {
   "cell_type": "code",
   "execution_count": 51,
   "metadata": {},
   "outputs": [],
   "source": [
    "population['Sub_Region_of_Asylum'] = population['Country of asylum (ISO)'].map(subregion_dict)"
   ]
  },
  {
   "cell_type": "code",
   "execution_count": 52,
   "metadata": {},
   "outputs": [],
   "source": [
    "population['Continent_of_origin']=population['Country of origin (ISO)'].map(continent_dict)"
   ]
  },
  {
   "cell_type": "code",
   "execution_count": 53,
   "metadata": {},
   "outputs": [],
   "source": [
    "population['Sub_Region_of_Origin'] =  population['Country of origin (ISO)'].map(subregion_dict)"
   ]
  },
  {
   "cell_type": "code",
   "execution_count": 54,
   "metadata": {},
   "outputs": [
    {
     "data": {
      "text/html": [
       "<div>\n",
       "<style scoped>\n",
       "    .dataframe tbody tr th:only-of-type {\n",
       "        vertical-align: middle;\n",
       "    }\n",
       "\n",
       "    .dataframe tbody tr th {\n",
       "        vertical-align: top;\n",
       "    }\n",
       "\n",
       "    .dataframe thead th {\n",
       "        text-align: right;\n",
       "    }\n",
       "</style>\n",
       "<table border=\"1\" class=\"dataframe\">\n",
       "  <thead>\n",
       "    <tr style=\"text-align: right;\">\n",
       "      <th></th>\n",
       "      <th>Year</th>\n",
       "      <th>Country of origin</th>\n",
       "      <th>Country of origin (ISO)</th>\n",
       "      <th>Country of asylum</th>\n",
       "      <th>Country of asylum (ISO)</th>\n",
       "      <th>Refugees under UNHCR's mandate</th>\n",
       "      <th>Asylum-seekers</th>\n",
       "      <th>IDPs of concern to UNHCR</th>\n",
       "      <th>Other people in need of international protection</th>\n",
       "      <th>Stateless persons</th>\n",
       "      <th>Host Community</th>\n",
       "      <th>Others of concern</th>\n",
       "      <th>Total forced displacements</th>\n",
       "      <th>Continent_of_Asylum</th>\n",
       "      <th>Sub_Region_of_Asylum</th>\n",
       "      <th>Continent_of_origin</th>\n",
       "      <th>Sub_Region_of_Origin</th>\n",
       "    </tr>\n",
       "  </thead>\n",
       "  <tbody>\n",
       "    <tr>\n",
       "      <th>0</th>\n",
       "      <td>2023</td>\n",
       "      <td>Philippines</td>\n",
       "      <td>PHL</td>\n",
       "      <td>Poland</td>\n",
       "      <td>POL</td>\n",
       "      <td>5</td>\n",
       "      <td>0</td>\n",
       "      <td>0</td>\n",
       "      <td>0</td>\n",
       "      <td>0</td>\n",
       "      <td>0</td>\n",
       "      <td>0</td>\n",
       "      <td>5</td>\n",
       "      <td>Europe</td>\n",
       "      <td>Eastern Europe</td>\n",
       "      <td>Asia</td>\n",
       "      <td>South-Eastern Asia</td>\n",
       "    </tr>\n",
       "    <tr>\n",
       "      <th>1</th>\n",
       "      <td>2023</td>\n",
       "      <td>South Africa</td>\n",
       "      <td>ZAF</td>\n",
       "      <td>Poland</td>\n",
       "      <td>POL</td>\n",
       "      <td>6</td>\n",
       "      <td>0</td>\n",
       "      <td>0</td>\n",
       "      <td>0</td>\n",
       "      <td>0</td>\n",
       "      <td>0</td>\n",
       "      <td>0</td>\n",
       "      <td>6</td>\n",
       "      <td>Europe</td>\n",
       "      <td>Eastern Europe</td>\n",
       "      <td>Africa</td>\n",
       "      <td>Southern Africa</td>\n",
       "    </tr>\n",
       "    <tr>\n",
       "      <th>2</th>\n",
       "      <td>2023</td>\n",
       "      <td>Russian Federation</td>\n",
       "      <td>RUS</td>\n",
       "      <td>Poland</td>\n",
       "      <td>POL</td>\n",
       "      <td>2284</td>\n",
       "      <td>1102</td>\n",
       "      <td>0</td>\n",
       "      <td>0</td>\n",
       "      <td>0</td>\n",
       "      <td>0</td>\n",
       "      <td>0</td>\n",
       "      <td>3386</td>\n",
       "      <td>Europe</td>\n",
       "      <td>Eastern Europe</td>\n",
       "      <td>Europe</td>\n",
       "      <td>Eastern Europe</td>\n",
       "    </tr>\n",
       "    <tr>\n",
       "      <th>3</th>\n",
       "      <td>2023</td>\n",
       "      <td>Rwanda</td>\n",
       "      <td>RWA</td>\n",
       "      <td>Poland</td>\n",
       "      <td>POL</td>\n",
       "      <td>5</td>\n",
       "      <td>0</td>\n",
       "      <td>0</td>\n",
       "      <td>0</td>\n",
       "      <td>0</td>\n",
       "      <td>0</td>\n",
       "      <td>0</td>\n",
       "      <td>5</td>\n",
       "      <td>Europe</td>\n",
       "      <td>Eastern Europe</td>\n",
       "      <td>Africa</td>\n",
       "      <td>Eastern Africa</td>\n",
       "    </tr>\n",
       "    <tr>\n",
       "      <th>4</th>\n",
       "      <td>2023</td>\n",
       "      <td>Serbia and Kosovo: S/RES/1244 (1999)</td>\n",
       "      <td>SRB</td>\n",
       "      <td>Poland</td>\n",
       "      <td>POL</td>\n",
       "      <td>5</td>\n",
       "      <td>0</td>\n",
       "      <td>0</td>\n",
       "      <td>0</td>\n",
       "      <td>0</td>\n",
       "      <td>0</td>\n",
       "      <td>0</td>\n",
       "      <td>5</td>\n",
       "      <td>Europe</td>\n",
       "      <td>Eastern Europe</td>\n",
       "      <td>Europe</td>\n",
       "      <td>Southern Europe</td>\n",
       "    </tr>\n",
       "    <tr>\n",
       "      <th>...</th>\n",
       "      <td>...</td>\n",
       "      <td>...</td>\n",
       "      <td>...</td>\n",
       "      <td>...</td>\n",
       "      <td>...</td>\n",
       "      <td>...</td>\n",
       "      <td>...</td>\n",
       "      <td>...</td>\n",
       "      <td>...</td>\n",
       "      <td>...</td>\n",
       "      <td>...</td>\n",
       "      <td>...</td>\n",
       "      <td>...</td>\n",
       "      <td>...</td>\n",
       "      <td>...</td>\n",
       "      <td>...</td>\n",
       "      <td>...</td>\n",
       "    </tr>\n",
       "    <tr>\n",
       "      <th>125684</th>\n",
       "      <td>1951</td>\n",
       "      <td>Unknown</td>\n",
       "      <td>UNK</td>\n",
       "      <td>Switzerland</td>\n",
       "      <td>CHE</td>\n",
       "      <td>10000</td>\n",
       "      <td>0</td>\n",
       "      <td>0</td>\n",
       "      <td>0</td>\n",
       "      <td>0</td>\n",
       "      <td>-</td>\n",
       "      <td>0</td>\n",
       "      <td>10000</td>\n",
       "      <td>Europe</td>\n",
       "      <td>Western Europe</td>\n",
       "      <td>NaN</td>\n",
       "      <td>NaN</td>\n",
       "    </tr>\n",
       "    <tr>\n",
       "      <th>125685</th>\n",
       "      <td>1951</td>\n",
       "      <td>Unknown</td>\n",
       "      <td>UNK</td>\n",
       "      <td>Tunisia</td>\n",
       "      <td>TUN</td>\n",
       "      <td>2000</td>\n",
       "      <td>0</td>\n",
       "      <td>0</td>\n",
       "      <td>0</td>\n",
       "      <td>0</td>\n",
       "      <td>-</td>\n",
       "      <td>0</td>\n",
       "      <td>2000</td>\n",
       "      <td>Africa</td>\n",
       "      <td>Northern Africa</td>\n",
       "      <td>NaN</td>\n",
       "      <td>NaN</td>\n",
       "    </tr>\n",
       "    <tr>\n",
       "      <th>125686</th>\n",
       "      <td>1951</td>\n",
       "      <td>Unknown</td>\n",
       "      <td>UNK</td>\n",
       "      <td>Türkiye</td>\n",
       "      <td>TUR</td>\n",
       "      <td>2700</td>\n",
       "      <td>0</td>\n",
       "      <td>0</td>\n",
       "      <td>0</td>\n",
       "      <td>0</td>\n",
       "      <td>-</td>\n",
       "      <td>0</td>\n",
       "      <td>2700</td>\n",
       "      <td>Asia</td>\n",
       "      <td>Western Asia</td>\n",
       "      <td>NaN</td>\n",
       "      <td>NaN</td>\n",
       "    </tr>\n",
       "    <tr>\n",
       "      <th>125687</th>\n",
       "      <td>1951</td>\n",
       "      <td>Unknown</td>\n",
       "      <td>UNK</td>\n",
       "      <td>United States of America</td>\n",
       "      <td>USA</td>\n",
       "      <td>350000</td>\n",
       "      <td>0</td>\n",
       "      <td>0</td>\n",
       "      <td>0</td>\n",
       "      <td>0</td>\n",
       "      <td>-</td>\n",
       "      <td>0</td>\n",
       "      <td>350000</td>\n",
       "      <td>Americas</td>\n",
       "      <td>Northern America</td>\n",
       "      <td>NaN</td>\n",
       "      <td>NaN</td>\n",
       "    </tr>\n",
       "    <tr>\n",
       "      <th>125688</th>\n",
       "      <td>1951</td>\n",
       "      <td>Unknown</td>\n",
       "      <td>UNK</td>\n",
       "      <td>Unknown</td>\n",
       "      <td>UNK</td>\n",
       "      <td>158800</td>\n",
       "      <td>0</td>\n",
       "      <td>0</td>\n",
       "      <td>0</td>\n",
       "      <td>0</td>\n",
       "      <td>-</td>\n",
       "      <td>0</td>\n",
       "      <td>158800</td>\n",
       "      <td>NaN</td>\n",
       "      <td>NaN</td>\n",
       "      <td>NaN</td>\n",
       "      <td>NaN</td>\n",
       "    </tr>\n",
       "  </tbody>\n",
       "</table>\n",
       "<p>125689 rows × 17 columns</p>\n",
       "</div>"
      ],
      "text/plain": [
       "        Year                     Country of origin Country of origin (ISO)  \\\n",
       "0       2023                           Philippines                     PHL   \n",
       "1       2023                          South Africa                     ZAF   \n",
       "2       2023                    Russian Federation                     RUS   \n",
       "3       2023                                Rwanda                     RWA   \n",
       "4       2023  Serbia and Kosovo: S/RES/1244 (1999)                     SRB   \n",
       "...      ...                                   ...                     ...   \n",
       "125684  1951                              Unknown                      UNK   \n",
       "125685  1951                              Unknown                      UNK   \n",
       "125686  1951                              Unknown                      UNK   \n",
       "125687  1951                              Unknown                      UNK   \n",
       "125688  1951                              Unknown                      UNK   \n",
       "\n",
       "               Country of asylum Country of asylum (ISO)  \\\n",
       "0                         Poland                     POL   \n",
       "1                         Poland                     POL   \n",
       "2                         Poland                     POL   \n",
       "3                         Poland                     POL   \n",
       "4                         Poland                     POL   \n",
       "...                          ...                     ...   \n",
       "125684               Switzerland                     CHE   \n",
       "125685                   Tunisia                     TUN   \n",
       "125686                   Türkiye                     TUR   \n",
       "125687  United States of America                     USA   \n",
       "125688                  Unknown                      UNK   \n",
       "\n",
       "        Refugees under UNHCR's mandate  Asylum-seekers  \\\n",
       "0                                    5               0   \n",
       "1                                    6               0   \n",
       "2                                 2284            1102   \n",
       "3                                    5               0   \n",
       "4                                    5               0   \n",
       "...                                ...             ...   \n",
       "125684                           10000               0   \n",
       "125685                            2000               0   \n",
       "125686                            2700               0   \n",
       "125687                          350000               0   \n",
       "125688                          158800               0   \n",
       "\n",
       "        IDPs of concern to UNHCR  \\\n",
       "0                              0   \n",
       "1                              0   \n",
       "2                              0   \n",
       "3                              0   \n",
       "4                              0   \n",
       "...                          ...   \n",
       "125684                         0   \n",
       "125685                         0   \n",
       "125686                         0   \n",
       "125687                         0   \n",
       "125688                         0   \n",
       "\n",
       "        Other people in need of international protection  Stateless persons  \\\n",
       "0                                                      0                  0   \n",
       "1                                                      0                  0   \n",
       "2                                                      0                  0   \n",
       "3                                                      0                  0   \n",
       "4                                                      0                  0   \n",
       "...                                                  ...                ...   \n",
       "125684                                                 0                  0   \n",
       "125685                                                 0                  0   \n",
       "125686                                                 0                  0   \n",
       "125687                                                 0                  0   \n",
       "125688                                                 0                  0   \n",
       "\n",
       "       Host Community  Others of concern  Total forced displacements  \\\n",
       "0                   0                  0                           5   \n",
       "1                   0                  0                           6   \n",
       "2                   0                  0                        3386   \n",
       "3                   0                  0                           5   \n",
       "4                   0                  0                           5   \n",
       "...               ...                ...                         ...   \n",
       "125684              -                  0                       10000   \n",
       "125685              -                  0                        2000   \n",
       "125686              -                  0                        2700   \n",
       "125687              -                  0                      350000   \n",
       "125688              -                  0                      158800   \n",
       "\n",
       "       Continent_of_Asylum Sub_Region_of_Asylum Continent_of_origin  \\\n",
       "0                   Europe       Eastern Europe                Asia   \n",
       "1                   Europe       Eastern Europe              Africa   \n",
       "2                   Europe       Eastern Europe              Europe   \n",
       "3                   Europe       Eastern Europe              Africa   \n",
       "4                   Europe       Eastern Europe              Europe   \n",
       "...                    ...                  ...                 ...   \n",
       "125684              Europe       Western Europe                 NaN   \n",
       "125685              Africa      Northern Africa                 NaN   \n",
       "125686                Asia         Western Asia                 NaN   \n",
       "125687            Americas     Northern America                 NaN   \n",
       "125688                 NaN                  NaN                 NaN   \n",
       "\n",
       "       Sub_Region_of_Origin  \n",
       "0        South-Eastern Asia  \n",
       "1           Southern Africa  \n",
       "2            Eastern Europe  \n",
       "3            Eastern Africa  \n",
       "4           Southern Europe  \n",
       "...                     ...  \n",
       "125684                  NaN  \n",
       "125685                  NaN  \n",
       "125686                  NaN  \n",
       "125687                  NaN  \n",
       "125688                  NaN  \n",
       "\n",
       "[125689 rows x 17 columns]"
      ]
     },
     "execution_count": 54,
     "metadata": {},
     "output_type": "execute_result"
    }
   ],
   "source": [
    "population"
   ]
  },
  {
   "cell_type": "code",
   "execution_count": 55,
   "metadata": {},
   "outputs": [
    {
     "data": {
      "image/png": "[encoded data removed]",
      "text/plain": [
       "<Figure size 1200x800 with 1 Axes>"
      ]
     },
     "metadata": {},
     "output_type": "display_data"
    }
   ],
   "source": [
    "\n",
    "df_grouped = population.groupby(['Continent_of_origin', 'Year'])['Total forced displacements'].sum().reset_index()\n",
    "\n",
    "#Gráfico de barras apiladas\n",
    "ax = df_grouped.pivot(index='Year', columns='Continent_of_origin', values='Total forced displacements').plot(kind='bar', stacked=True, figsize=(12, 8))\n",
    "plt.xlabel('Año', fontsize=14)\n",
    "plt.ylabel('Total forced displacements', fontsize = 14)\n",
    "plt.title('Continente', fontsize = 20)\n",
    "plt.legend(title='Continente de Origen', bbox_to_anchor=(1, 1), fontsize = 10)\n",
    "plt.show()"
   ]
  },
  {
   "cell_type": "code",
   "execution_count": 59,
   "metadata": {},
   "outputs": [
    {
     "data": {
      "image/png": "[encoded data removed]",
      "text/plain": [
       "<Figure size 1200x800 with 1 Axes>"
      ]
     },
     "metadata": {},
     "output_type": "display_data"
    }
   ],
   "source": [
    "population_filtered = population[population['Year'] >= 2000]\n",
    "origin_grouped = population_filtered.groupby(['Continent_of_origin', 'Year'])['Total forced displacements'].sum().reset_index()\n",
    "ax = origin_grouped.pivot(index='Year', columns='Continent_of_origin', values='Total forced displacements').plot(kind='bar', stacked=True, figsize=(12, 8))\n",
    "plt.xlabel('Año', fontsize=14)\n",
    "plt.ylabel('Total forced displacements', fontsize = 14)\n",
    "plt.title('Continent of origin', fontsize = 20)\n",
    "plt.legend(title='Continent of origin', bbox_to_anchor=(1, 1), fontsize = 10)\n",
    "plt.show()\n"
   ]
  },
  {
   "cell_type": "code",
   "execution_count": 60,
   "metadata": {},
   "outputs": [
    {
     "data": {
      "image/png": "[encoded data removed]",
      "text/plain": [
       "<Figure size 1200x800 with 1 Axes>"
      ]
     },
     "metadata": {},
     "output_type": "display_data"
    }
   ],
   "source": [
    "asylum_grouped = population_filtered.groupby(['Continent_of_Asylum', 'Year'])['Total forced displacements'].sum().reset_index()\n",
    "ax = asylum_grouped.pivot(index='Year', columns='Continent_of_Asylum', values='Total forced displacements').plot(kind='bar', stacked=True, figsize=(12, 8))\n",
    "plt.xlabel('Año', fontsize=14)\n",
    "plt.ylabel('Total forced displacements', fontsize = 14)\n",
    "plt.title('Continent of Asylum', fontsize = 20)\n",
    "plt.legend(title='Continent of Asylum', bbox_to_anchor=(1, 1), fontsize = 10)\n",
    "plt.show()"
   ]
  },
  {
   "cell_type": "code",
   "execution_count": 61,
   "metadata": {},
   "outputs": [
    {
     "data": {
      "application/vnd.plotly.v1+json": {
       "config": {
        "plotlyServerURL": "https://plot.ly"
       },
       "data": [
        {
         "alignmentgroup": "True",
         "hovertemplate": "Continent_of_Asylum=Africa<br>Year=%{x}<br>Total forced displacements=%{y}<extra></extra>",
         "legendgroup": "Africa",
         "marker": {
          "color": "#636efa",
          "pattern": {
           "shape": ""
          }
         },
         "name": "Africa",
         "offsetgroup": "Africa",
         "orientation": "v",
         "showlegend": true,
         "textposition": "auto",
         "type": "bar",
         "x": [
          2000,
          2001,
          2002,
          2003,
          2004,
          2005,
          2006,
          2007,
          2008,
          2009,
          2010,
          2011,
          2012,
          2013,
          2014,
          2015,
          2016,
          2017,
          2018,
          2019,
          2020,
          2021,
          2022,
          2023
         ],
         "xaxis": "x",
         "y": [
          5592937,
          3843362,
          4234458,
          3939771,
          4493923,
          4620646,
          8296035,
          8659638,
          9002208,
          9379633,
          9132056,
          10449837,
          10799998,
          11874134,
          15395561,
          17897885,
          17840800,
          22499859,
          25535123,
          26540239,
          30402072,
          33788127,
          33732317,
          34342353
         ],
         "yaxis": "y"
        },
        {
         "alignmentgroup": "True",
         "hovertemplate": "Continent_of_Asylum=Americas<br>Year=%{x}<br>Total forced displacements=%{y}<extra></extra>",
         "legendgroup": "Americas",
         "marker": {
          "color": "#EF553B",
          "pattern": {
           "shape": ""
          }
         },
         "name": "Americas",
         "offsetgroup": "Americas",
         "orientation": "v",
         "showlegend": true,
         "textposition": "auto",
         "type": "bar",
         "x": [
          2000,
          2001,
          2002,
          2003,
          2004,
          2005,
          2006,
          2007,
          2008,
          2009,
          2010,
          2011,
          2012,
          2013,
          2014,
          2015,
          2016,
          2017,
          2018,
          2019,
          2020,
          2021,
          2022,
          2023
         ],
         "xaxis": "x",
         "y": [
          1626379,
          1851635,
          2110258,
          2293955,
          2923551,
          3229332,
          4685166,
          4149625,
          3976413,
          4309608,
          4604264,
          4798559,
          4828967,
          6315486,
          7079232,
          8235259,
          8892239,
          9910124,
          12818342,
          15645731,
          17114518,
          16971202,
          21449248,
          22069786
         ],
         "yaxis": "y"
        },
        {
         "alignmentgroup": "True",
         "hovertemplate": "Continent_of_Asylum=Asia<br>Year=%{x}<br>Total forced displacements=%{y}<extra></extra>",
         "legendgroup": "Asia",
         "marker": {
          "color": "#00cc96",
          "pattern": {
           "shape": ""
          }
         },
         "name": "Asia",
         "offsetgroup": "Asia",
         "orientation": "v",
         "showlegend": true,
         "textposition": "auto",
         "type": "bar",
         "x": [
          2000,
          2001,
          2002,
          2003,
          2004,
          2005,
          2006,
          2007,
          2008,
          2009,
          2010,
          2011,
          2012,
          2013,
          2014,
          2015,
          2016,
          2017,
          2018,
          2019,
          2020,
          2021,
          2022,
          2023
         ],
         "xaxis": "x",
         "y": [
          8088297,
          8819748,
          6409179,
          5235391,
          5295863,
          6172755,
          8663079,
          10717803,
          10491470,
          11267508,
          11165899,
          10573921,
          12482947,
          17404781,
          23670749,
          26601520,
          24885133,
          25442218,
          25015262,
          26497165,
          27029829,
          28390476,
          31536964,
          31796033
         ],
         "yaxis": "y"
        },
        {
         "alignmentgroup": "True",
         "hovertemplate": "Continent_of_Asylum=Europe<br>Year=%{x}<br>Total forced displacements=%{y}<extra></extra>",
         "legendgroup": "Europe",
         "marker": {
          "color": "#ab63fa",
          "pattern": {
           "shape": ""
          }
         },
         "name": "Europe",
         "offsetgroup": "Europe",
         "orientation": "v",
         "showlegend": true,
         "textposition": "auto",
         "type": "bar",
         "x": [
          2000,
          2001,
          2002,
          2003,
          2004,
          2005,
          2006,
          2007,
          2008,
          2009,
          2010,
          2011,
          2012,
          2013,
          2014,
          2015,
          2016,
          2017,
          2018,
          2019,
          2020,
          2021,
          2022,
          2023
         ],
         "xaxis": "x",
         "y": [
          5336516,
          4599086,
          4453686,
          4131481,
          3684874,
          2934444,
          2726944,
          2375412,
          2415952,
          2428675,
          2398299,
          2322400,
          2273841,
          1968399,
          3291167,
          4894005,
          5641941,
          5783018,
          5562176,
          6652175,
          6493855,
          6559949,
          16444931,
          16222318
         ],
         "yaxis": "y"
        },
        {
         "alignmentgroup": "True",
         "hovertemplate": "Continent_of_Asylum=Oceania<br>Year=%{x}<br>Total forced displacements=%{y}<extra></extra>",
         "legendgroup": "Oceania",
         "marker": {
          "color": "#FFA15A",
          "pattern": {
           "shape": ""
          }
         },
         "name": "Oceania",
         "offsetgroup": "Oceania",
         "orientation": "v",
         "showlegend": true,
         "textposition": "auto",
         "type": "bar",
         "x": [
          2000,
          2001,
          2002,
          2003,
          2004,
          2005,
          2006,
          2007,
          2008,
          2009,
          2010,
          2011,
          2012,
          2013,
          2014,
          2015,
          2016,
          2017,
          2018,
          2019,
          2020,
          2021,
          2022,
          2023
         ],
         "xaxis": "x",
         "y": [
          84614,
          81865,
          79026,
          74261,
          82374,
          82385,
          85585,
          36494,
          35890,
          38067,
          37668,
          40133,
          52729,
          59995,
          69649,
          69927,
          83905,
          109495,
          131150,
          149180,
          166769,
          186575,
          255389,
          255618
         ],
         "yaxis": "y"
        }
       ],
       "layout": {
        "barmode": "relative",
        "legend": {
         "title": {
          "text": "Continent_of_Asylum"
         },
         "tracegroupgap": 0
        },
        "template": {
         "data": {
          "bar": [
           {
            "error_x": {
             "color": "#2a3f5f"
            },
            "error_y": {
             "color": "#2a3f5f"
            },
            "marker": {
             "line": {
              "color": "#E5ECF6",
              "width": 0.5
             },
             "pattern": {
              "fillmode": "overlay",
              "size": 10,
              "solidity": 0.2
             }
            },
            "type": "bar"
           }
          ],
          "barpolar": [
           {
            "marker": {
             "line": {
              "color": "#E5ECF6",
              "width": 0.5
             },
             "pattern": {
              "fillmode": "overlay",
              "size": 10,
              "solidity": 0.2
             }
            },
            "type": "barpolar"
           }
          ],
          "carpet": [
           {
            "aaxis": {
             "endlinecolor": "#2a3f5f",
             "gridcolor": "white",
             "linecolor": "white",
             "minorgridcolor": "white",
             "startlinecolor": "#2a3f5f"
            },
            "baxis": {
             "endlinecolor": "#2a3f5f",
             "gridcolor": "white",
             "linecolor": "white",
             "minorgridcolor": "white",
             "startlinecolor": "#2a3f5f"
            },
            "type": "carpet"
           }
          ],
          "choropleth": [
           {
            "colorbar": {
             "outlinewidth": 0,
             "ticks": ""
            },
            "type": "choropleth"
           }
          ],
          "contour": [
           {
            "colorbar": {
             "outlinewidth": 0,
             "ticks": ""
            },
            "colorscale": [
             [
              0,
              "#0d0887"
             ],
             [
              0.1111111111111111,
              "#46039f"
             ],
             [
              0.2222222222222222,
              "#7201a8"
             ],
             [
              0.3333333333333333,
              "#9c179e"
             ],
             [
              0.4444444444444444,
              "#bd3786"
             ],
             [
              0.5555555555555556,
              "#d8576b"
             ],
             [
              0.6666666666666666,
              "#ed7953"
             ],
             [
              0.7777777777777778,
              "#fb9f3a"
             ],
             [
              0.8888888888888888,
              "#fdca26"
             ],
             [
              1,
              "#f0f921"
             ]
            ],
            "type": "contour"
           }
          ],
          "contourcarpet": [
           {
            "colorbar": {
             "outlinewidth": 0,
             "ticks": ""
            },
            "type": "contourcarpet"
           }
          ],
          "heatmap": [
           {
            "colorbar": {
             "outlinewidth": 0,
             "ticks": ""
            },
            "colorscale": [
             [
              0,
              "#0d0887"
             ],
             [
              0.1111111111111111,
              "#46039f"
             ],
             [
              0.2222222222222222,
              "#7201a8"
             ],
             [
              0.3333333333333333,
              "#9c179e"
             ],
             [
              0.4444444444444444,
              "#bd3786"
             ],
             [
              0.5555555555555556,
              "#d8576b"
             ],
             [
              0.6666666666666666,
              "#ed7953"
             ],
             [
              0.7777777777777778,
              "#fb9f3a"
             ],
             [
              0.8888888888888888,
              "#fdca26"
             ],
             [
              1,
              "#f0f921"
             ]
            ],
            "type": "heatmap"
           }
          ],
          "heatmapgl": [
           {
            "colorbar": {
             "outlinewidth": 0,
             "ticks": ""
            },
            "colorscale": [
             [
              0,
              "#0d0887"
             ],
             [
              0.1111111111111111,
              "#46039f"
             ],
             [
              0.2222222222222222,
              "#7201a8"
             ],
             [
              0.3333333333333333,
              "#9c179e"
             ],
             [
              0.4444444444444444,
              "#bd3786"
             ],
             [
              0.5555555555555556,
              "#d8576b"
             ],
             [
              0.6666666666666666,
              "#ed7953"
             ],
             [
              0.7777777777777778,
              "#fb9f3a"
             ],
             [
              0.8888888888888888,
              "#fdca26"
             ],
             [
              1,
              "#f0f921"
             ]
            ],
            "type": "heatmapgl"
           }
          ],
          "histogram": [
           {
            "marker": {
             "pattern": {
              "fillmode": "overlay",
              "size": 10,
              "solidity": 0.2
             }
            },
            "type": "histogram"
           }
          ],
          "histogram2d": [
           {
            "colorbar": {
             "outlinewidth": 0,
             "ticks": ""
            },
            "colorscale": [
             [
              0,
              "#0d0887"
             ],
             [
              0.1111111111111111,
              "#46039f"
             ],
             [
              0.2222222222222222,
              "#7201a8"
             ],
             [
              0.3333333333333333,
              "#9c179e"
             ],
             [
              0.4444444444444444,
              "#bd3786"
             ],
             [
              0.5555555555555556,
              "#d8576b"
             ],
             [
              0.6666666666666666,
              "#ed7953"
             ],
             [
              0.7777777777777778,
              "#fb9f3a"
             ],
             [
              0.8888888888888888,
              "#fdca26"
             ],
             [
              1,
              "#f0f921"
             ]
            ],
            "type": "histogram2d"
           }
          ],
          "histogram2dcontour": [
           {
            "colorbar": {
             "outlinewidth": 0,
             "ticks": ""
            },
            "colorscale": [
             [
              0,
              "#0d0887"
             ],
             [
              0.1111111111111111,
              "#46039f"
             ],
             [
              0.2222222222222222,
              "#7201a8"
             ],
             [
              0.3333333333333333,
              "#9c179e"
             ],
             [
              0.4444444444444444,
              "#bd3786"
             ],
             [
              0.5555555555555556,
              "#d8576b"
             ],
             [
              0.6666666666666666,
              "#ed7953"
             ],
             [
              0.7777777777777778,
              "#fb9f3a"
             ],
             [
              0.8888888888888888,
              "#fdca26"
             ],
             [
              1,
              "#f0f921"
             ]
            ],
            "type": "histogram2dcontour"
           }
          ],
          "mesh3d": [
           {
            "colorbar": {
             "outlinewidth": 0,
             "ticks": ""
            },
            "type": "mesh3d"
           }
          ],
          "parcoords": [
           {
            "line": {
             "colorbar": {
              "outlinewidth": 0,
              "ticks": ""
             }
            },
            "type": "parcoords"
           }
          ],
          "pie": [
           {
            "automargin": true,
            "type": "pie"
           }
          ],
          "scatter": [
           {
            "fillpattern": {
             "fillmode": "overlay",
             "size": 10,
             "solidity": 0.2
            },
            "type": "scatter"
           }
          ],
          "scatter3d": [
           {
            "line": {
             "colorbar": {
              "outlinewidth": 0,
              "ticks": ""
             }
            },
            "marker": {
             "colorbar": {
              "outlinewidth": 0,
              "ticks": ""
             }
            },
            "type": "scatter3d"
           }
          ],
          "scattercarpet": [
           {
            "marker": {
             "colorbar": {
              "outlinewidth": 0,
              "ticks": ""
             }
            },
            "type": "scattercarpet"
           }
          ],
          "scattergeo": [
           {
            "marker": {
             "colorbar": {
              "outlinewidth": 0,
              "ticks": ""
             }
            },
            "type": "scattergeo"
           }
          ],
          "scattergl": [
           {
            "marker": {
             "colorbar": {
              "outlinewidth": 0,
              "ticks": ""
             }
            },
            "type": "scattergl"
           }
          ],
          "scattermapbox": [
           {
            "marker": {
             "colorbar": {
              "outlinewidth": 0,
              "ticks": ""
             }
            },
            "type": "scattermapbox"
           }
          ],
          "scatterpolar": [
           {
            "marker": {
             "colorbar": {
              "outlinewidth": 0,
              "ticks": ""
             }
            },
            "type": "scatterpolar"
           }
          ],
          "scatterpolargl": [
           {
            "marker": {
             "colorbar": {
              "outlinewidth": 0,
              "ticks": ""
             }
            },
            "type": "scatterpolargl"
           }
          ],
          "scatterternary": [
           {
            "marker": {
             "colorbar": {
              "outlinewidth": 0,
              "ticks": ""
             }
            },
            "type": "scatterternary"
           }
          ],
          "surface": [
           {
            "colorbar": {
             "outlinewidth": 0,
             "ticks": ""
            },
            "colorscale": [
             [
              0,
              "#0d0887"
             ],
             [
              0.1111111111111111,
              "#46039f"
             ],
             [
              0.2222222222222222,
              "#7201a8"
             ],
             [
              0.3333333333333333,
              "#9c179e"
             ],
             [
              0.4444444444444444,
              "#bd3786"
             ],
             [
              0.5555555555555556,
              "#d8576b"
             ],
             [
              0.6666666666666666,
              "#ed7953"
             ],
             [
              0.7777777777777778,
              "#fb9f3a"
             ],
             [
              0.8888888888888888,
              "#fdca26"
             ],
             [
              1,
              "#f0f921"
             ]
            ],
            "type": "surface"
           }
          ],
          "table": [
           {
            "cells": {
             "fill": {
              "color": "#EBF0F8"
             },
             "line": {
              "color": "white"
             }
            },
            "header": {
             "fill": {
              "color": "#C8D4E3"
             },
             "line": {
              "color": "white"
             }
            },
            "type": "table"
           }
          ]
         },
         "layout": {
          "annotationdefaults": {
           "arrowcolor": "#2a3f5f",
           "arrowhead": 0,
           "arrowwidth": 1
          },
          "autotypenumbers": "strict",
          "coloraxis": {
           "colorbar": {
            "outlinewidth": 0,
            "ticks": ""
           }
          },
          "colorscale": {
           "diverging": [
            [
             0,
             "#8e0152"
            ],
            [
             0.1,
             "#c51b7d"
            ],
            [
             0.2,
             "#de77ae"
            ],
            [
             0.3,
             "#f1b6da"
            ],
            [
             0.4,
             "#fde0ef"
            ],
            [
             0.5,
             "#f7f7f7"
            ],
            [
             0.6,
             "#e6f5d0"
            ],
            [
             0.7,
             "#b8e186"
            ],
            [
             0.8,
             "#7fbc41"
            ],
            [
             0.9,
             "#4d9221"
            ],
            [
             1,
             "#276419"
            ]
           ],
           "sequential": [
            [
             0,
             "#0d0887"
            ],
            [
             0.1111111111111111,
             "#46039f"
            ],
            [
             0.2222222222222222,
             "#7201a8"
            ],
            [
             0.3333333333333333,
             "#9c179e"
            ],
            [
             0.4444444444444444,
             "#bd3786"
            ],
            [
             0.5555555555555556,
             "#d8576b"
            ],
            [
             0.6666666666666666,
             "#ed7953"
            ],
            [
             0.7777777777777778,
             "#fb9f3a"
            ],
            [
             0.8888888888888888,
             "#fdca26"
            ],
            [
             1,
             "#f0f921"
            ]
           ],
           "sequentialminus": [
            [
             0,
             "#0d0887"
            ],
            [
             0.1111111111111111,
             "#46039f"
            ],
            [
             0.2222222222222222,
             "#7201a8"
            ],
            [
             0.3333333333333333,
             "#9c179e"
            ],
            [
             0.4444444444444444,
             "#bd3786"
            ],
            [
             0.5555555555555556,
             "#d8576b"
            ],
            [
             0.6666666666666666,
             "#ed7953"
            ],
            [
             0.7777777777777778,
             "#fb9f3a"
            ],
            [
             0.8888888888888888,
             "#fdca26"
            ],
            [
             1,
             "#f0f921"
            ]
           ]
          },
          "colorway": [
           "#636efa",
           "#EF553B",
           "#00cc96",
           "#ab63fa",
           "#FFA15A",
           "#19d3f3",
           "#FF6692",
           "#B6E880",
           "#FF97FF",
           "#FECB52"
          ],
          "font": {
           "color": "#2a3f5f"
          },
          "geo": {
           "bgcolor": "white",
           "lakecolor": "white",
           "landcolor": "#E5ECF6",
           "showlakes": true,
           "showland": true,
           "subunitcolor": "white"
          },
          "hoverlabel": {
           "align": "left"
          },
          "hovermode": "closest",
          "mapbox": {
           "style": "light"
          },
          "paper_bgcolor": "white",
          "plot_bgcolor": "#E5ECF6",
          "polar": {
           "angularaxis": {
            "gridcolor": "white",
            "linecolor": "white",
            "ticks": ""
           },
           "bgcolor": "#E5ECF6",
           "radialaxis": {
            "gridcolor": "white",
            "linecolor": "white",
            "ticks": ""
           }
          },
          "scene": {
           "xaxis": {
            "backgroundcolor": "#E5ECF6",
            "gridcolor": "white",
            "gridwidth": 2,
            "linecolor": "white",
            "showbackground": true,
            "ticks": "",
            "zerolinecolor": "white"
           },
           "yaxis": {
            "backgroundcolor": "#E5ECF6",
            "gridcolor": "white",
            "gridwidth": 2,
            "linecolor": "white",
            "showbackground": true,
            "ticks": "",
            "zerolinecolor": "white"
           },
           "zaxis": {
            "backgroundcolor": "#E5ECF6",
            "gridcolor": "white",
            "gridwidth": 2,
            "linecolor": "white",
            "showbackground": true,
            "ticks": "",
            "zerolinecolor": "white"
           }
          },
          "shapedefaults": {
           "line": {
            "color": "#2a3f5f"
           }
          },
          "ternary": {
           "aaxis": {
            "gridcolor": "white",
            "linecolor": "white",
            "ticks": ""
           },
           "baxis": {
            "gridcolor": "white",
            "linecolor": "white",
            "ticks": ""
           },
           "bgcolor": "#E5ECF6",
           "caxis": {
            "gridcolor": "white",
            "linecolor": "white",
            "ticks": ""
           }
          },
          "title": {
           "x": 0.05
          },
          "xaxis": {
           "automargin": true,
           "gridcolor": "white",
           "linecolor": "white",
           "ticks": "",
           "title": {
            "standoff": 15
           },
           "zerolinecolor": "white",
           "zerolinewidth": 2
          },
          "yaxis": {
           "automargin": true,
           "gridcolor": "white",
           "linecolor": "white",
           "ticks": "",
           "title": {
            "standoff": 15
           },
           "zerolinecolor": "white",
           "zerolinewidth": 2
          }
         }
        },
        "title": {
         "text": "Conitnent of Asylum"
        },
        "xaxis": {
         "anchor": "y",
         "domain": [
          0,
          1
         ],
         "title": {
          "text": "Year"
         }
        },
        "yaxis": {
         "anchor": "x",
         "domain": [
          0,
          1
         ],
         "title": {
          "text": "Total forced displacements"
         }
        }
       }
      }
     },
     "metadata": {},
     "output_type": "display_data"
    }
   ],
   "source": [
    "fig = px.bar(asylum_grouped, x='Year', y='Total forced displacements', color='Continent_of_Asylum', labels={'Total forced displacements': 'Total forced displacements'},title='Conitnent of Asylum')\n",
    "            \n",
    "fig.show()"
   ]
  },
  {
   "cell_type": "code",
   "execution_count": 62,
   "metadata": {},
   "outputs": [
    {
     "data": {
      "application/vnd.plotly.v1+json": {
       "config": {
        "plotlyServerURL": "https://plot.ly"
       },
       "data": [
        {
         "alignmentgroup": "True",
         "hovertemplate": "Continent_of_origin=Africa<br>Year=%{x}<br>Total forced displacements=%{y}<extra></extra>",
         "legendgroup": "Africa",
         "marker": {
          "color": "#636efa",
          "pattern": {
           "shape": ""
          }
         },
         "name": "Africa",
         "offsetgroup": "Africa",
         "orientation": "v",
         "showlegend": true,
         "textposition": "auto",
         "type": "bar",
         "x": [
          2000,
          2001,
          2002,
          2003,
          2004,
          2005,
          2006,
          2007,
          2008,
          2009,
          2010,
          2011,
          2012,
          2013,
          2014,
          2015,
          2016,
          2017,
          2018,
          2019,
          2020,
          2021,
          2022,
          2023
         ],
         "xaxis": "x",
         "y": [
          5971561,
          4274631,
          4664686,
          4332582,
          4901883,
          5087746,
          8729717,
          9013430,
          9349223,
          9639814,
          9563784,
          10946417,
          11342923,
          12319969,
          15723842,
          17751815,
          18644013,
          23501279,
          26493934,
          27524904,
          31267573,
          34644966,
          34616206,
          35328629
         ],
         "yaxis": "y"
        },
        {
         "alignmentgroup": "True",
         "hovertemplate": "Continent_of_origin=Americas<br>Year=%{x}<br>Total forced displacements=%{y}<extra></extra>",
         "legendgroup": "Americas",
         "marker": {
          "color": "#EF553B",
          "pattern": {
           "shape": ""
          }
         },
         "name": "Americas",
         "offsetgroup": "Americas",
         "orientation": "v",
         "showlegend": true,
         "textposition": "auto",
         "type": "bar",
         "x": [
          2000,
          2001,
          2002,
          2003,
          2004,
          2005,
          2006,
          2007,
          2008,
          2009,
          2010,
          2011,
          2012,
          2013,
          2014,
          2015,
          2016,
          2017,
          2018,
          2019,
          2020,
          2021,
          2022,
          2023
         ],
         "xaxis": "x",
         "y": [
          957703,
          1156492,
          1446978,
          1671754,
          2349423,
          2716907,
          3738490,
          3740834,
          3564965,
          3901970,
          4241676,
          4441717,
          4479093,
          5949944,
          6645936,
          7769298,
          8364965,
          9232392,
          12046462,
          14961329,
          16501436,
          16347624,
          20462603,
          20880912
         ],
         "yaxis": "y"
        },
        {
         "alignmentgroup": "True",
         "hovertemplate": "Continent_of_origin=Asia<br>Year=%{x}<br>Total forced displacements=%{y}<extra></extra>",
         "legendgroup": "Asia",
         "marker": {
          "color": "#00cc96",
          "pattern": {
           "shape": ""
          }
         },
         "name": "Asia",
         "offsetgroup": "Asia",
         "orientation": "v",
         "showlegend": true,
         "textposition": "auto",
         "type": "bar",
         "x": [
          2000,
          2001,
          2002,
          2003,
          2004,
          2005,
          2006,
          2007,
          2008,
          2009,
          2010,
          2011,
          2012,
          2013,
          2014,
          2015,
          2016,
          2017,
          2018,
          2019,
          2020,
          2021,
          2022,
          2023
         ],
         "xaxis": "x",
         "y": [
          8539003,
          9339388,
          7463969,
          6359734,
          6441334,
          7303723,
          9842273,
          11639766,
          11407082,
          12131967,
          12012033,
          11346978,
          13285543,
          18319585,
          24742617,
          28251088,
          27125929,
          27965463,
          27757714,
          29207818,
          30033456,
          31707421,
          34864313,
          35623604
         ],
         "yaxis": "y"
        },
        {
         "alignmentgroup": "True",
         "hovertemplate": "Continent_of_origin=Europe<br>Year=%{x}<br>Total forced displacements=%{y}<extra></extra>",
         "legendgroup": "Europe",
         "marker": {
          "color": "#ab63fa",
          "pattern": {
           "shape": ""
          }
         },
         "name": "Europe",
         "offsetgroup": "Europe",
         "orientation": "v",
         "showlegend": true,
         "textposition": "auto",
         "type": "bar",
         "x": [
          2000,
          2001,
          2002,
          2003,
          2004,
          2005,
          2006,
          2007,
          2008,
          2009,
          2010,
          2011,
          2012,
          2013,
          2014,
          2015,
          2016,
          2017,
          2018,
          2019,
          2020,
          2021,
          2022,
          2023
         ],
         "xaxis": "x",
         "y": [
          3204822,
          2879112,
          2861885,
          2490645,
          2163750,
          1567935,
          1586469,
          1125252,
          1115338,
          1073421,
          1043277,
          983026,
          931100,
          711320,
          1764598,
          2671461,
          2737349,
          2610037,
          2254776,
          3131669,
          2971673,
          2913100,
          12853674,
          12061644
         ],
         "yaxis": "y"
        },
        {
         "alignmentgroup": "True",
         "hovertemplate": "Continent_of_origin=Oceania<br>Year=%{x}<br>Total forced displacements=%{y}<extra></extra>",
         "legendgroup": "Oceania",
         "marker": {
          "color": "#FFA15A",
          "pattern": {
           "shape": ""
          }
         },
         "name": "Oceania",
         "offsetgroup": "Oceania",
         "orientation": "v",
         "showlegend": true,
         "textposition": "auto",
         "type": "bar",
         "x": [
          2000,
          2001,
          2002,
          2003,
          2004,
          2005,
          2006,
          2007,
          2008,
          2009,
          2010,
          2011,
          2012,
          2013,
          2014,
          2015,
          2016,
          2017,
          2018,
          2019,
          2020,
          2021,
          2022,
          2023
         ],
         "xaxis": "x",
         "y": [
          2167,
          2784,
          2765,
          2301,
          1965,
          1920,
          2144,
          2261,
          2293,
          2490,
          2457,
          2219,
          2100,
          2194,
          2508,
          2152,
          2317,
          2635,
          3421,
          5007,
          19918,
          31270,
          99785,
          99756
         ],
         "yaxis": "y"
        }
       ],
       "layout": {
        "barmode": "relative",
        "legend": {
         "title": {
          "text": "Continent_of_origin"
         },
         "tracegroupgap": 0
        },
        "template": {
         "data": {
          "bar": [
           {
            "error_x": {
             "color": "#2a3f5f"
            },
            "error_y": {
             "color": "#2a3f5f"
            },
            "marker": {
             "line": {
              "color": "#E5ECF6",
              "width": 0.5
             },
             "pattern": {
              "fillmode": "overlay",
              "size": 10,
              "solidity": 0.2
             }
            },
            "type": "bar"
           }
          ],
          "barpolar": [
           {
            "marker": {
             "line": {
              "color": "#E5ECF6",
              "width": 0.5
             },
             "pattern": {
              "fillmode": "overlay",
              "size": 10,
              "solidity": 0.2
             }
            },
            "type": "barpolar"
           }
          ],
          "carpet": [
           {
            "aaxis": {
             "endlinecolor": "#2a3f5f",
             "gridcolor": "white",
             "linecolor": "white",
             "minorgridcolor": "white",
             "startlinecolor": "#2a3f5f"
            },
            "baxis": {
             "endlinecolor": "#2a3f5f",
             "gridcolor": "white",
             "linecolor": "white",
             "minorgridcolor": "white",
             "startlinecolor": "#2a3f5f"
            },
            "type": "carpet"
           }
          ],
          "choropleth": [
           {
            "colorbar": {
             "outlinewidth": 0,
             "ticks": ""
            },
            "type": "choropleth"
           }
          ],
          "contour": [
           {
            "colorbar": {
             "outlinewidth": 0,
             "ticks": ""
            },
            "colorscale": [
             [
              0,
              "#0d0887"
             ],
             [
              0.1111111111111111,
              "#46039f"
             ],
             [
              0.2222222222222222,
              "#7201a8"
             ],
             [
              0.3333333333333333,
              "#9c179e"
             ],
             [
              0.4444444444444444,
              "#bd3786"
             ],
             [
              0.5555555555555556,
              "#d8576b"
             ],
             [
              0.6666666666666666,
              "#ed7953"
             ],
             [
              0.7777777777777778,
              "#fb9f3a"
             ],
             [
              0.8888888888888888,
              "#fdca26"
             ],
             [
              1,
              "#f0f921"
             ]
            ],
            "type": "contour"
           }
          ],
          "contourcarpet": [
           {
            "colorbar": {
             "outlinewidth": 0,
             "ticks": ""
            },
            "type": "contourcarpet"
           }
          ],
          "heatmap": [
           {
            "colorbar": {
             "outlinewidth": 0,
             "ticks": ""
            },
            "colorscale": [
             [
              0,
              "#0d0887"
             ],
             [
              0.1111111111111111,
              "#46039f"
             ],
             [
              0.2222222222222222,
              "#7201a8"
             ],
             [
              0.3333333333333333,
              "#9c179e"
             ],
             [
              0.4444444444444444,
              "#bd3786"
             ],
             [
              0.5555555555555556,
              "#d8576b"
             ],
             [
              0.6666666666666666,
              "#ed7953"
             ],
             [
              0.7777777777777778,
              "#fb9f3a"
             ],
             [
              0.8888888888888888,
              "#fdca26"
             ],
             [
              1,
              "#f0f921"
             ]
            ],
            "type": "heatmap"
           }
          ],
          "heatmapgl": [
           {
            "colorbar": {
             "outlinewidth": 0,
             "ticks": ""
            },
            "colorscale": [
             [
              0,
              "#0d0887"
             ],
             [
              0.1111111111111111,
              "#46039f"
             ],
             [
              0.2222222222222222,
              "#7201a8"
             ],
             [
              0.3333333333333333,
              "#9c179e"
             ],
             [
              0.4444444444444444,
              "#bd3786"
             ],
             [
              0.5555555555555556,
              "#d8576b"
             ],
             [
              0.6666666666666666,
              "#ed7953"
             ],
             [
              0.7777777777777778,
              "#fb9f3a"
             ],
             [
              0.8888888888888888,
              "#fdca26"
             ],
             [
              1,
              "#f0f921"
             ]
            ],
            "type": "heatmapgl"
           }
          ],
          "histogram": [
           {
            "marker": {
             "pattern": {
              "fillmode": "overlay",
              "size": 10,
              "solidity": 0.2
             }
            },
            "type": "histogram"
           }
          ],
          "histogram2d": [
           {
            "colorbar": {
             "outlinewidth": 0,
             "ticks": ""
            },
            "colorscale": [
             [
              0,
              "#0d0887"
             ],
             [
              0.1111111111111111,
              "#46039f"
             ],
             [
              0.2222222222222222,
              "#7201a8"
             ],
             [
              0.3333333333333333,
              "#9c179e"
             ],
             [
              0.4444444444444444,
              "#bd3786"
             ],
             [
              0.5555555555555556,
              "#d8576b"
             ],
             [
              0.6666666666666666,
              "#ed7953"
             ],
             [
              0.7777777777777778,
              "#fb9f3a"
             ],
             [
              0.8888888888888888,
              "#fdca26"
             ],
             [
              1,
              "#f0f921"
             ]
            ],
            "type": "histogram2d"
           }
          ],
          "histogram2dcontour": [
           {
            "colorbar": {
             "outlinewidth": 0,
             "ticks": ""
            },
            "colorscale": [
             [
              0,
              "#0d0887"
             ],
             [
              0.1111111111111111,
              "#46039f"
             ],
             [
              0.2222222222222222,
              "#7201a8"
             ],
             [
              0.3333333333333333,
              "#9c179e"
             ],
             [
              0.4444444444444444,
              "#bd3786"
             ],
             [
              0.5555555555555556,
              "#d8576b"
             ],
             [
              0.6666666666666666,
              "#ed7953"
             ],
             [
              0.7777777777777778,
              "#fb9f3a"
             ],
             [
              0.8888888888888888,
              "#fdca26"
             ],
             [
              1,
              "#f0f921"
             ]
            ],
            "type": "histogram2dcontour"
           }
          ],
          "mesh3d": [
           {
            "colorbar": {
             "outlinewidth": 0,
             "ticks": ""
            },
            "type": "mesh3d"
           }
          ],
          "parcoords": [
           {
            "line": {
             "colorbar": {
              "outlinewidth": 0,
              "ticks": ""
             }
            },
            "type": "parcoords"
           }
          ],
          "pie": [
           {
            "automargin": true,
            "type": "pie"
           }
          ],
          "scatter": [
           {
            "fillpattern": {
             "fillmode": "overlay",
             "size": 10,
             "solidity": 0.2
            },
            "type": "scatter"
           }
          ],
          "scatter3d": [
           {
            "line": {
             "colorbar": {
              "outlinewidth": 0,
              "ticks": ""
             }
            },
            "marker": {
             "colorbar": {
              "outlinewidth": 0,
              "ticks": ""
             }
            },
            "type": "scatter3d"
           }
          ],
          "scattercarpet": [
           {
            "marker": {
             "colorbar": {
              "outlinewidth": 0,
              "ticks": ""
             }
            },
            "type": "scattercarpet"
           }
          ],
          "scattergeo": [
           {
            "marker": {
             "colorbar": {
              "outlinewidth": 0,
              "ticks": ""
             }
            },
            "type": "scattergeo"
           }
          ],
          "scattergl": [
           {
            "marker": {
             "colorbar": {
              "outlinewidth": 0,
              "ticks": ""
             }
            },
            "type": "scattergl"
           }
          ],
          "scattermapbox": [
           {
            "marker": {
             "colorbar": {
              "outlinewidth": 0,
              "ticks": ""
             }
            },
            "type": "scattermapbox"
           }
          ],
          "scatterpolar": [
           {
            "marker": {
             "colorbar": {
              "outlinewidth": 0,
              "ticks": ""
             }
            },
            "type": "scatterpolar"
           }
          ],
          "scatterpolargl": [
           {
            "marker": {
             "colorbar": {
              "outlinewidth": 0,
              "ticks": ""
             }
            },
            "type": "scatterpolargl"
           }
          ],
          "scatterternary": [
           {
            "marker": {
             "colorbar": {
              "outlinewidth": 0,
              "ticks": ""
             }
            },
            "type": "scatterternary"
           }
          ],
          "surface": [
           {
            "colorbar": {
             "outlinewidth": 0,
             "ticks": ""
            },
            "colorscale": [
             [
              0,
              "#0d0887"
             ],
             [
              0.1111111111111111,
              "#46039f"
             ],
             [
              0.2222222222222222,
              "#7201a8"
             ],
             [
              0.3333333333333333,
              "#9c179e"
             ],
             [
              0.4444444444444444,
              "#bd3786"
             ],
             [
              0.5555555555555556,
              "#d8576b"
             ],
             [
              0.6666666666666666,
              "#ed7953"
             ],
             [
              0.7777777777777778,
              "#fb9f3a"
             ],
             [
              0.8888888888888888,
              "#fdca26"
             ],
             [
              1,
              "#f0f921"
             ]
            ],
            "type": "surface"
           }
          ],
          "table": [
           {
            "cells": {
             "fill": {
              "color": "#EBF0F8"
             },
             "line": {
              "color": "white"
             }
            },
            "header": {
             "fill": {
              "color": "#C8D4E3"
             },
             "line": {
              "color": "white"
             }
            },
            "type": "table"
           }
          ]
         },
         "layout": {
          "annotationdefaults": {
           "arrowcolor": "#2a3f5f",
           "arrowhead": 0,
           "arrowwidth": 1
          },
          "autotypenumbers": "strict",
          "coloraxis": {
           "colorbar": {
            "outlinewidth": 0,
            "ticks": ""
           }
          },
          "colorscale": {
           "diverging": [
            [
             0,
             "#8e0152"
            ],
            [
             0.1,
             "#c51b7d"
            ],
            [
             0.2,
             "#de77ae"
            ],
            [
             0.3,
             "#f1b6da"
            ],
            [
             0.4,
             "#fde0ef"
            ],
            [
             0.5,
             "#f7f7f7"
            ],
            [
             0.6,
             "#e6f5d0"
            ],
            [
             0.7,
             "#b8e186"
            ],
            [
             0.8,
             "#7fbc41"
            ],
            [
             0.9,
             "#4d9221"
            ],
            [
             1,
             "#276419"
            ]
           ],
           "sequential": [
            [
             0,
             "#0d0887"
            ],
            [
             0.1111111111111111,
             "#46039f"
            ],
            [
             0.2222222222222222,
             "#7201a8"
            ],
            [
             0.3333333333333333,
             "#9c179e"
            ],
            [
             0.4444444444444444,
             "#bd3786"
            ],
            [
             0.5555555555555556,
             "#d8576b"
            ],
            [
             0.6666666666666666,
             "#ed7953"
            ],
            [
             0.7777777777777778,
             "#fb9f3a"
            ],
            [
             0.8888888888888888,
             "#fdca26"
            ],
            [
             1,
             "#f0f921"
            ]
           ],
           "sequentialminus": [
            [
             0,
             "#0d0887"
            ],
            [
             0.1111111111111111,
             "#46039f"
            ],
            [
             0.2222222222222222,
             "#7201a8"
            ],
            [
             0.3333333333333333,
             "#9c179e"
            ],
            [
             0.4444444444444444,
             "#bd3786"
            ],
            [
             0.5555555555555556,
             "#d8576b"
            ],
            [
             0.6666666666666666,
             "#ed7953"
            ],
            [
             0.7777777777777778,
             "#fb9f3a"
            ],
            [
             0.8888888888888888,
             "#fdca26"
            ],
            [
             1,
             "#f0f921"
            ]
           ]
          },
          "colorway": [
           "#636efa",
           "#EF553B",
           "#00cc96",
           "#ab63fa",
           "#FFA15A",
           "#19d3f3",
           "#FF6692",
           "#B6E880",
           "#FF97FF",
           "#FECB52"
          ],
          "font": {
           "color": "#2a3f5f"
          },
          "geo": {
           "bgcolor": "white",
           "lakecolor": "white",
           "landcolor": "#E5ECF6",
           "showlakes": true,
           "showland": true,
           "subunitcolor": "white"
          },
          "hoverlabel": {
           "align": "left"
          },
          "hovermode": "closest",
          "mapbox": {
           "style": "light"
          },
          "paper_bgcolor": "white",
          "plot_bgcolor": "#E5ECF6",
          "polar": {
           "angularaxis": {
            "gridcolor": "white",
            "linecolor": "white",
            "ticks": ""
           },
           "bgcolor": "#E5ECF6",
           "radialaxis": {
            "gridcolor": "white",
            "linecolor": "white",
            "ticks": ""
           }
          },
          "scene": {
           "xaxis": {
            "backgroundcolor": "#E5ECF6",
            "gridcolor": "white",
            "gridwidth": 2,
            "linecolor": "white",
            "showbackground": true,
            "ticks": "",
            "zerolinecolor": "white"
           },
           "yaxis": {
            "backgroundcolor": "#E5ECF6",
            "gridcolor": "white",
            "gridwidth": 2,
            "linecolor": "white",
            "showbackground": true,
            "ticks": "",
            "zerolinecolor": "white"
           },
           "zaxis": {
            "backgroundcolor": "#E5ECF6",
            "gridcolor": "white",
            "gridwidth": 2,
            "linecolor": "white",
            "showbackground": true,
            "ticks": "",
            "zerolinecolor": "white"
           }
          },
          "shapedefaults": {
           "line": {
            "color": "#2a3f5f"
           }
          },
          "ternary": {
           "aaxis": {
            "gridcolor": "white",
            "linecolor": "white",
            "ticks": ""
           },
           "baxis": {
            "gridcolor": "white",
            "linecolor": "white",
            "ticks": ""
           },
           "bgcolor": "#E5ECF6",
           "caxis": {
            "gridcolor": "white",
            "linecolor": "white",
            "ticks": ""
           }
          },
          "title": {
           "x": 0.05
          },
          "xaxis": {
           "automargin": true,
           "gridcolor": "white",
           "linecolor": "white",
           "ticks": "",
           "title": {
            "standoff": 15
           },
           "zerolinecolor": "white",
           "zerolinewidth": 2
          },
          "yaxis": {
           "automargin": true,
           "gridcolor": "white",
           "linecolor": "white",
           "ticks": "",
           "title": {
            "standoff": 15
           },
           "zerolinecolor": "white",
           "zerolinewidth": 2
          }
         }
        },
        "title": {
         "text": "Conitnent of origin"
        },
        "xaxis": {
         "anchor": "y",
         "domain": [
          0,
          1
         ],
         "title": {
          "text": "Year"
         }
        },
        "yaxis": {
         "anchor": "x",
         "domain": [
          0,
          1
         ],
         "title": {
          "text": "Total forced displacements"
         }
        }
       }
      }
     },
     "metadata": {},
     "output_type": "display_data"
    }
   ],
   "source": [
    "fig = px.bar(origin_grouped, x='Year', y='Total forced displacements', color='Continent_of_origin', labels={'Total forced displacements': 'Total forced displacements'},title='Conitnent of origin')\n",
    "            \n",
    "fig.show()"
   ]
  },
  {
   "cell_type": "code",
   "execution_count": 63,
   "metadata": {},
   "outputs": [
    {
     "name": "stdout",
     "output_type": "stream",
     "text": [
      "Collecting geopandas\n",
      "  Downloading geopandas-0.14.1-py3-none-any.whl (1.1 MB)\n",
      "Collecting pyproj>=3.3.0\n",
      "  Downloading pyproj-3.6.1-cp310-cp310-win_amd64.whl (6.1 MB)\n",
      "Collecting fiona>=1.8.21\n",
      "  Downloading fiona-1.9.5-cp310-cp310-win_amd64.whl (22.9 MB)\n",
      "Collecting shapely>=1.8.0\n",
      "  Downloading shapely-2.0.2-cp310-cp310-win_amd64.whl (1.4 MB)\n",
      "Requirement already satisfied: packaging in c:\\users\\ioana\\appdata\\local\\programs\\python\\python310\\lib\\site-packages (from geopandas) (23.2)\n",
      "Requirement already satisfied: pandas>=1.4.0 in c:\\users\\ioana\\appdata\\local\\programs\\python\\python310\\lib\\site-packages (from geopandas) (1.5.3)\n",
      "Requirement already satisfied: six in c:\\users\\ioana\\appdata\\local\\programs\\python\\python310\\lib\\site-packages (from fiona>=1.8.21->geopandas) (1.16.0)\n",
      "Requirement already satisfied: attrs>=19.2.0 in c:\\users\\ioana\\appdata\\local\\programs\\python\\python310\\lib\\site-packages (from fiona>=1.8.21->geopandas) (23.1.0)\n",
      "Requirement already satisfied: setuptools in c:\\users\\ioana\\appdata\\local\\programs\\python\\python310\\lib\\site-packages (from fiona>=1.8.21->geopandas) (57.4.0)\n",
      "Collecting click-plugins>=1.0\n",
      "  Using cached click_plugins-1.1.1-py2.py3-none-any.whl (7.5 kB)\n",
      "Requirement already satisfied: certifi in c:\\users\\ioana\\appdata\\local\\programs\\python\\python310\\lib\\site-packages (from fiona>=1.8.21->geopandas) (2023.7.22)\n",
      "Collecting cligj>=0.5\n",
      "  Using cached cligj-0.7.2-py3-none-any.whl (7.1 kB)\n",
      "Requirement already satisfied: click~=8.0 in c:\\users\\ioana\\appdata\\local\\programs\\python\\python310\\lib\\site-packages (from fiona>=1.8.21->geopandas) (8.1.7)\n",
      "Requirement already satisfied: colorama in c:\\users\\ioana\\appdata\\local\\programs\\python\\python310\\lib\\site-packages (from click~=8.0->fiona>=1.8.21->geopandas) (0.4.6)\n",
      "Requirement already satisfied: pytz>=2020.1 in c:\\users\\ioana\\appdata\\local\\programs\\python\\python310\\lib\\site-packages (from pandas>=1.4.0->geopandas) (2023.3.post1)\n",
      "Requirement already satisfied: python-dateutil>=2.8.1 in c:\\users\\ioana\\appdata\\local\\programs\\python\\python310\\lib\\site-packages (from pandas>=1.4.0->geopandas) (2.8.2)\n",
      "Requirement already satisfied: numpy>=1.21.0 in c:\\users\\ioana\\appdata\\local\\programs\\python\\python310\\lib\\site-packages (from pandas>=1.4.0->geopandas) (1.23.5)\n",
      "Installing collected packages: cligj, click-plugins, shapely, pyproj, fiona, geopandas\n",
      "Successfully installed click-plugins-1.1.1 cligj-0.7.2 fiona-1.9.5 geopandas-0.14.1 pyproj-3.6.1 shapely-2.0.2\n"
     ]
    },
    {
     "name": "stderr",
     "output_type": "stream",
     "text": [
      "WARNING: You are using pip version 21.2.3; however, version 23.3.1 is available.\n",
      "You should consider upgrading via the 'C:\\Users\\ioana\\AppData\\Local\\Programs\\Python\\Python310\\python.exe -m pip install --upgrade pip' command.\n"
     ]
    }
   ],
   "source": [
    "#import geopandas as gpd\n",
    "!pip install geopandas"
   ]
  },
  {
   "cell_type": "code",
   "execution_count": 65,
   "metadata": {},
   "outputs": [],
   "source": [
    "demographics = pd.read_csv('Data\\demographics.csv', header=13)"
   ]
  },
  {
   "cell_type": "code",
   "execution_count": 67,
   "metadata": {},
   "outputs": [
    {
     "data": {
      "text/plain": [
       "(97363, 20)"
      ]
     },
     "execution_count": 67,
     "metadata": {},
     "output_type": "execute_result"
    }
   ],
   "source": [
    "demographics.shape"
   ]
  },
  {
   "cell_type": "code",
   "execution_count": 69,
   "metadata": {},
   "outputs": [
    {
     "data": {
      "text/plain": [
       "array([2001, 2002, 2003, 2004, 2005, 2006, 2007, 2008, 2009, 2010, 2011,\n",
       "       2012, 2013, 2014, 2015, 2016, 2017, 2018, 2019, 2020, 2021, 2022],\n",
       "      dtype=int64)"
      ]
     },
     "execution_count": 69,
     "metadata": {},
     "output_type": "execute_result"
    }
   ],
   "source": [
    "demographics['Year'].unique()"
   ]
  },
  {
   "cell_type": "code",
   "execution_count": 74,
   "metadata": {},
   "outputs": [
    {
     "data": {
      "text/plain": [
       "(103864, 17)"
      ]
     },
     "execution_count": 74,
     "metadata": {},
     "output_type": "execute_result"
    }
   ],
   "source": [
    "pop01 = population[population['Year']>=2001] \n",
    "pop01.shape"
   ]
  },
  {
   "cell_type": "code",
   "execution_count": 76,
   "metadata": {},
   "outputs": [
    {
     "data": {
      "text/plain": [
       "Index(['Year', 'Country of origin', 'Country of origin (ISO)',\n",
       "       'Country of asylum', 'Country of asylum (ISO)', 'Female 0 - 4',\n",
       "       'Female 5 - 11', 'Female 12 - 17', 'Female 18 - 59', 'Female 60',\n",
       "       'Female other', 'Female total', 'Male 0 - 4', 'Male 5 - 11',\n",
       "       'Male 12 - 17', 'Male 18 - 59', 'Male 60', 'Male other', 'Male total',\n",
       "       'Total'],\n",
       "      dtype='object')"
      ]
     },
     "execution_count": 76,
     "metadata": {},
     "output_type": "execute_result"
    }
   ],
   "source": [
    "demographics.columns"
   ]
  },
  {
   "cell_type": "code",
   "execution_count": 78,
   "metadata": {},
   "outputs": [],
   "source": [
    "forced  = pd.merge(pop01,demographics, on=['Year', 'Country of origin', 'Country of origin (ISO)','Country of asylum', 'Country of asylum (ISO)' ],how='inner') "
   ]
  },
  {
   "cell_type": "code",
   "execution_count": 79,
   "metadata": {},
   "outputs": [
    {
     "data": {
      "text/html": [
       "<div>\n",
       "<style scoped>\n",
       "    .dataframe tbody tr th:only-of-type {\n",
       "        vertical-align: middle;\n",
       "    }\n",
       "\n",
       "    .dataframe tbody tr th {\n",
       "        vertical-align: top;\n",
       "    }\n",
       "\n",
       "    .dataframe thead th {\n",
       "        text-align: right;\n",
       "    }\n",
       "</style>\n",
       "<table border=\"1\" class=\"dataframe\">\n",
       "  <thead>\n",
       "    <tr style=\"text-align: right;\">\n",
       "      <th></th>\n",
       "      <th>Year</th>\n",
       "      <th>Country of origin</th>\n",
       "      <th>Country of origin (ISO)</th>\n",
       "      <th>Country of asylum</th>\n",
       "      <th>Country of asylum (ISO)</th>\n",
       "      <th>Refugees under UNHCR's mandate</th>\n",
       "      <th>Asylum-seekers</th>\n",
       "      <th>IDPs of concern to UNHCR</th>\n",
       "      <th>Other people in need of international protection</th>\n",
       "      <th>Stateless persons</th>\n",
       "      <th>...</th>\n",
       "      <th>Female other</th>\n",
       "      <th>Female total</th>\n",
       "      <th>Male 0 - 4</th>\n",
       "      <th>Male 5 - 11</th>\n",
       "      <th>Male 12 - 17</th>\n",
       "      <th>Male 18 - 59</th>\n",
       "      <th>Male 60</th>\n",
       "      <th>Male other</th>\n",
       "      <th>Male total</th>\n",
       "      <th>Total</th>\n",
       "    </tr>\n",
       "  </thead>\n",
       "  <tbody>\n",
       "    <tr>\n",
       "      <th>0</th>\n",
       "      <td>2022</td>\n",
       "      <td>United Rep. of Tanzania</td>\n",
       "      <td>TZA</td>\n",
       "      <td>Italy</td>\n",
       "      <td>ITA</td>\n",
       "      <td>0</td>\n",
       "      <td>10</td>\n",
       "      <td>0</td>\n",
       "      <td>0</td>\n",
       "      <td>0</td>\n",
       "      <td>...</td>\n",
       "      <td>5</td>\n",
       "      <td>5</td>\n",
       "      <td>0</td>\n",
       "      <td>0</td>\n",
       "      <td>0</td>\n",
       "      <td>0</td>\n",
       "      <td>0</td>\n",
       "      <td>5</td>\n",
       "      <td>5</td>\n",
       "      <td>10</td>\n",
       "    </tr>\n",
       "    <tr>\n",
       "      <th>1</th>\n",
       "      <td>2022</td>\n",
       "      <td>Thailand</td>\n",
       "      <td>THA</td>\n",
       "      <td>Italy</td>\n",
       "      <td>ITA</td>\n",
       "      <td>0</td>\n",
       "      <td>8</td>\n",
       "      <td>0</td>\n",
       "      <td>0</td>\n",
       "      <td>0</td>\n",
       "      <td>...</td>\n",
       "      <td>8</td>\n",
       "      <td>8</td>\n",
       "      <td>0</td>\n",
       "      <td>0</td>\n",
       "      <td>0</td>\n",
       "      <td>0</td>\n",
       "      <td>0</td>\n",
       "      <td>0</td>\n",
       "      <td>0</td>\n",
       "      <td>8</td>\n",
       "    </tr>\n",
       "    <tr>\n",
       "      <th>2</th>\n",
       "      <td>2022</td>\n",
       "      <td>Tajikistan</td>\n",
       "      <td>TJK</td>\n",
       "      <td>Italy</td>\n",
       "      <td>ITA</td>\n",
       "      <td>5</td>\n",
       "      <td>0</td>\n",
       "      <td>0</td>\n",
       "      <td>0</td>\n",
       "      <td>0</td>\n",
       "      <td>...</td>\n",
       "      <td>0</td>\n",
       "      <td>0</td>\n",
       "      <td>0</td>\n",
       "      <td>0</td>\n",
       "      <td>0</td>\n",
       "      <td>0</td>\n",
       "      <td>0</td>\n",
       "      <td>0</td>\n",
       "      <td>0</td>\n",
       "      <td>5</td>\n",
       "    </tr>\n",
       "    <tr>\n",
       "      <th>3</th>\n",
       "      <td>2022</td>\n",
       "      <td>Turkmenistan</td>\n",
       "      <td>TKM</td>\n",
       "      <td>Italy</td>\n",
       "      <td>ITA</td>\n",
       "      <td>5</td>\n",
       "      <td>0</td>\n",
       "      <td>0</td>\n",
       "      <td>0</td>\n",
       "      <td>0</td>\n",
       "      <td>...</td>\n",
       "      <td>0</td>\n",
       "      <td>0</td>\n",
       "      <td>0</td>\n",
       "      <td>0</td>\n",
       "      <td>0</td>\n",
       "      <td>0</td>\n",
       "      <td>0</td>\n",
       "      <td>0</td>\n",
       "      <td>0</td>\n",
       "      <td>5</td>\n",
       "    </tr>\n",
       "    <tr>\n",
       "      <th>4</th>\n",
       "      <td>2022</td>\n",
       "      <td>Togo</td>\n",
       "      <td>TGO</td>\n",
       "      <td>Italy</td>\n",
       "      <td>ITA</td>\n",
       "      <td>723</td>\n",
       "      <td>106</td>\n",
       "      <td>0</td>\n",
       "      <td>0</td>\n",
       "      <td>0</td>\n",
       "      <td>...</td>\n",
       "      <td>16</td>\n",
       "      <td>16</td>\n",
       "      <td>0</td>\n",
       "      <td>0</td>\n",
       "      <td>0</td>\n",
       "      <td>0</td>\n",
       "      <td>0</td>\n",
       "      <td>90</td>\n",
       "      <td>90</td>\n",
       "      <td>829</td>\n",
       "    </tr>\n",
       "    <tr>\n",
       "      <th>...</th>\n",
       "      <td>...</td>\n",
       "      <td>...</td>\n",
       "      <td>...</td>\n",
       "      <td>...</td>\n",
       "      <td>...</td>\n",
       "      <td>...</td>\n",
       "      <td>...</td>\n",
       "      <td>...</td>\n",
       "      <td>...</td>\n",
       "      <td>...</td>\n",
       "      <td>...</td>\n",
       "      <td>...</td>\n",
       "      <td>...</td>\n",
       "      <td>...</td>\n",
       "      <td>...</td>\n",
       "      <td>...</td>\n",
       "      <td>...</td>\n",
       "      <td>...</td>\n",
       "      <td>...</td>\n",
       "      <td>...</td>\n",
       "      <td>...</td>\n",
       "    </tr>\n",
       "    <tr>\n",
       "      <th>97358</th>\n",
       "      <td>2001</td>\n",
       "      <td>Rep. of Moldova</td>\n",
       "      <td>MDA</td>\n",
       "      <td>Cyprus</td>\n",
       "      <td>CYP</td>\n",
       "      <td>0</td>\n",
       "      <td>5</td>\n",
       "      <td>0</td>\n",
       "      <td>0</td>\n",
       "      <td>0</td>\n",
       "      <td>...</td>\n",
       "      <td>0</td>\n",
       "      <td>0</td>\n",
       "      <td>0</td>\n",
       "      <td>0</td>\n",
       "      <td>0</td>\n",
       "      <td>0</td>\n",
       "      <td>0</td>\n",
       "      <td>0</td>\n",
       "      <td>0</td>\n",
       "      <td>5</td>\n",
       "    </tr>\n",
       "    <tr>\n",
       "      <th>97359</th>\n",
       "      <td>2001</td>\n",
       "      <td>Nigeria</td>\n",
       "      <td>NGA</td>\n",
       "      <td>Cyprus</td>\n",
       "      <td>CYP</td>\n",
       "      <td>0</td>\n",
       "      <td>7</td>\n",
       "      <td>0</td>\n",
       "      <td>0</td>\n",
       "      <td>0</td>\n",
       "      <td>...</td>\n",
       "      <td>0</td>\n",
       "      <td>0</td>\n",
       "      <td>0</td>\n",
       "      <td>0</td>\n",
       "      <td>0</td>\n",
       "      <td>0</td>\n",
       "      <td>0</td>\n",
       "      <td>0</td>\n",
       "      <td>0</td>\n",
       "      <td>7</td>\n",
       "    </tr>\n",
       "    <tr>\n",
       "      <th>97360</th>\n",
       "      <td>2001</td>\n",
       "      <td>Pakistan</td>\n",
       "      <td>PAK</td>\n",
       "      <td>Cyprus</td>\n",
       "      <td>CYP</td>\n",
       "      <td>5</td>\n",
       "      <td>132</td>\n",
       "      <td>0</td>\n",
       "      <td>0</td>\n",
       "      <td>0</td>\n",
       "      <td>...</td>\n",
       "      <td>0</td>\n",
       "      <td>5</td>\n",
       "      <td>0</td>\n",
       "      <td>0</td>\n",
       "      <td>0</td>\n",
       "      <td>0</td>\n",
       "      <td>0</td>\n",
       "      <td>0</td>\n",
       "      <td>0</td>\n",
       "      <td>137</td>\n",
       "    </tr>\n",
       "    <tr>\n",
       "      <th>97361</th>\n",
       "      <td>2001</td>\n",
       "      <td>Russian Federation</td>\n",
       "      <td>RUS</td>\n",
       "      <td>Cyprus</td>\n",
       "      <td>CYP</td>\n",
       "      <td>0</td>\n",
       "      <td>130</td>\n",
       "      <td>0</td>\n",
       "      <td>0</td>\n",
       "      <td>0</td>\n",
       "      <td>...</td>\n",
       "      <td>0</td>\n",
       "      <td>0</td>\n",
       "      <td>0</td>\n",
       "      <td>0</td>\n",
       "      <td>0</td>\n",
       "      <td>0</td>\n",
       "      <td>0</td>\n",
       "      <td>0</td>\n",
       "      <td>0</td>\n",
       "      <td>130</td>\n",
       "    </tr>\n",
       "    <tr>\n",
       "      <th>97362</th>\n",
       "      <td>2001</td>\n",
       "      <td>Serbia and Kosovo: S/RES/1244 (1999)</td>\n",
       "      <td>SRB</td>\n",
       "      <td>Cyprus</td>\n",
       "      <td>CYP</td>\n",
       "      <td>6</td>\n",
       "      <td>404</td>\n",
       "      <td>0</td>\n",
       "      <td>0</td>\n",
       "      <td>0</td>\n",
       "      <td>...</td>\n",
       "      <td>0</td>\n",
       "      <td>6</td>\n",
       "      <td>0</td>\n",
       "      <td>0</td>\n",
       "      <td>0</td>\n",
       "      <td>0</td>\n",
       "      <td>0</td>\n",
       "      <td>0</td>\n",
       "      <td>0</td>\n",
       "      <td>410</td>\n",
       "    </tr>\n",
       "  </tbody>\n",
       "</table>\n",
       "<p>97363 rows × 32 columns</p>\n",
       "</div>"
      ],
      "text/plain": [
       "       Year                     Country of origin Country of origin (ISO)  \\\n",
       "0      2022               United Rep. of Tanzania                     TZA   \n",
       "1      2022                              Thailand                     THA   \n",
       "2      2022                            Tajikistan                     TJK   \n",
       "3      2022                          Turkmenistan                     TKM   \n",
       "4      2022                                  Togo                     TGO   \n",
       "...     ...                                   ...                     ...   \n",
       "97358  2001                       Rep. of Moldova                     MDA   \n",
       "97359  2001                               Nigeria                     NGA   \n",
       "97360  2001                              Pakistan                     PAK   \n",
       "97361  2001                    Russian Federation                     RUS   \n",
       "97362  2001  Serbia and Kosovo: S/RES/1244 (1999)                     SRB   \n",
       "\n",
       "      Country of asylum Country of asylum (ISO)  \\\n",
       "0                 Italy                     ITA   \n",
       "1                 Italy                     ITA   \n",
       "2                 Italy                     ITA   \n",
       "3                 Italy                     ITA   \n",
       "4                 Italy                     ITA   \n",
       "...                 ...                     ...   \n",
       "97358            Cyprus                     CYP   \n",
       "97359            Cyprus                     CYP   \n",
       "97360            Cyprus                     CYP   \n",
       "97361            Cyprus                     CYP   \n",
       "97362            Cyprus                     CYP   \n",
       "\n",
       "       Refugees under UNHCR's mandate  Asylum-seekers  \\\n",
       "0                                   0              10   \n",
       "1                                   0               8   \n",
       "2                                   5               0   \n",
       "3                                   5               0   \n",
       "4                                 723             106   \n",
       "...                               ...             ...   \n",
       "97358                               0               5   \n",
       "97359                               0               7   \n",
       "97360                               5             132   \n",
       "97361                               0             130   \n",
       "97362                               6             404   \n",
       "\n",
       "       IDPs of concern to UNHCR  \\\n",
       "0                             0   \n",
       "1                             0   \n",
       "2                             0   \n",
       "3                             0   \n",
       "4                             0   \n",
       "...                         ...   \n",
       "97358                         0   \n",
       "97359                         0   \n",
       "97360                         0   \n",
       "97361                         0   \n",
       "97362                         0   \n",
       "\n",
       "       Other people in need of international protection  Stateless persons  \\\n",
       "0                                                     0                  0   \n",
       "1                                                     0                  0   \n",
       "2                                                     0                  0   \n",
       "3                                                     0                  0   \n",
       "4                                                     0                  0   \n",
       "...                                                 ...                ...   \n",
       "97358                                                 0                  0   \n",
       "97359                                                 0                  0   \n",
       "97360                                                 0                  0   \n",
       "97361                                                 0                  0   \n",
       "97362                                                 0                  0   \n",
       "\n",
       "       ... Female other  Female total  Male 0 - 4 Male 5 - 11 Male 12 - 17  \\\n",
       "0      ...            5             5           0           0            0   \n",
       "1      ...            8             8           0           0            0   \n",
       "2      ...            0             0           0           0            0   \n",
       "3      ...            0             0           0           0            0   \n",
       "4      ...           16            16           0           0            0   \n",
       "...    ...          ...           ...         ...         ...          ...   \n",
       "97358  ...            0             0           0           0            0   \n",
       "97359  ...            0             0           0           0            0   \n",
       "97360  ...            0             5           0           0            0   \n",
       "97361  ...            0             0           0           0            0   \n",
       "97362  ...            0             6           0           0            0   \n",
       "\n",
       "      Male 18 - 59 Male 60  Male other  Male total  Total  \n",
       "0                0       0           5           5     10  \n",
       "1                0       0           0           0      8  \n",
       "2                0       0           0           0      5  \n",
       "3                0       0           0           0      5  \n",
       "4                0       0          90          90    829  \n",
       "...            ...     ...         ...         ...    ...  \n",
       "97358            0       0           0           0      5  \n",
       "97359            0       0           0           0      7  \n",
       "97360            0       0           0           0    137  \n",
       "97361            0       0           0           0    130  \n",
       "97362            0       0           0           0    410  \n",
       "\n",
       "[97363 rows x 32 columns]"
      ]
     },
     "execution_count": 79,
     "metadata": {},
     "output_type": "execute_result"
    }
   ],
   "source": [
    "forced"
   ]
  },
  {
   "cell_type": "code",
   "execution_count": 75,
   "metadata": {},
   "outputs": [
    {
     "data": {
      "text/plain": [
       "Index(['Year', 'Country of origin', 'Country of origin (ISO)',\n",
       "       'Country of asylum', 'Country of asylum (ISO)',\n",
       "       'Refugees under UNHCR's mandate', 'Asylum-seekers',\n",
       "       'IDPs of concern to UNHCR',\n",
       "       'Other people in need of international protection', 'Stateless persons',\n",
       "       'Host Community', 'Others of concern', 'Total forced displacements',\n",
       "       'Continent_of_Asylum', 'Sub_Region_of_Asylum', 'Continent_of_origin',\n",
       "       'Sub_Region_of_Origin'],\n",
       "      dtype='object')"
      ]
     },
     "execution_count": 75,
     "metadata": {},
     "output_type": "execute_result"
    }
   ],
   "source": [
    "pop01.columns"
   ]
  },
  {
   "cell_type": "code",
   "execution_count": 68,
   "metadata": {},
   "outputs": [
    {
     "data": {
      "text/plain": [
       "(125689, 17)"
      ]
     },
     "execution_count": 68,
     "metadata": {},
     "output_type": "execute_result"
    }
   ],
   "source": [
    "population.shape"
   ]
  },
  {
   "cell_type": "code",
   "execution_count": null,
   "metadata": {},
   "outputs": [],
   "source": [
    "mapa = gpd.read_file(\"archivos/neighbourhoods.geojson\")\n",
    "# Asegurarse de que 'feq' es un DataFrame de pandas correcto antes de transponerlo\n",
    "# Si 'feq' es un DataFrame, no necesitamos encapsularlo en una lista y convertirlo a DataFrame otra vez\n",
    "feq = listings1[listings1['accommodates']==2]\n",
    "feq = feq.groupby('neighbourhood')['price'].mean().sort_values(ascending=True)\n",
    "# Mezclamos\n",
    "adam = pd.merge(adam, feq, on='neighbourhood', how='left')\n",
    "\n",
    "# Renombramos la columna\n",
    "adam.rename(columns={'price': 'average_price'}, inplace=True)\n",
    "\n",
    "# Redondeamos el precio\n",
    "adam.average_price = adam.average_price.round(decimals=2)"
   ]
  }
 ],
 "metadata": {
  "kernelspec": {
   "display_name": "Python 3",
   "language": "python",
   "name": "python3"
  },
  "language_info": {
   "codemirror_mode": {
    "name": "ipython",
    "version": 3
   },
   "file_extension": ".py",
   "mimetype": "text/x-python",
   "name": "python",
   "nbconvert_exporter": "python",
   "pygments_lexer": "ipython3",
   "version": "3.10.0"
  }
 },
 "nbformat": 4,
 "nbformat_minor": 2
}
