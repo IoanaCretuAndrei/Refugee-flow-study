{
 "cells": [
  {
   "cell_type": "code",
   "execution_count": 1,
   "metadata": {},
   "outputs": [],
   "source": [
    "import pandas as pd\n",
    "import numpy as np\n",
    "import seaborn as sns\n",
    "import matplotlib.pyplot as plt\n",
    "import plotly.express as px "
   ]
  },
  {
   "cell_type": "code",
   "execution_count": 37,
   "metadata": {},
   "outputs": [],
   "source": [
    "asylum = pd.read_csv(r'C:\\Users\\ioana\\OneDrive\\Escritorio\\Entorno10\\Refugee_project_study\\Refugees-flow-study-project\\Data\\asylum_decisions.csv')\n",
    "population = pd.read_csv(r'C:\\Users\\ioana\\OneDrive\\Escritorio\\Entorno10\\Refugee_project_study\\Refugees-flow-study-project\\Data\\population.csv')"
   ]
  },
  {
   "cell_type": "code",
   "execution_count": 19,
   "metadata": {},
   "outputs": [
    {
     "data": {
      "text/html": [
       "<div>\n",
       "<style scoped>\n",
       "    .dataframe tbody tr th:only-of-type {\n",
       "        vertical-align: middle;\n",
       "    }\n",
       "\n",
       "    .dataframe tbody tr th {\n",
       "        vertical-align: top;\n",
       "    }\n",
       "\n",
       "    .dataframe thead th {\n",
       "        text-align: right;\n",
       "    }\n",
       "</style>\n",
       "<table border=\"1\" class=\"dataframe\">\n",
       "  <thead>\n",
       "    <tr style=\"text-align: right;\">\n",
       "      <th></th>\n",
       "      <th>Year</th>\n",
       "      <th>Country of origin</th>\n",
       "      <th>Country of origin (ISO)</th>\n",
       "      <th>Country of asylum</th>\n",
       "      <th>Country of asylum (ISO)</th>\n",
       "      <th>Refugees under UNHCR's mandate</th>\n",
       "      <th>Asylum-seekers</th>\n",
       "      <th>IDPs of concern to UNHCR</th>\n",
       "      <th>Other people in need of international protection</th>\n",
       "      <th>Stateless persons</th>\n",
       "      <th>Host Community</th>\n",
       "      <th>Others of concern</th>\n",
       "    </tr>\n",
       "  </thead>\n",
       "  <tbody>\n",
       "    <tr>\n",
       "      <th>0</th>\n",
       "      <td>2023</td>\n",
       "      <td>Philippines</td>\n",
       "      <td>PHL</td>\n",
       "      <td>Poland</td>\n",
       "      <td>POL</td>\n",
       "      <td>5</td>\n",
       "      <td>0</td>\n",
       "      <td>0</td>\n",
       "      <td>-</td>\n",
       "      <td>0</td>\n",
       "      <td>0</td>\n",
       "      <td>0</td>\n",
       "    </tr>\n",
       "    <tr>\n",
       "      <th>1</th>\n",
       "      <td>2023</td>\n",
       "      <td>South Africa</td>\n",
       "      <td>ZAF</td>\n",
       "      <td>Poland</td>\n",
       "      <td>POL</td>\n",
       "      <td>6</td>\n",
       "      <td>0</td>\n",
       "      <td>0</td>\n",
       "      <td>-</td>\n",
       "      <td>0</td>\n",
       "      <td>0</td>\n",
       "      <td>0</td>\n",
       "    </tr>\n",
       "    <tr>\n",
       "      <th>2</th>\n",
       "      <td>2023</td>\n",
       "      <td>Russian Federation</td>\n",
       "      <td>RUS</td>\n",
       "      <td>Poland</td>\n",
       "      <td>POL</td>\n",
       "      <td>2284</td>\n",
       "      <td>1102</td>\n",
       "      <td>0</td>\n",
       "      <td>-</td>\n",
       "      <td>0</td>\n",
       "      <td>0</td>\n",
       "      <td>0</td>\n",
       "    </tr>\n",
       "    <tr>\n",
       "      <th>3</th>\n",
       "      <td>2023</td>\n",
       "      <td>Rwanda</td>\n",
       "      <td>RWA</td>\n",
       "      <td>Poland</td>\n",
       "      <td>POL</td>\n",
       "      <td>5</td>\n",
       "      <td>0</td>\n",
       "      <td>0</td>\n",
       "      <td>-</td>\n",
       "      <td>0</td>\n",
       "      <td>0</td>\n",
       "      <td>0</td>\n",
       "    </tr>\n",
       "    <tr>\n",
       "      <th>4</th>\n",
       "      <td>2023</td>\n",
       "      <td>Serbia and Kosovo: S/RES/1244 (1999)</td>\n",
       "      <td>SRB</td>\n",
       "      <td>Poland</td>\n",
       "      <td>POL</td>\n",
       "      <td>5</td>\n",
       "      <td>0</td>\n",
       "      <td>0</td>\n",
       "      <td>-</td>\n",
       "      <td>0</td>\n",
       "      <td>0</td>\n",
       "      <td>0</td>\n",
       "    </tr>\n",
       "  </tbody>\n",
       "</table>\n",
       "</div>"
      ],
      "text/plain": [
       "   Year                     Country of origin Country of origin (ISO)  \\\n",
       "0  2023                           Philippines                     PHL   \n",
       "1  2023                          South Africa                     ZAF   \n",
       "2  2023                    Russian Federation                     RUS   \n",
       "3  2023                                Rwanda                     RWA   \n",
       "4  2023  Serbia and Kosovo: S/RES/1244 (1999)                     SRB   \n",
       "\n",
       "  Country of asylum Country of asylum (ISO)  Refugees under UNHCR's mandate  \\\n",
       "0            Poland                     POL                               5   \n",
       "1            Poland                     POL                               6   \n",
       "2            Poland                     POL                            2284   \n",
       "3            Poland                     POL                               5   \n",
       "4            Poland                     POL                               5   \n",
       "\n",
       "   Asylum-seekers  IDPs of concern to UNHCR  \\\n",
       "0               0                         0   \n",
       "1               0                         0   \n",
       "2            1102                         0   \n",
       "3               0                         0   \n",
       "4               0                         0   \n",
       "\n",
       "  Other people in need of international protection  Stateless persons  \\\n",
       "0                                                -                  0   \n",
       "1                                                -                  0   \n",
       "2                                                -                  0   \n",
       "3                                                -                  0   \n",
       "4                                                -                  0   \n",
       "\n",
       "  Host Community  Others of concern  \n",
       "0              0                  0  \n",
       "1              0                  0  \n",
       "2              0                  0  \n",
       "3              0                  0  \n",
       "4              0                  0  "
      ]
     },
     "execution_count": 19,
     "metadata": {},
     "output_type": "execute_result"
    }
   ],
   "source": [
    "population.head()"
   ]
  },
  {
   "cell_type": "markdown",
   "metadata": {},
   "source": [
    "Refugees include individuals recognized under the 1951 Convention relating to the Status of Refugees, its 1967 Protocol, the 1969 Organization of African Unity (OAU) Convention Governing the Specific Aspects of Refugee Problems in Africa, the refugee definition contained in the 1984 Cartagena Declaration on Refugees as incorporated into national laws, those recognized in accordance with the UNHCR Statute, individuals granted complementary forms of protection, and those enjoying temporary protection. The refugee population also includes people in refugee-like situations.<br>\n",
    "\n",
    "Asylum-seekers are individuals who have sought international protection and whose claims for refugee status have not yet been determined. <br>\n",
    "\n",
    "Internally displaced persons (IDPs) are persons or groups of persons who have been forced or obliged to flee or to leave their homes or places of habitual residence, in particular as a result of, or in order to avoid the effects of armed conflict, situations of generalized violence, violations of human rights or natural or human-made disasters, and who have not crossed an internationally recognized State border. For the purposes of UNHCR’s statistics, this population includes only conflict-generated IDPs to whom the Office extends protection and/or assistance. The IDP population also includes people in an IDP-like situation.<br>\n",
    "\n",
    "Other people in need of international protection refers to people who are outside their country or territory of origin, typically because they have been forcibly displaced across international borders, who have not been reported under other categories (asylum-seekers, refugees, people in refugee-like situations) but who likely need international protection, including protection against forced return, as well as access to basic services on a temporary or longer-term basis.<br>\n",
    "\n",
    "Stateless People as those not considered as nationals by any State under the operation of its law. In other words, they do not possess the nationality of any State. UNHCR statistics refer to people who fall under the organization’s statelessness mandate as those who are stateless according to this international definition. Data from some countries may also include people with undetermined nationality. These are people who lack proof of possession of any nationality and at the same time have or are regarded as having important links to more than one State. UNHCR also works with populations at risk of statelessness, but persons at risk of statelessness are not reported on under the statistical category of individuals under UNHCR’s statelessness mandate.<br>\n",
    "\n",
    "Host community refers to a community that hosts large populations of refugees or internally displaced persons, whether in camps, integrated into households, or independently. UNHCR reports on host communities in countries with substantive programmes focusing on sharing the burden of hosting large refugee populations, as set out in the Global Compact on Refugees.<br>\n",
    "\n",
    "Other groups or persons of concern refers to individuals who do not necessarily fall directly into any of these groups above but to whom UNHCR has extended its protection and/or assistance services, based on humanitarian or other special grounds."
   ]
  },
  {
   "cell_type": "code",
   "execution_count": 20,
   "metadata": {},
   "outputs": [
    {
     "data": {
      "text/plain": [
       "Year                                                0\n",
       "Country of origin                                   0\n",
       "Country of origin (ISO)                             0\n",
       "Country of asylum                                   0\n",
       "Country of asylum (ISO)                             0\n",
       "Refugees under UNHCR's mandate                      0\n",
       "Asylum-seekers                                      0\n",
       "IDPs of concern to UNHCR                            0\n",
       "Other people in need of international protection    0\n",
       "Stateless persons                                   0\n",
       "Host Community                                      0\n",
       "Others of concern                                   0\n",
       "dtype: int64"
      ]
     },
     "execution_count": 20,
     "metadata": {},
     "output_type": "execute_result"
    }
   ],
   "source": [
    "population.isnull().sum()   "
   ]
  },
  {
   "cell_type": "code",
   "execution_count": 21,
   "metadata": {},
   "outputs": [
    {
     "data": {
      "text/plain": [
       "Country of asylum\n",
       "Thailand              14138030\n",
       "Myanmar               13276638\n",
       "Cote d'Ivoire          9581213\n",
       "Nepal                  7801762\n",
       "Bangladesh             7192879\n",
       "Latvia                 5746592\n",
       "Syrian Arab Rep.       4312000\n",
       "Estonia                1891145\n",
       "Iraq                   1840197\n",
       "Kuwait                 1819106\n",
       "Russian Federation     1706567\n",
       "Saudi Arabia           1330000\n",
       "Malaysia                924003\n",
       "Ukraine                 889671\n",
       "Uzbekistan              683372\n",
       "Kenya                   662657\n",
       "Dominican Rep.          553770\n",
       "Sweden                  475381\n",
       "Cambodia                397332\n",
       "Viet Nam                335900\n",
       "Name: Stateless persons, dtype: int64"
      ]
     },
     "execution_count": 21,
     "metadata": {},
     "output_type": "execute_result"
    }
   ],
   "source": [
    "# No eliminar stateless person sino agrupar por pais de asilo. Vamos a ver si las personas viajan a paises cercanos y así podemos deducir que los refugiados stateless provienen en su gran mayoría de ciertas áreas. \n",
    "#agrupar por pais de origen y sumar los stateless persons \n",
    "population.groupby(['Country of asylum'])['Stateless persons'].sum().nlargest(20)"
   ]
  },
  {
   "cell_type": "code",
   "execution_count": 22,
   "metadata": {},
   "outputs": [
    {
     "data": {
      "text/plain": [
       "array(['0', '12002', '49305', '454831', '15765482', '2581900', '7576',\n",
       "       '1700', '401356', '1400000', '14521', '3365', '827077', '81620',\n",
       "       '174850', '13666', '83995', '876000', '3051', '947281', '1038257',\n",
       "       '406161', '1224393', '96800', '2155', '617687', '81619', '5480',\n",
       "       '1102358', '640', '11972', '85061', '371594', '15209720', '5433',\n",
       "       '9346', '596148', '4200', '878451', '-', '3581', '500353', '8165',\n",
       "       '391', '250000', '4605', '2428906', '4020', '6000', '5226',\n",
       "       '110526', '741889', '1863', '1301', '84953', '5892', '494710',\n",
       "       '68880', '9201', '26596', '154150', '472000', '44000', '2351313',\n",
       "       '2304506'], dtype=object)"
      ]
     },
     "execution_count": 22,
     "metadata": {},
     "output_type": "execute_result"
    }
   ],
   "source": [
    "population['Host Community'].unique()"
   ]
  },
  {
   "cell_type": "code",
   "execution_count": 23,
   "metadata": {},
   "outputs": [
    {
     "data": {
      "text/plain": [
       "<Axes: xlabel='Year'>"
      ]
     },
     "execution_count": 23,
     "metadata": {},
     "output_type": "execute_result"
    },
    {
     "data": {
      "image/png": "[encoded data removed]",
      "text/plain": [
       "<Figure size 640x480 with 1 Axes>"
      ]
     },
     "metadata": {},
     "output_type": "display_data"
    }
   ],
   "source": [
    "#quiero ver como evoluciona el numero de refugiados en el tiempo en una grafica de linea\n",
    "population.groupby(['Year'])['Asylum-seekers'].sum().plot(kind='line')\n",
    "\n",
    "#No había datos de asylum seekers hasta el año 1990 y algo?"
   ]
  },
  {
   "cell_type": "code",
   "execution_count": 24,
   "metadata": {},
   "outputs": [
    {
     "data": {
      "text/plain": [
       "<Axes: xlabel='Year'>"
      ]
     },
     "execution_count": 24,
     "metadata": {},
     "output_type": "execute_result"
    },
    {
     "data": {
      "image/png": "[encoded data removed]",
      "text/plain": [
       "<Figure size 640x480 with 1 Axes>"
      ]
     },
     "metadata": {},
     "output_type": "display_data"
    }
   ],
   "source": [
    "population.groupby(['Year'])['Refugees under UNHCR\\'s mandate'].sum().plot(kind='line')"
   ]
  },
  {
   "cell_type": "code",
   "execution_count": 25,
   "metadata": {},
   "outputs": [
    {
     "data": {
      "text/plain": [
       "<Axes: xlabel='Year'>"
      ]
     },
     "execution_count": 25,
     "metadata": {},
     "output_type": "execute_result"
    },
    {
     "data": {
      "image/png": "[encoded data removed]",
      "text/plain": [
       "<Figure size 640x480 with 1 Axes>"
      ]
     },
     "metadata": {},
     "output_type": "display_data"
    }
   ],
   "source": [
    "population.groupby(['Year'])['Others of concern'].sum().plot(kind='line')"
   ]
  },
  {
   "cell_type": "code",
   "execution_count": 26,
   "metadata": {},
   "outputs": [
    {
     "data": {
      "text/plain": [
       "array(['-', '10878', '23628', '17000', '14000', '51156', '146559', '311',\n",
       "       '980470', '214771', '15428', '310148', '436060', '2452890',\n",
       "       '18900', '114805', '495481', '19635', '53027', '146696', '1004',\n",
       "       '969817', '165174', '13531', '264040', '436845', '2453862',\n",
       "       '16598', '14178', '23023', '113722', '495304', '128000', '1910',\n",
       "       '791442', '60', '8403', '14995', '5', '25', '175992', '92',\n",
       "       '500271', '1842390', '21766', '116000', '503882', '234', '1469',\n",
       "       '25800', '164622', '11805', '67', '63179', '81847', '118937',\n",
       "       '2879', '515039', '19', '171659', '9557', '163754', '39', '454547',\n",
       "       '1729537', '22401', '114050', '401777', '23307', '4663', '14063',\n",
       "       '14', '21', '16691', '38', '11', '16602', '16190', '115768',\n",
       "       '3588', '377864', '7664', '14362', '5472', '123507', '52',\n",
       "       '452712', '1771237', '20828', '33816', '374045', '173343', '22000',\n",
       "       '121', '52982', '42104', '94400', '803', '428214', '127152',\n",
       "       '39771', '285122', '1171552', '26428', '256265', '36400', '31843',\n",
       "       '11605', '15602', '25686'], dtype=object)"
      ]
     },
     "execution_count": 26,
     "metadata": {},
     "output_type": "execute_result"
    }
   ],
   "source": [
    "population['Other people in need of international protection'].unique() "
   ]
  },
  {
   "cell_type": "code",
   "execution_count": 27,
   "metadata": {},
   "outputs": [],
   "source": [
    "#reemplazar los valores '-' por np.nan en la columna 'Other people in need of international protection'\n",
    "population['Other people in need of international protection'] = population['Other people in need of international protection'].replace('-', np.nan)"
   ]
  },
  {
   "cell_type": "code",
   "execution_count": 28,
   "metadata": {},
   "outputs": [
    {
     "data": {
      "text/plain": [
       "0.9990691309502024"
      ]
     },
     "execution_count": 28,
     "metadata": {},
     "output_type": "execute_result"
    }
   ],
   "source": [
    "population['Other people in need of international protection'].isnull().mean() "
   ]
  },
  {
   "cell_type": "code",
   "execution_count": 38,
   "metadata": {},
   "outputs": [],
   "source": [
    "#ELimino la columna other people in need of international protection porque tiene muchos valores nulos y no me aporta información. \n",
    "population.drop(columns=['Other people in need of international protection', 'Others of concern'], inplace = True)"
   ]
  },
  {
   "cell_type": "code",
   "execution_count": null,
   "metadata": {},
   "outputs": [],
   "source": []
  },
  {
   "cell_type": "code",
   "execution_count": 39,
   "metadata": {},
   "outputs": [
    {
     "data": {
      "text/plain": [
       "Index(['Year', 'Country of origin', 'Country of origin (ISO)',\n",
       "       'Country of asylum', 'Country of asylum (ISO)',\n",
       "       'Refugees under UNHCR's mandate', 'Asylum-seekers',\n",
       "       'IDPs of concern to UNHCR', 'Stateless persons', 'Host Community'],\n",
       "      dtype='object')"
      ]
     },
     "execution_count": 39,
     "metadata": {},
     "output_type": "execute_result"
    }
   ],
   "source": [
    "population.columns"
   ]
  },
  {
   "cell_type": "code",
   "execution_count": 36,
   "metadata": {},
   "outputs": [
    {
     "data": {
      "text/plain": [
       "0         98.099277\n",
       "5          0.290399\n",
       "6          0.064445\n",
       "7          0.046146\n",
       "10         0.040576\n",
       "            ...    \n",
       "497        0.000796\n",
       "129445     0.000796\n",
       "1747       0.000796\n",
       "2941       0.000796\n",
       "600        0.000796\n",
       "Name: Others of concern, Length: 930, dtype: float64"
      ]
     },
     "execution_count": 36,
     "metadata": {},
     "output_type": "execute_result"
    }
   ],
   "source": [
    "#quiero calcular el porcentaje  de 0s en other of concern\n",
    "population['Others of concern'].value_counts(normalize=True) * 100\n",
    "\n",
    "#Un 98% de los valores de others of concern son 0. Elimino la columna."
   ]
  },
  {
   "cell_type": "code",
   "execution_count": 40,
   "metadata": {},
   "outputs": [],
   "source": [
    "# hacer una nueva columna que sea la suma de los diferentes tipos tipos de refugiados\n",
    "population['Total refugees'] = population['Refugees under UNHCR\\'s mandate'] + population['Asylum-seekers'] + population['IDPs of concern to UNHCR']"
   ]
  },
  {
   "cell_type": "code",
   "execution_count": 41,
   "metadata": {},
   "outputs": [
    {
     "data": {
      "text/plain": [
       "<Axes: xlabel='Year'>"
      ]
     },
     "execution_count": 41,
     "metadata": {},
     "output_type": "execute_result"
    },
    {
     "data": {
      "image/png": "[encoded data removed]",
      "text/plain": [
       "<Figure size 640x480 with 1 Axes>"
      ]
     },
     "metadata": {},
     "output_type": "display_data"
    }
   ],
   "source": [
    "population.groupby(['Year'])['Total refugees'].sum().plot(kind='line')"
   ]
  },
  {
   "cell_type": "code",
   "execution_count": 75,
   "metadata": {},
   "outputs": [
    {
     "data": {
      "text/html": [
       "<div>\n",
       "<style scoped>\n",
       "    .dataframe tbody tr th:only-of-type {\n",
       "        vertical-align: middle;\n",
       "    }\n",
       "\n",
       "    .dataframe tbody tr th {\n",
       "        vertical-align: top;\n",
       "    }\n",
       "\n",
       "    .dataframe thead th {\n",
       "        text-align: right;\n",
       "    }\n",
       "</style>\n",
       "<table border=\"1\" class=\"dataframe\">\n",
       "  <thead>\n",
       "    <tr style=\"text-align: right;\">\n",
       "      <th></th>\n",
       "      <th>Year</th>\n",
       "      <th>Country of origin</th>\n",
       "      <th>Country of origin (ISO)</th>\n",
       "      <th>Country of asylum</th>\n",
       "      <th>Country of asylum (ISO)</th>\n",
       "      <th>Refugees under UNHCR's mandate</th>\n",
       "      <th>Asylum-seekers</th>\n",
       "      <th>IDPs of concern to UNHCR</th>\n",
       "      <th>Stateless persons</th>\n",
       "      <th>Host Community</th>\n",
       "      <th>Total refugees</th>\n",
       "      <th>continent</th>\n",
       "      <th>Continent_of_Asylum</th>\n",
       "    </tr>\n",
       "  </thead>\n",
       "  <tbody>\n",
       "    <tr>\n",
       "      <th>109286</th>\n",
       "      <td>1999</td>\n",
       "      <td>Unknown</td>\n",
       "      <td>UNK</td>\n",
       "      <td>Unknown</td>\n",
       "      <td>UNK</td>\n",
       "      <td>0</td>\n",
       "      <td>1027400</td>\n",
       "      <td>0</td>\n",
       "      <td>0</td>\n",
       "      <td>-</td>\n",
       "      <td>1027400</td>\n",
       "      <td>NaN</td>\n",
       "      <td>NaN</td>\n",
       "    </tr>\n",
       "    <tr>\n",
       "      <th>111621</th>\n",
       "      <td>1998</td>\n",
       "      <td>Unknown</td>\n",
       "      <td>UNK</td>\n",
       "      <td>Unknown</td>\n",
       "      <td>UNK</td>\n",
       "      <td>0</td>\n",
       "      <td>977800</td>\n",
       "      <td>0</td>\n",
       "      <td>0</td>\n",
       "      <td>-</td>\n",
       "      <td>977800</td>\n",
       "      <td>NaN</td>\n",
       "      <td>NaN</td>\n",
       "    </tr>\n",
       "    <tr>\n",
       "      <th>112761</th>\n",
       "      <td>1997</td>\n",
       "      <td>Unknown</td>\n",
       "      <td>UNK</td>\n",
       "      <td>Unknown</td>\n",
       "      <td>UNK</td>\n",
       "      <td>0</td>\n",
       "      <td>1028200</td>\n",
       "      <td>0</td>\n",
       "      <td>0</td>\n",
       "      <td>-</td>\n",
       "      <td>1028200</td>\n",
       "      <td>NaN</td>\n",
       "      <td>NaN</td>\n",
       "    </tr>\n",
       "    <tr>\n",
       "      <th>114372</th>\n",
       "      <td>1996</td>\n",
       "      <td>Unknown</td>\n",
       "      <td>UNK</td>\n",
       "      <td>Unknown</td>\n",
       "      <td>UNK</td>\n",
       "      <td>0</td>\n",
       "      <td>977087</td>\n",
       "      <td>0</td>\n",
       "      <td>0</td>\n",
       "      <td>-</td>\n",
       "      <td>977087</td>\n",
       "      <td>NaN</td>\n",
       "      <td>NaN</td>\n",
       "    </tr>\n",
       "    <tr>\n",
       "      <th>115995</th>\n",
       "      <td>1995</td>\n",
       "      <td>Unknown</td>\n",
       "      <td>UNK</td>\n",
       "      <td>Unknown</td>\n",
       "      <td>UNK</td>\n",
       "      <td>0</td>\n",
       "      <td>986458</td>\n",
       "      <td>0</td>\n",
       "      <td>0</td>\n",
       "      <td>-</td>\n",
       "      <td>986458</td>\n",
       "      <td>NaN</td>\n",
       "      <td>NaN</td>\n",
       "    </tr>\n",
       "    <tr>\n",
       "      <th>...</th>\n",
       "      <td>...</td>\n",
       "      <td>...</td>\n",
       "      <td>...</td>\n",
       "      <td>...</td>\n",
       "      <td>...</td>\n",
       "      <td>...</td>\n",
       "      <td>...</td>\n",
       "      <td>...</td>\n",
       "      <td>...</td>\n",
       "      <td>...</td>\n",
       "      <td>...</td>\n",
       "      <td>...</td>\n",
       "      <td>...</td>\n",
       "    </tr>\n",
       "    <tr>\n",
       "      <th>125609</th>\n",
       "      <td>1955</td>\n",
       "      <td>Unknown</td>\n",
       "      <td>UNK</td>\n",
       "      <td>Unknown</td>\n",
       "      <td>UNK</td>\n",
       "      <td>170900</td>\n",
       "      <td>0</td>\n",
       "      <td>0</td>\n",
       "      <td>0</td>\n",
       "      <td>-</td>\n",
       "      <td>170900</td>\n",
       "      <td>NaN</td>\n",
       "      <td>NaN</td>\n",
       "    </tr>\n",
       "    <tr>\n",
       "      <th>125630</th>\n",
       "      <td>1954</td>\n",
       "      <td>Unknown</td>\n",
       "      <td>UNK</td>\n",
       "      <td>Unknown</td>\n",
       "      <td>UNK</td>\n",
       "      <td>168000</td>\n",
       "      <td>0</td>\n",
       "      <td>0</td>\n",
       "      <td>0</td>\n",
       "      <td>-</td>\n",
       "      <td>168000</td>\n",
       "      <td>NaN</td>\n",
       "      <td>NaN</td>\n",
       "    </tr>\n",
       "    <tr>\n",
       "      <th>125648</th>\n",
       "      <td>1953</td>\n",
       "      <td>Unknown</td>\n",
       "      <td>UNK</td>\n",
       "      <td>Unknown</td>\n",
       "      <td>UNK</td>\n",
       "      <td>168000</td>\n",
       "      <td>0</td>\n",
       "      <td>0</td>\n",
       "      <td>0</td>\n",
       "      <td>-</td>\n",
       "      <td>168000</td>\n",
       "      <td>NaN</td>\n",
       "      <td>NaN</td>\n",
       "    </tr>\n",
       "    <tr>\n",
       "      <th>125666</th>\n",
       "      <td>1952</td>\n",
       "      <td>Unknown</td>\n",
       "      <td>UNK</td>\n",
       "      <td>Unknown</td>\n",
       "      <td>UNK</td>\n",
       "      <td>165000</td>\n",
       "      <td>0</td>\n",
       "      <td>0</td>\n",
       "      <td>0</td>\n",
       "      <td>-</td>\n",
       "      <td>165000</td>\n",
       "      <td>NaN</td>\n",
       "      <td>NaN</td>\n",
       "    </tr>\n",
       "    <tr>\n",
       "      <th>125688</th>\n",
       "      <td>1951</td>\n",
       "      <td>Unknown</td>\n",
       "      <td>UNK</td>\n",
       "      <td>Unknown</td>\n",
       "      <td>UNK</td>\n",
       "      <td>158800</td>\n",
       "      <td>0</td>\n",
       "      <td>0</td>\n",
       "      <td>0</td>\n",
       "      <td>-</td>\n",
       "      <td>158800</td>\n",
       "      <td>NaN</td>\n",
       "      <td>NaN</td>\n",
       "    </tr>\n",
       "  </tbody>\n",
       "</table>\n",
       "<p>62 rows × 13 columns</p>\n",
       "</div>"
      ],
      "text/plain": [
       "        Year Country of origin Country of origin (ISO) Country of asylum  \\\n",
       "109286  1999          Unknown                      UNK          Unknown    \n",
       "111621  1998          Unknown                      UNK          Unknown    \n",
       "112761  1997          Unknown                      UNK          Unknown    \n",
       "114372  1996          Unknown                      UNK          Unknown    \n",
       "115995  1995          Unknown                      UNK          Unknown    \n",
       "...      ...               ...                     ...               ...   \n",
       "125609  1955          Unknown                      UNK          Unknown    \n",
       "125630  1954          Unknown                      UNK          Unknown    \n",
       "125648  1953          Unknown                      UNK          Unknown    \n",
       "125666  1952          Unknown                      UNK          Unknown    \n",
       "125688  1951          Unknown                      UNK          Unknown    \n",
       "\n",
       "       Country of asylum (ISO)  Refugees under UNHCR's mandate  \\\n",
       "109286                     UNK                               0   \n",
       "111621                     UNK                               0   \n",
       "112761                     UNK                               0   \n",
       "114372                     UNK                               0   \n",
       "115995                     UNK                               0   \n",
       "...                        ...                             ...   \n",
       "125609                     UNK                          170900   \n",
       "125630                     UNK                          168000   \n",
       "125648                     UNK                          168000   \n",
       "125666                     UNK                          165000   \n",
       "125688                     UNK                          158800   \n",
       "\n",
       "        Asylum-seekers  IDPs of concern to UNHCR  Stateless persons  \\\n",
       "109286         1027400                         0                  0   \n",
       "111621          977800                         0                  0   \n",
       "112761         1028200                         0                  0   \n",
       "114372          977087                         0                  0   \n",
       "115995          986458                         0                  0   \n",
       "...                ...                       ...                ...   \n",
       "125609               0                         0                  0   \n",
       "125630               0                         0                  0   \n",
       "125648               0                         0                  0   \n",
       "125666               0                         0                  0   \n",
       "125688               0                         0                  0   \n",
       "\n",
       "       Host Community  Total refugees continent Continent_of_Asylum  \n",
       "109286              -         1027400       NaN                 NaN  \n",
       "111621              -          977800       NaN                 NaN  \n",
       "112761              -         1028200       NaN                 NaN  \n",
       "114372              -          977087       NaN                 NaN  \n",
       "115995              -          986458       NaN                 NaN  \n",
       "...               ...             ...       ...                 ...  \n",
       "125609              -          170900       NaN                 NaN  \n",
       "125630              -          168000       NaN                 NaN  \n",
       "125648              -          168000       NaN                 NaN  \n",
       "125666              -          165000       NaN                 NaN  \n",
       "125688              -          158800       NaN                 NaN  \n",
       "\n",
       "[62 rows x 13 columns]"
      ]
     },
     "execution_count": 75,
     "metadata": {},
     "output_type": "execute_result"
    }
   ],
   "source": [
    "population[population['Country of asylum (ISO)']=='UNK']"
   ]
  },
  {
   "cell_type": "code",
   "execution_count": 56,
   "metadata": {},
   "outputs": [],
   "source": [
    "continent = pd.read_csv('Data\\countryContinent.csv')\n",
    "continent = continent[['code_3', 'continent', 'sub_region']]"
   ]
  },
  {
   "cell_type": "code",
   "execution_count": 57,
   "metadata": {},
   "outputs": [
    {
     "data": {
      "text/html": [
       "<div>\n",
       "<style scoped>\n",
       "    .dataframe tbody tr th:only-of-type {\n",
       "        vertical-align: middle;\n",
       "    }\n",
       "\n",
       "    .dataframe tbody tr th {\n",
       "        vertical-align: top;\n",
       "    }\n",
       "\n",
       "    .dataframe thead th {\n",
       "        text-align: right;\n",
       "    }\n",
       "</style>\n",
       "<table border=\"1\" class=\"dataframe\">\n",
       "  <thead>\n",
       "    <tr style=\"text-align: right;\">\n",
       "      <th></th>\n",
       "      <th>code_3</th>\n",
       "      <th>continent</th>\n",
       "      <th>sub_region</th>\n",
       "    </tr>\n",
       "  </thead>\n",
       "  <tbody>\n",
       "    <tr>\n",
       "      <th>0</th>\n",
       "      <td>AFG</td>\n",
       "      <td>Asia</td>\n",
       "      <td>Southern Asia</td>\n",
       "    </tr>\n",
       "    <tr>\n",
       "      <th>1</th>\n",
       "      <td>ALA</td>\n",
       "      <td>Europe</td>\n",
       "      <td>Northern Europe</td>\n",
       "    </tr>\n",
       "    <tr>\n",
       "      <th>2</th>\n",
       "      <td>ALB</td>\n",
       "      <td>Europe</td>\n",
       "      <td>Southern Europe</td>\n",
       "    </tr>\n",
       "    <tr>\n",
       "      <th>3</th>\n",
       "      <td>DZA</td>\n",
       "      <td>Africa</td>\n",
       "      <td>Northern Africa</td>\n",
       "    </tr>\n",
       "    <tr>\n",
       "      <th>4</th>\n",
       "      <td>ASM</td>\n",
       "      <td>Oceania</td>\n",
       "      <td>Polynesia</td>\n",
       "    </tr>\n",
       "    <tr>\n",
       "      <th>...</th>\n",
       "      <td>...</td>\n",
       "      <td>...</td>\n",
       "      <td>...</td>\n",
       "    </tr>\n",
       "    <tr>\n",
       "      <th>244</th>\n",
       "      <td>WLF</td>\n",
       "      <td>Oceania</td>\n",
       "      <td>Polynesia</td>\n",
       "    </tr>\n",
       "    <tr>\n",
       "      <th>245</th>\n",
       "      <td>ESH</td>\n",
       "      <td>Africa</td>\n",
       "      <td>Northern Africa</td>\n",
       "    </tr>\n",
       "    <tr>\n",
       "      <th>246</th>\n",
       "      <td>YEM</td>\n",
       "      <td>Asia</td>\n",
       "      <td>Western Asia</td>\n",
       "    </tr>\n",
       "    <tr>\n",
       "      <th>247</th>\n",
       "      <td>ZMB</td>\n",
       "      <td>Africa</td>\n",
       "      <td>Eastern Africa</td>\n",
       "    </tr>\n",
       "    <tr>\n",
       "      <th>248</th>\n",
       "      <td>ZWE</td>\n",
       "      <td>Africa</td>\n",
       "      <td>Eastern Africa</td>\n",
       "    </tr>\n",
       "  </tbody>\n",
       "</table>\n",
       "<p>249 rows × 3 columns</p>\n",
       "</div>"
      ],
      "text/plain": [
       "    code_3 continent       sub_region\n",
       "0      AFG      Asia    Southern Asia\n",
       "1      ALA    Europe  Northern Europe\n",
       "2      ALB    Europe  Southern Europe\n",
       "3      DZA    Africa  Northern Africa\n",
       "4      ASM   Oceania        Polynesia\n",
       "..     ...       ...              ...\n",
       "244    WLF   Oceania        Polynesia\n",
       "245    ESH    Africa  Northern Africa\n",
       "246    YEM      Asia     Western Asia\n",
       "247    ZMB    Africa   Eastern Africa\n",
       "248    ZWE    Africa   Eastern Africa\n",
       "\n",
       "[249 rows x 3 columns]"
      ]
     },
     "execution_count": 57,
     "metadata": {},
     "output_type": "execute_result"
    }
   ],
   "source": [
    "continent"
   ]
  },
  {
   "cell_type": "code",
   "execution_count": 63,
   "metadata": {},
   "outputs": [
    {
     "data": {
      "text/plain": [
       "57"
      ]
     },
     "execution_count": 63,
     "metadata": {},
     "output_type": "execute_result"
    }
   ],
   "source": [
    "#comprobar si la columna code_3 contiene los mismos valores que la columna Country of asylum (ISO)\n",
    "set(continent['code_3']) == set(population['Country of asylum (ISO)'])\n",
    "# Tiene más valores pero en principio todo concuerda. Porque hay un total de 193 paises en la columna country asylum y 250 en la columna code 3. "
   ]
  },
  {
   "cell_type": "code",
   "execution_count": 64,
   "metadata": {},
   "outputs": [],
   "source": [
    "# añadir nueva columna con el continente y subregion a population\n",
    "#primero creo un diccionario con los valores de code_3 como keys y continent y sub_region como values\n",
    "continent_dict = dict(zip(continent.code_3, continent.continent))\n"
   ]
  },
  {
   "cell_type": "code",
   "execution_count": 65,
   "metadata": {},
   "outputs": [
    {
     "data": {
      "text/plain": [
       "{'AFG': 'Asia',\n",
       " 'ALA': 'Europe',\n",
       " 'ALB': 'Europe',\n",
       " 'DZA': 'Africa',\n",
       " 'ASM': 'Oceania',\n",
       " 'AND': 'Europe',\n",
       " 'AGO': 'Africa',\n",
       " 'AIA': 'Americas',\n",
       " 'ATA': nan,\n",
       " 'ATG': 'Americas',\n",
       " 'ARG': 'Americas',\n",
       " 'ARM': 'Asia',\n",
       " 'ABW': 'Americas',\n",
       " 'AUS': 'Oceania',\n",
       " 'AUT': 'Europe',\n",
       " 'AZE': 'Asia',\n",
       " 'BHS': 'Americas',\n",
       " 'BHR': 'Asia',\n",
       " 'BGD': 'Asia',\n",
       " 'BRB': 'Americas',\n",
       " 'BLR': 'Europe',\n",
       " 'BEL': 'Europe',\n",
       " 'BLZ': 'Americas',\n",
       " 'BEN': 'Africa',\n",
       " 'BMU': 'Americas',\n",
       " 'BTN': 'Asia',\n",
       " 'BOL': 'Americas',\n",
       " 'BES': 'Americas',\n",
       " 'BIH': 'Europe',\n",
       " 'BWA': 'Africa',\n",
       " 'BVT': nan,\n",
       " 'BRA': 'Americas',\n",
       " 'IOT': nan,\n",
       " 'BRN': 'Asia',\n",
       " 'BGR': 'Europe',\n",
       " 'BFA': 'Africa',\n",
       " 'BDI': 'Africa',\n",
       " 'KHM': 'Asia',\n",
       " 'CMR': 'Africa',\n",
       " 'CAN': 'Americas',\n",
       " 'CPV': 'Africa',\n",
       " 'CYM': 'Americas',\n",
       " 'CAF': 'Africa',\n",
       " 'TCD': 'Africa',\n",
       " 'CHL': 'Americas',\n",
       " 'CHN': 'Asia',\n",
       " 'CXR': nan,\n",
       " 'CCK': nan,\n",
       " 'COL': 'Americas',\n",
       " 'COM': 'Africa',\n",
       " 'COG': 'Africa',\n",
       " 'COD': 'Africa',\n",
       " 'COK': 'Oceania',\n",
       " 'CRI': 'Americas',\n",
       " 'CIV': 'Africa',\n",
       " 'HRV': 'Europe',\n",
       " 'CUB': 'Americas',\n",
       " 'CUW': 'Americas',\n",
       " 'CYP': 'Asia',\n",
       " 'CZE': 'Europe',\n",
       " 'DNK': 'Europe',\n",
       " 'DJI': 'Africa',\n",
       " 'DMA': 'Americas',\n",
       " 'DOM': 'Americas',\n",
       " 'ECU': 'Americas',\n",
       " 'EGY': 'Africa',\n",
       " 'SLV': 'Americas',\n",
       " 'GNQ': 'Africa',\n",
       " 'ERI': 'Africa',\n",
       " 'EST': 'Europe',\n",
       " 'ETH': 'Africa',\n",
       " 'FLK': 'Americas',\n",
       " 'FRO': 'Europe',\n",
       " 'FJI': 'Oceania',\n",
       " 'FIN': 'Europe',\n",
       " 'FRA': 'Europe',\n",
       " 'GUF': 'Americas',\n",
       " 'PYF': 'Oceania',\n",
       " 'ATF': nan,\n",
       " 'GAB': 'Africa',\n",
       " 'GMB': 'Africa',\n",
       " 'GEO': 'Asia',\n",
       " 'DEU': 'Europe',\n",
       " 'GHA': 'Africa',\n",
       " 'GIB': 'Europe',\n",
       " 'GRC': 'Europe',\n",
       " 'GRL': 'Americas',\n",
       " 'GRD': 'Americas',\n",
       " 'GLP': 'Americas',\n",
       " 'GUM': 'Oceania',\n",
       " 'GTM': 'Americas',\n",
       " 'GGY': 'Europe',\n",
       " 'GIN': 'Africa',\n",
       " 'GNB': 'Africa',\n",
       " 'GUY': 'Americas',\n",
       " 'HTI': 'Americas',\n",
       " 'HMD': nan,\n",
       " 'VAT': 'Europe',\n",
       " 'HND': 'Americas',\n",
       " 'HKG': 'Asia',\n",
       " 'HUN': 'Europe',\n",
       " 'ISL': 'Europe',\n",
       " 'IND': 'Asia',\n",
       " 'IDN': 'Asia',\n",
       " 'IRN': 'Asia',\n",
       " 'IRQ': 'Asia',\n",
       " 'IRL': 'Europe',\n",
       " 'IMN': 'Europe',\n",
       " 'ISR': 'Asia',\n",
       " 'ITA': 'Europe',\n",
       " 'JAM': 'Americas',\n",
       " 'JPN': 'Asia',\n",
       " 'JEY': 'Europe',\n",
       " 'JOR': 'Asia',\n",
       " 'KAZ': 'Asia',\n",
       " 'KEN': 'Africa',\n",
       " 'KIR': 'Oceania',\n",
       " 'PRK': 'Asia',\n",
       " 'KOR': 'Asia',\n",
       " 'KWT': 'Asia',\n",
       " 'KGZ': 'Asia',\n",
       " 'LAO': 'Asia',\n",
       " 'LVA': 'Europe',\n",
       " 'LBN': 'Asia',\n",
       " 'LSO': 'Africa',\n",
       " 'LBR': 'Africa',\n",
       " 'LBY': 'Africa',\n",
       " 'LIE': 'Europe',\n",
       " 'LTU': 'Europe',\n",
       " 'LUX': 'Europe',\n",
       " 'MAC': 'Asia',\n",
       " 'MKD': 'Europe',\n",
       " 'MDG': 'Africa',\n",
       " 'MWI': 'Africa',\n",
       " 'MYS': 'Asia',\n",
       " 'MDV': 'Asia',\n",
       " 'MLI': 'Africa',\n",
       " 'MLT': 'Europe',\n",
       " 'MHL': 'Oceania',\n",
       " 'MTQ': 'Americas',\n",
       " 'MRT': 'Africa',\n",
       " 'MUS': 'Africa',\n",
       " 'MYT': 'Africa',\n",
       " 'MEX': 'Americas',\n",
       " 'FSM': 'Oceania',\n",
       " 'MDA': 'Europe',\n",
       " 'MCO': 'Europe',\n",
       " 'MNG': 'Asia',\n",
       " 'MNE': 'Europe',\n",
       " 'MSR': 'Americas',\n",
       " 'MAR': 'Africa',\n",
       " 'MOZ': 'Africa',\n",
       " 'MMR': 'Asia',\n",
       " 'NAM': 'Africa',\n",
       " 'NRU': 'Oceania',\n",
       " 'NPL': 'Asia',\n",
       " 'NLD': 'Europe',\n",
       " 'NCL': 'Oceania',\n",
       " 'NZL': 'Oceania',\n",
       " 'NIC': 'Americas',\n",
       " 'NER': 'Africa',\n",
       " 'NGA': 'Africa',\n",
       " 'NIU': 'Oceania',\n",
       " 'NFK': 'Oceania',\n",
       " 'MNP': 'Oceania',\n",
       " 'NOR': 'Europe',\n",
       " 'OMN': 'Asia',\n",
       " 'PAK': 'Asia',\n",
       " 'PLW': 'Oceania',\n",
       " 'PSE': 'Asia',\n",
       " 'PAN': 'Americas',\n",
       " 'PNG': 'Oceania',\n",
       " 'PRY': 'Americas',\n",
       " 'PER': 'Americas',\n",
       " 'PHL': 'Asia',\n",
       " 'PCN': 'Oceania',\n",
       " 'POL': 'Europe',\n",
       " 'PRT': 'Europe',\n",
       " 'PRI': 'Americas',\n",
       " 'QAT': 'Asia',\n",
       " 'REU': 'Africa',\n",
       " 'ROU': 'Europe',\n",
       " 'RUS': 'Europe',\n",
       " 'RWA': 'Africa',\n",
       " 'BLM': 'Americas',\n",
       " 'SHN': 'Africa',\n",
       " 'KNA': 'Americas',\n",
       " 'LCA': 'Americas',\n",
       " 'MAF': 'Americas',\n",
       " 'SPM': 'Americas',\n",
       " 'VCT': 'Americas',\n",
       " 'WSM': 'Oceania',\n",
       " 'SMR': 'Europe',\n",
       " 'STP': 'Africa',\n",
       " 'SAU': 'Asia',\n",
       " 'SEN': 'Africa',\n",
       " 'SRB': 'Europe',\n",
       " 'SYC': 'Africa',\n",
       " 'SLE': 'Africa',\n",
       " 'SGP': 'Asia',\n",
       " 'SXM': 'Americas',\n",
       " 'SVK': 'Europe',\n",
       " 'SVN': 'Europe',\n",
       " 'SLB': 'Oceania',\n",
       " 'SOM': 'Africa',\n",
       " 'ZAF': 'Africa',\n",
       " 'SGS': nan,\n",
       " 'SSD': 'Africa',\n",
       " 'ESP': 'Europe',\n",
       " 'LKA': 'Asia',\n",
       " 'SDN': 'Africa',\n",
       " 'SUR': 'Americas',\n",
       " 'SJM': 'Europe',\n",
       " 'SWZ': 'Africa',\n",
       " 'SWE': 'Europe',\n",
       " 'CHE': 'Europe',\n",
       " 'SYR': 'Asia',\n",
       " 'TWN': 'Asia',\n",
       " 'TJK': 'Asia',\n",
       " 'TZA': 'Africa',\n",
       " 'THA': 'Asia',\n",
       " 'TLS': 'Asia',\n",
       " 'TGO': 'Africa',\n",
       " 'TKL': 'Oceania',\n",
       " 'TON': 'Oceania',\n",
       " 'TTO': 'Americas',\n",
       " 'TUN': 'Africa',\n",
       " 'TUR': 'Asia',\n",
       " 'TKM': 'Asia',\n",
       " 'TCA': 'Americas',\n",
       " 'TUV': 'Oceania',\n",
       " 'UGA': 'Africa',\n",
       " 'UKR': 'Europe',\n",
       " 'ARE': 'Asia',\n",
       " 'GBR': 'Europe',\n",
       " 'USA': 'Americas',\n",
       " 'UMI': nan,\n",
       " 'URY': 'Americas',\n",
       " 'UZB': 'Asia',\n",
       " 'VUT': 'Oceania',\n",
       " 'VEN': 'Americas',\n",
       " 'VNM': 'Asia',\n",
       " 'VGB': 'Americas',\n",
       " 'VIR': 'Americas',\n",
       " 'WLF': 'Oceania',\n",
       " 'ESH': 'Africa',\n",
       " 'YEM': 'Asia',\n",
       " 'ZMB': 'Africa',\n",
       " 'ZWE': 'Africa'}"
      ]
     },
     "execution_count": 65,
     "metadata": {},
     "output_type": "execute_result"
    }
   ],
   "source": [
    "continent_dict"
   ]
  },
  {
   "cell_type": "code",
   "execution_count": 68,
   "metadata": {},
   "outputs": [],
   "source": [
    "#ahora creo una nueva columna en population que se llame continent y que tenga los valores de continent_dict\n",
    "population['Continent_of_Asylum'] = population['Country of asylum (ISO)'].map(continent_dict)"
   ]
  },
  {
   "cell_type": "code",
   "execution_count": 72,
   "metadata": {},
   "outputs": [
    {
     "data": {
      "text/plain": [
       "array(['UNK'], dtype=object)"
      ]
     },
     "execution_count": 72,
     "metadata": {},
     "output_type": "execute_result"
    }
   ],
   "source": [
    "#Comprobar los paises que tienen valores nulos en continent os asylum \n",
    "population[population['Continent_of_Asylum'].isnull()]['Country of asylum (ISO)'].unique()\n",
    "\n",
    "#UNK corresponde a Unknown por lo tanto, no hay ningún país sin continente asignado, así que perfecto. "
   ]
  },
  {
   "cell_type": "code",
   "execution_count": 76,
   "metadata": {},
   "outputs": [],
   "source": [
    "subregion_dict = dict(zip(continent.code_3, continent.sub_region))"
   ]
  },
  {
   "cell_type": "code",
   "execution_count": 77,
   "metadata": {},
   "outputs": [],
   "source": [
    "population['Sub_Region_of_Asylum'] = population['Country of asylum (ISO)'].map(subregion_dict)"
   ]
  },
  {
   "cell_type": "code",
   "execution_count": 79,
   "metadata": {},
   "outputs": [],
   "source": [
    "population['Continent_of_origin']=population['Country of origin (ISO)'].map(continent_dict)"
   ]
  },
  {
   "cell_type": "code",
   "execution_count": 80,
   "metadata": {},
   "outputs": [],
   "source": [
    "population['Sub_Region_of_Origin'] =  population['Country of origin (ISO)'].map(subregion_dict)"
   ]
  },
  {
   "cell_type": "code",
   "execution_count": 84,
   "metadata": {},
   "outputs": [
    {
     "data": {
      "text/html": [
       "<div>\n",
       "<style scoped>\n",
       "    .dataframe tbody tr th:only-of-type {\n",
       "        vertical-align: middle;\n",
       "    }\n",
       "\n",
       "    .dataframe tbody tr th {\n",
       "        vertical-align: top;\n",
       "    }\n",
       "\n",
       "    .dataframe thead th {\n",
       "        text-align: right;\n",
       "    }\n",
       "</style>\n",
       "<table border=\"1\" class=\"dataframe\">\n",
       "  <thead>\n",
       "    <tr style=\"text-align: right;\">\n",
       "      <th></th>\n",
       "      <th>Year</th>\n",
       "      <th>Country of origin</th>\n",
       "      <th>Country of origin (ISO)</th>\n",
       "      <th>Country of asylum</th>\n",
       "      <th>Country of asylum (ISO)</th>\n",
       "      <th>Refugees under UNHCR's mandate</th>\n",
       "      <th>Asylum-seekers</th>\n",
       "      <th>IDPs of concern to UNHCR</th>\n",
       "      <th>Stateless persons</th>\n",
       "      <th>Host Community</th>\n",
       "      <th>Total refugees</th>\n",
       "      <th>continent</th>\n",
       "      <th>Continent_of_Asylum</th>\n",
       "      <th>Sub_Region_of_Asylum</th>\n",
       "      <th>Continent_of_origin</th>\n",
       "      <th>Sub_Region_of_Origin</th>\n",
       "    </tr>\n",
       "  </thead>\n",
       "  <tbody>\n",
       "    <tr>\n",
       "      <th>0</th>\n",
       "      <td>2023</td>\n",
       "      <td>Philippines</td>\n",
       "      <td>PHL</td>\n",
       "      <td>Poland</td>\n",
       "      <td>POL</td>\n",
       "      <td>5</td>\n",
       "      <td>0</td>\n",
       "      <td>0</td>\n",
       "      <td>0</td>\n",
       "      <td>0</td>\n",
       "      <td>5</td>\n",
       "      <td>Europe</td>\n",
       "      <td>Europe</td>\n",
       "      <td>Eastern Europe</td>\n",
       "      <td>Asia</td>\n",
       "      <td>South-Eastern Asia</td>\n",
       "    </tr>\n",
       "    <tr>\n",
       "      <th>1</th>\n",
       "      <td>2023</td>\n",
       "      <td>South Africa</td>\n",
       "      <td>ZAF</td>\n",
       "      <td>Poland</td>\n",
       "      <td>POL</td>\n",
       "      <td>6</td>\n",
       "      <td>0</td>\n",
       "      <td>0</td>\n",
       "      <td>0</td>\n",
       "      <td>0</td>\n",
       "      <td>6</td>\n",
       "      <td>Europe</td>\n",
       "      <td>Europe</td>\n",
       "      <td>Eastern Europe</td>\n",
       "      <td>Africa</td>\n",
       "      <td>Southern Africa</td>\n",
       "    </tr>\n",
       "    <tr>\n",
       "      <th>2</th>\n",
       "      <td>2023</td>\n",
       "      <td>Russian Federation</td>\n",
       "      <td>RUS</td>\n",
       "      <td>Poland</td>\n",
       "      <td>POL</td>\n",
       "      <td>2284</td>\n",
       "      <td>1102</td>\n",
       "      <td>0</td>\n",
       "      <td>0</td>\n",
       "      <td>0</td>\n",
       "      <td>3386</td>\n",
       "      <td>Europe</td>\n",
       "      <td>Europe</td>\n",
       "      <td>Eastern Europe</td>\n",
       "      <td>Europe</td>\n",
       "      <td>Eastern Europe</td>\n",
       "    </tr>\n",
       "    <tr>\n",
       "      <th>3</th>\n",
       "      <td>2023</td>\n",
       "      <td>Rwanda</td>\n",
       "      <td>RWA</td>\n",
       "      <td>Poland</td>\n",
       "      <td>POL</td>\n",
       "      <td>5</td>\n",
       "      <td>0</td>\n",
       "      <td>0</td>\n",
       "      <td>0</td>\n",
       "      <td>0</td>\n",
       "      <td>5</td>\n",
       "      <td>Europe</td>\n",
       "      <td>Europe</td>\n",
       "      <td>Eastern Europe</td>\n",
       "      <td>Africa</td>\n",
       "      <td>Eastern Africa</td>\n",
       "    </tr>\n",
       "    <tr>\n",
       "      <th>4</th>\n",
       "      <td>2023</td>\n",
       "      <td>Serbia and Kosovo: S/RES/1244 (1999)</td>\n",
       "      <td>SRB</td>\n",
       "      <td>Poland</td>\n",
       "      <td>POL</td>\n",
       "      <td>5</td>\n",
       "      <td>0</td>\n",
       "      <td>0</td>\n",
       "      <td>0</td>\n",
       "      <td>0</td>\n",
       "      <td>5</td>\n",
       "      <td>Europe</td>\n",
       "      <td>Europe</td>\n",
       "      <td>Eastern Europe</td>\n",
       "      <td>Europe</td>\n",
       "      <td>Southern Europe</td>\n",
       "    </tr>\n",
       "    <tr>\n",
       "      <th>...</th>\n",
       "      <td>...</td>\n",
       "      <td>...</td>\n",
       "      <td>...</td>\n",
       "      <td>...</td>\n",
       "      <td>...</td>\n",
       "      <td>...</td>\n",
       "      <td>...</td>\n",
       "      <td>...</td>\n",
       "      <td>...</td>\n",
       "      <td>...</td>\n",
       "      <td>...</td>\n",
       "      <td>...</td>\n",
       "      <td>...</td>\n",
       "      <td>...</td>\n",
       "      <td>...</td>\n",
       "      <td>...</td>\n",
       "    </tr>\n",
       "    <tr>\n",
       "      <th>125684</th>\n",
       "      <td>1951</td>\n",
       "      <td>Unknown</td>\n",
       "      <td>UNK</td>\n",
       "      <td>Switzerland</td>\n",
       "      <td>CHE</td>\n",
       "      <td>10000</td>\n",
       "      <td>0</td>\n",
       "      <td>0</td>\n",
       "      <td>0</td>\n",
       "      <td>-</td>\n",
       "      <td>10000</td>\n",
       "      <td>Europe</td>\n",
       "      <td>Europe</td>\n",
       "      <td>Western Europe</td>\n",
       "      <td>NaN</td>\n",
       "      <td>NaN</td>\n",
       "    </tr>\n",
       "    <tr>\n",
       "      <th>125685</th>\n",
       "      <td>1951</td>\n",
       "      <td>Unknown</td>\n",
       "      <td>UNK</td>\n",
       "      <td>Tunisia</td>\n",
       "      <td>TUN</td>\n",
       "      <td>2000</td>\n",
       "      <td>0</td>\n",
       "      <td>0</td>\n",
       "      <td>0</td>\n",
       "      <td>-</td>\n",
       "      <td>2000</td>\n",
       "      <td>Africa</td>\n",
       "      <td>Africa</td>\n",
       "      <td>Northern Africa</td>\n",
       "      <td>NaN</td>\n",
       "      <td>NaN</td>\n",
       "    </tr>\n",
       "    <tr>\n",
       "      <th>125686</th>\n",
       "      <td>1951</td>\n",
       "      <td>Unknown</td>\n",
       "      <td>UNK</td>\n",
       "      <td>Türkiye</td>\n",
       "      <td>TUR</td>\n",
       "      <td>2700</td>\n",
       "      <td>0</td>\n",
       "      <td>0</td>\n",
       "      <td>0</td>\n",
       "      <td>-</td>\n",
       "      <td>2700</td>\n",
       "      <td>Asia</td>\n",
       "      <td>Asia</td>\n",
       "      <td>Western Asia</td>\n",
       "      <td>NaN</td>\n",
       "      <td>NaN</td>\n",
       "    </tr>\n",
       "    <tr>\n",
       "      <th>125687</th>\n",
       "      <td>1951</td>\n",
       "      <td>Unknown</td>\n",
       "      <td>UNK</td>\n",
       "      <td>United States of America</td>\n",
       "      <td>USA</td>\n",
       "      <td>350000</td>\n",
       "      <td>0</td>\n",
       "      <td>0</td>\n",
       "      <td>0</td>\n",
       "      <td>-</td>\n",
       "      <td>350000</td>\n",
       "      <td>Americas</td>\n",
       "      <td>Americas</td>\n",
       "      <td>Northern America</td>\n",
       "      <td>NaN</td>\n",
       "      <td>NaN</td>\n",
       "    </tr>\n",
       "    <tr>\n",
       "      <th>125688</th>\n",
       "      <td>1951</td>\n",
       "      <td>Unknown</td>\n",
       "      <td>UNK</td>\n",
       "      <td>Unknown</td>\n",
       "      <td>UNK</td>\n",
       "      <td>158800</td>\n",
       "      <td>0</td>\n",
       "      <td>0</td>\n",
       "      <td>0</td>\n",
       "      <td>-</td>\n",
       "      <td>158800</td>\n",
       "      <td>NaN</td>\n",
       "      <td>NaN</td>\n",
       "      <td>NaN</td>\n",
       "      <td>NaN</td>\n",
       "      <td>NaN</td>\n",
       "    </tr>\n",
       "  </tbody>\n",
       "</table>\n",
       "<p>125689 rows × 16 columns</p>\n",
       "</div>"
      ],
      "text/plain": [
       "        Year                     Country of origin Country of origin (ISO)  \\\n",
       "0       2023                           Philippines                     PHL   \n",
       "1       2023                          South Africa                     ZAF   \n",
       "2       2023                    Russian Federation                     RUS   \n",
       "3       2023                                Rwanda                     RWA   \n",
       "4       2023  Serbia and Kosovo: S/RES/1244 (1999)                     SRB   \n",
       "...      ...                                   ...                     ...   \n",
       "125684  1951                              Unknown                      UNK   \n",
       "125685  1951                              Unknown                      UNK   \n",
       "125686  1951                              Unknown                      UNK   \n",
       "125687  1951                              Unknown                      UNK   \n",
       "125688  1951                              Unknown                      UNK   \n",
       "\n",
       "               Country of asylum Country of asylum (ISO)  \\\n",
       "0                         Poland                     POL   \n",
       "1                         Poland                     POL   \n",
       "2                         Poland                     POL   \n",
       "3                         Poland                     POL   \n",
       "4                         Poland                     POL   \n",
       "...                          ...                     ...   \n",
       "125684               Switzerland                     CHE   \n",
       "125685                   Tunisia                     TUN   \n",
       "125686                   Türkiye                     TUR   \n",
       "125687  United States of America                     USA   \n",
       "125688                  Unknown                      UNK   \n",
       "\n",
       "        Refugees under UNHCR's mandate  Asylum-seekers  \\\n",
       "0                                    5               0   \n",
       "1                                    6               0   \n",
       "2                                 2284            1102   \n",
       "3                                    5               0   \n",
       "4                                    5               0   \n",
       "...                                ...             ...   \n",
       "125684                           10000               0   \n",
       "125685                            2000               0   \n",
       "125686                            2700               0   \n",
       "125687                          350000               0   \n",
       "125688                          158800               0   \n",
       "\n",
       "        IDPs of concern to UNHCR  Stateless persons Host Community  \\\n",
       "0                              0                  0              0   \n",
       "1                              0                  0              0   \n",
       "2                              0                  0              0   \n",
       "3                              0                  0              0   \n",
       "4                              0                  0              0   \n",
       "...                          ...                ...            ...   \n",
       "125684                         0                  0              -   \n",
       "125685                         0                  0              -   \n",
       "125686                         0                  0              -   \n",
       "125687                         0                  0              -   \n",
       "125688                         0                  0              -   \n",
       "\n",
       "        Total refugees continent Continent_of_Asylum Sub_Region_of_Asylum  \\\n",
       "0                    5    Europe              Europe       Eastern Europe   \n",
       "1                    6    Europe              Europe       Eastern Europe   \n",
       "2                 3386    Europe              Europe       Eastern Europe   \n",
       "3                    5    Europe              Europe       Eastern Europe   \n",
       "4                    5    Europe              Europe       Eastern Europe   \n",
       "...                ...       ...                 ...                  ...   \n",
       "125684           10000    Europe              Europe       Western Europe   \n",
       "125685            2000    Africa              Africa      Northern Africa   \n",
       "125686            2700      Asia                Asia         Western Asia   \n",
       "125687          350000  Americas            Americas     Northern America   \n",
       "125688          158800       NaN                 NaN                  NaN   \n",
       "\n",
       "       Continent_of_origin Sub_Region_of_Origin  \n",
       "0                     Asia   South-Eastern Asia  \n",
       "1                   Africa      Southern Africa  \n",
       "2                   Europe       Eastern Europe  \n",
       "3                   Africa       Eastern Africa  \n",
       "4                   Europe      Southern Europe  \n",
       "...                    ...                  ...  \n",
       "125684                 NaN                  NaN  \n",
       "125685                 NaN                  NaN  \n",
       "125686                 NaN                  NaN  \n",
       "125687                 NaN                  NaN  \n",
       "125688                 NaN                  NaN  \n",
       "\n",
       "[125689 rows x 16 columns]"
      ]
     },
     "execution_count": 84,
     "metadata": {},
     "output_type": "execute_result"
    }
   ],
   "source": [
    "population"
   ]
  },
  {
   "cell_type": "code",
   "execution_count": 111,
   "metadata": {},
   "outputs": [
    {
     "data": {
      "image/png": "[encoded data removed]",
      "text/plain": [
       "<Figure size 1200x800 with 1 Axes>"
      ]
     },
     "metadata": {},
     "output_type": "display_data"
    }
   ],
   "source": [
    "\n",
    "df_grouped = population.groupby(['Continent_of_origin', 'Year'])['Total refugees'].sum().reset_index()\n",
    "\n",
    "#Gráfico de barras apiladas\n",
    "ax = df_grouped.pivot(index='Year', columns='Continent_of_origin', values='Total refugees').plot(kind='bar', stacked=True, figsize=(12, 8))\n",
    "plt.xlabel('Año', fontsize=14)\n",
    "plt.ylabel('Total de Refugiados', fontsize = 14)\n",
    "plt.title('Continente', fontsize = 20)\n",
    "plt.legend(title='Continente de Origen', bbox_to_anchor=(1, 1), fontsize = 10)\n",
    "plt.show()"
   ]
  },
  {
   "cell_type": "code",
   "execution_count": 115,
   "metadata": {},
   "outputs": [
    {
     "data": {
      "image/png": "[encoded data removed]",
      "text/plain": [
       "<Figure size 1200x800 with 1 Axes>"
      ]
     },
     "metadata": {},
     "output_type": "display_data"
    }
   ],
   "source": [
    "population_filtered = population[population['Year'] >= 2000]\n",
    "origin_grouped = population_filtered.groupby(['Continent_of_origin', 'Year'])['Total refugees'].sum().reset_index()\n",
    "ax = origin_grouped.pivot(index='Year', columns='Continent_of_origin', values='Total refugees').plot(kind='bar', stacked=True, figsize=(12, 8))\n",
    "plt.xlabel('Año', fontsize=14)\n",
    "plt.ylabel('Total de Refugiados', fontsize = 14)\n",
    "plt.title('Continent of origin', fontsize = 20)\n",
    "plt.legend(title='Continent of origin', bbox_to_anchor=(1, 1), fontsize = 10)\n",
    "plt.show()\n"
   ]
  },
  {
   "cell_type": "code",
   "execution_count": 118,
   "metadata": {},
   "outputs": [
    {
     "data": {
      "image/png": "[encoded data removed]",
      "text/plain": [
       "<Figure size 1200x800 with 1 Axes>"
      ]
     },
     "metadata": {},
     "output_type": "display_data"
    }
   ],
   "source": [
    "asylum_grouped = population_filtered.groupby(['Continent_of_Asylum', 'Year'])['Total refugees'].sum().reset_index()\n",
    "ax = asylum_grouped.pivot(index='Year', columns='Continent_of_Asylum', values='Total refugees').plot(kind='bar', stacked=True, figsize=(12, 8))\n",
    "plt.xlabel('Año', fontsize=14)\n",
    "plt.ylabel('Total de Refugiados', fontsize = 14)\n",
    "plt.title('Continent of Asylum', fontsize = 20)\n",
    "plt.legend(title='Continent of Asylum', bbox_to_anchor=(1, 1), fontsize = 10)\n",
    "plt.show()"
   ]
  },
  {
   "cell_type": "code",
   "execution_count": 121,
   "metadata": {},
   "outputs": [
    {
     "data": {
      "application/vnd.plotly.v1+json": {
       "config": {
        "plotlyServerURL": "https://plot.ly"
       },
       "data": [
        {
         "alignmentgroup": "True",
         "hovertemplate": "Continent_of_Asylum=Africa<br>Year=%{x}<br>Total refugees=%{y}<extra></extra>",
         "legendgroup": "Africa",
         "marker": {
          "color": "#636efa",
          "pattern": {
           "shape": ""
          }
         },
         "name": "Africa",
         "offsetgroup": "Africa",
         "orientation": "v",
         "showlegend": true,
         "textposition": "auto",
         "type": "bar",
         "x": [
          2000,
          2001,
          2002,
          2003,
          2004,
          2005,
          2006,
          2007,
          2008,
          2009,
          2010,
          2011,
          2012,
          2013,
          2014,
          2015,
          2016,
          2017,
          2018,
          2019,
          2020,
          2021,
          2022,
          2023
         ],
         "xaxis": "x",
         "y": [
          5562695,
          3812442,
          4204858,
          3873247,
          4426972,
          4551971,
          8224381,
          8659165,
          9002198,
          9205439,
          8967943,
          10275507,
          10533300,
          11518523,
          14745184,
          17375997,
          17402266,
          21989753,
          25216576,
          26304051,
          30190904,
          33568885,
          33450065,
          34004106
         ],
         "yaxis": "y"
        },
        {
         "alignmentgroup": "True",
         "hovertemplate": "Continent_of_Asylum=Americas<br>Year=%{x}<br>Total refugees=%{y}<extra></extra>",
         "legendgroup": "Americas",
         "marker": {
          "color": "#EF553B",
          "pattern": {
           "shape": ""
          }
         },
         "name": "Americas",
         "offsetgroup": "Americas",
         "orientation": "v",
         "showlegend": true,
         "textposition": "auto",
         "type": "bar",
         "x": [
          2000,
          2001,
          2002,
          2003,
          2004,
          2005,
          2006,
          2007,
          2008,
          2009,
          2010,
          2011,
          2012,
          2013,
          2014,
          2015,
          2016,
          2017,
          2018,
          2019,
          2020,
          2021,
          2022,
          2023
         ],
         "xaxis": "x",
         "y": [
          1617853,
          1851635,
          2060165,
          2267462,
          2897201,
          2765067,
          4199611,
          4149625,
          3976413,
          4309608,
          4604264,
          4798559,
          4823387,
          6303168,
          7049874,
          8210147,
          8828913,
          9445723,
          10016317,
          10898231,
          11442202,
          10347544,
          11434594,
          12015713
         ],
         "yaxis": "y"
        },
        {
         "alignmentgroup": "True",
         "hovertemplate": "Continent_of_Asylum=Asia<br>Year=%{x}<br>Total refugees=%{y}<extra></extra>",
         "legendgroup": "Asia",
         "marker": {
          "color": "#00cc96",
          "pattern": {
           "shape": ""
          }
         },
         "name": "Asia",
         "offsetgroup": "Asia",
         "orientation": "v",
         "showlegend": true,
         "textposition": "auto",
         "type": "bar",
         "x": [
          2000,
          2001,
          2002,
          2003,
          2004,
          2005,
          2006,
          2007,
          2008,
          2009,
          2010,
          2011,
          2012,
          2013,
          2014,
          2015,
          2016,
          2017,
          2018,
          2019,
          2020,
          2021,
          2022,
          2023
         ],
         "xaxis": "x",
         "y": [
          7738501,
          8572248,
          6183527,
          5018393,
          5183156,
          6076358,
          8506588,
          10655424,
          10428120,
          11122588,
          10164185,
          9441109,
          11513576,
          17040917,
          23379247,
          26355244,
          24662361,
          24891958,
          24425783,
          25818964,
          26763622,
          28057466,
          31129337,
          31480238
         ],
         "yaxis": "y"
        },
        {
         "alignmentgroup": "True",
         "hovertemplate": "Continent_of_Asylum=Europe<br>Year=%{x}<br>Total refugees=%{y}<extra></extra>",
         "legendgroup": "Europe",
         "marker": {
          "color": "#ab63fa",
          "pattern": {
           "shape": ""
          }
         },
         "name": "Europe",
         "offsetgroup": "Europe",
         "orientation": "v",
         "showlegend": true,
         "textposition": "auto",
         "type": "bar",
         "x": [
          2000,
          2001,
          2002,
          2003,
          2004,
          2005,
          2006,
          2007,
          2008,
          2009,
          2010,
          2011,
          2012,
          2013,
          2014,
          2015,
          2016,
          2017,
          2018,
          2019,
          2020,
          2021,
          2022,
          2023
         ],
         "xaxis": "x",
         "y": [
          4071639,
          3838309,
          3805712,
          3536582,
          3293840,
          2603422,
          2395235,
          2369649,
          2312452,
          2336098,
          2308548,
          2217698,
          2185890,
          1864119,
          3209658,
          4816593,
          5563489,
          5711660,
          5496524,
          4895746,
          4840760,
          5113210,
          15925704,
          15851903
         ],
         "yaxis": "y"
        },
        {
         "alignmentgroup": "True",
         "hovertemplate": "Continent_of_Asylum=Oceania<br>Year=%{x}<br>Total refugees=%{y}<extra></extra>",
         "legendgroup": "Oceania",
         "marker": {
          "color": "#FFA15A",
          "pattern": {
           "shape": ""
          }
         },
         "name": "Oceania",
         "offsetgroup": "Oceania",
         "orientation": "v",
         "showlegend": true,
         "textposition": "auto",
         "type": "bar",
         "x": [
          2000,
          2001,
          2002,
          2003,
          2004,
          2005,
          2006,
          2007,
          2008,
          2009,
          2010,
          2011,
          2012,
          2013,
          2014,
          2015,
          2016,
          2017,
          2018,
          2019,
          2020,
          2021,
          2022,
          2023
         ],
         "xaxis": "x",
         "y": [
          84214,
          81552,
          79026,
          73831,
          82374,
          82385,
          85585,
          36494,
          35890,
          38067,
          37668,
          40133,
          52729,
          59995,
          69649,
          69927,
          83905,
          109495,
          131150,
          149180,
          166723,
          178937,
          252889,
          253118
         ],
         "yaxis": "y"
        }
       ],
       "layout": {
        "barmode": "relative",
        "legend": {
         "title": {
          "text": "Continent_of_Asylum"
         },
         "tracegroupgap": 0
        },
        "template": {
         "data": {
          "bar": [
           {
            "error_x": {
             "color": "#2a3f5f"
            },
            "error_y": {
             "color": "#2a3f5f"
            },
            "marker": {
             "line": {
              "color": "#E5ECF6",
              "width": 0.5
             },
             "pattern": {
              "fillmode": "overlay",
              "size": 10,
              "solidity": 0.2
             }
            },
            "type": "bar"
           }
          ],
          "barpolar": [
           {
            "marker": {
             "line": {
              "color": "#E5ECF6",
              "width": 0.5
             },
             "pattern": {
              "fillmode": "overlay",
              "size": 10,
              "solidity": 0.2
             }
            },
            "type": "barpolar"
           }
          ],
          "carpet": [
           {
            "aaxis": {
             "endlinecolor": "#2a3f5f",
             "gridcolor": "white",
             "linecolor": "white",
             "minorgridcolor": "white",
             "startlinecolor": "#2a3f5f"
            },
            "baxis": {
             "endlinecolor": "#2a3f5f",
             "gridcolor": "white",
             "linecolor": "white",
             "minorgridcolor": "white",
             "startlinecolor": "#2a3f5f"
            },
            "type": "carpet"
           }
          ],
          "choropleth": [
           {
            "colorbar": {
             "outlinewidth": 0,
             "ticks": ""
            },
            "type": "choropleth"
           }
          ],
          "contour": [
           {
            "colorbar": {
             "outlinewidth": 0,
             "ticks": ""
            },
            "colorscale": [
             [
              0,
              "#0d0887"
             ],
             [
              0.1111111111111111,
              "#46039f"
             ],
             [
              0.2222222222222222,
              "#7201a8"
             ],
             [
              0.3333333333333333,
              "#9c179e"
             ],
             [
              0.4444444444444444,
              "#bd3786"
             ],
             [
              0.5555555555555556,
              "#d8576b"
             ],
             [
              0.6666666666666666,
              "#ed7953"
             ],
             [
              0.7777777777777778,
              "#fb9f3a"
             ],
             [
              0.8888888888888888,
              "#fdca26"
             ],
             [
              1,
              "#f0f921"
             ]
            ],
            "type": "contour"
           }
          ],
          "contourcarpet": [
           {
            "colorbar": {
             "outlinewidth": 0,
             "ticks": ""
            },
            "type": "contourcarpet"
           }
          ],
          "heatmap": [
           {
            "colorbar": {
             "outlinewidth": 0,
             "ticks": ""
            },
            "colorscale": [
             [
              0,
              "#0d0887"
             ],
             [
              0.1111111111111111,
              "#46039f"
             ],
             [
              0.2222222222222222,
              "#7201a8"
             ],
             [
              0.3333333333333333,
              "#9c179e"
             ],
             [
              0.4444444444444444,
              "#bd3786"
             ],
             [
              0.5555555555555556,
              "#d8576b"
             ],
             [
              0.6666666666666666,
              "#ed7953"
             ],
             [
              0.7777777777777778,
              "#fb9f3a"
             ],
             [
              0.8888888888888888,
              "#fdca26"
             ],
             [
              1,
              "#f0f921"
             ]
            ],
            "type": "heatmap"
           }
          ],
          "heatmapgl": [
           {
            "colorbar": {
             "outlinewidth": 0,
             "ticks": ""
            },
            "colorscale": [
             [
              0,
              "#0d0887"
             ],
             [
              0.1111111111111111,
              "#46039f"
             ],
             [
              0.2222222222222222,
              "#7201a8"
             ],
             [
              0.3333333333333333,
              "#9c179e"
             ],
             [
              0.4444444444444444,
              "#bd3786"
             ],
             [
              0.5555555555555556,
              "#d8576b"
             ],
             [
              0.6666666666666666,
              "#ed7953"
             ],
             [
              0.7777777777777778,
              "#fb9f3a"
             ],
             [
              0.8888888888888888,
              "#fdca26"
             ],
             [
              1,
              "#f0f921"
             ]
            ],
            "type": "heatmapgl"
           }
          ],
          "histogram": [
           {
            "marker": {
             "pattern": {
              "fillmode": "overlay",
              "size": 10,
              "solidity": 0.2
             }
            },
            "type": "histogram"
           }
          ],
          "histogram2d": [
           {
            "colorbar": {
             "outlinewidth": 0,
             "ticks": ""
            },
            "colorscale": [
             [
              0,
              "#0d0887"
             ],
             [
              0.1111111111111111,
              "#46039f"
             ],
             [
              0.2222222222222222,
              "#7201a8"
             ],
             [
              0.3333333333333333,
              "#9c179e"
             ],
             [
              0.4444444444444444,
              "#bd3786"
             ],
             [
              0.5555555555555556,
              "#d8576b"
             ],
             [
              0.6666666666666666,
              "#ed7953"
             ],
             [
              0.7777777777777778,
              "#fb9f3a"
             ],
             [
              0.8888888888888888,
              "#fdca26"
             ],
             [
              1,
              "#f0f921"
             ]
            ],
            "type": "histogram2d"
           }
          ],
          "histogram2dcontour": [
           {
            "colorbar": {
             "outlinewidth": 0,
             "ticks": ""
            },
            "colorscale": [
             [
              0,
              "#0d0887"
             ],
             [
              0.1111111111111111,
              "#46039f"
             ],
             [
              0.2222222222222222,
              "#7201a8"
             ],
             [
              0.3333333333333333,
              "#9c179e"
             ],
             [
              0.4444444444444444,
              "#bd3786"
             ],
             [
              0.5555555555555556,
              "#d8576b"
             ],
             [
              0.6666666666666666,
              "#ed7953"
             ],
             [
              0.7777777777777778,
              "#fb9f3a"
             ],
             [
              0.8888888888888888,
              "#fdca26"
             ],
             [
              1,
              "#f0f921"
             ]
            ],
            "type": "histogram2dcontour"
           }
          ],
          "mesh3d": [
           {
            "colorbar": {
             "outlinewidth": 0,
             "ticks": ""
            },
            "type": "mesh3d"
           }
          ],
          "parcoords": [
           {
            "line": {
             "colorbar": {
              "outlinewidth": 0,
              "ticks": ""
             }
            },
            "type": "parcoords"
           }
          ],
          "pie": [
           {
            "automargin": true,
            "type": "pie"
           }
          ],
          "scatter": [
           {
            "fillpattern": {
             "fillmode": "overlay",
             "size": 10,
             "solidity": 0.2
            },
            "type": "scatter"
           }
          ],
          "scatter3d": [
           {
            "line": {
             "colorbar": {
              "outlinewidth": 0,
              "ticks": ""
             }
            },
            "marker": {
             "colorbar": {
              "outlinewidth": 0,
              "ticks": ""
             }
            },
            "type": "scatter3d"
           }
          ],
          "scattercarpet": [
           {
            "marker": {
             "colorbar": {
              "outlinewidth": 0,
              "ticks": ""
             }
            },
            "type": "scattercarpet"
           }
          ],
          "scattergeo": [
           {
            "marker": {
             "colorbar": {
              "outlinewidth": 0,
              "ticks": ""
             }
            },
            "type": "scattergeo"
           }
          ],
          "scattergl": [
           {
            "marker": {
             "colorbar": {
              "outlinewidth": 0,
              "ticks": ""
             }
            },
            "type": "scattergl"
           }
          ],
          "scattermapbox": [
           {
            "marker": {
             "colorbar": {
              "outlinewidth": 0,
              "ticks": ""
             }
            },
            "type": "scattermapbox"
           }
          ],
          "scatterpolar": [
           {
            "marker": {
             "colorbar": {
              "outlinewidth": 0,
              "ticks": ""
             }
            },
            "type": "scatterpolar"
           }
          ],
          "scatterpolargl": [
           {
            "marker": {
             "colorbar": {
              "outlinewidth": 0,
              "ticks": ""
             }
            },
            "type": "scatterpolargl"
           }
          ],
          "scatterternary": [
           {
            "marker": {
             "colorbar": {
              "outlinewidth": 0,
              "ticks": ""
             }
            },
            "type": "scatterternary"
           }
          ],
          "surface": [
           {
            "colorbar": {
             "outlinewidth": 0,
             "ticks": ""
            },
            "colorscale": [
             [
              0,
              "#0d0887"
             ],
             [
              0.1111111111111111,
              "#46039f"
             ],
             [
              0.2222222222222222,
              "#7201a8"
             ],
             [
              0.3333333333333333,
              "#9c179e"
             ],
             [
              0.4444444444444444,
              "#bd3786"
             ],
             [
              0.5555555555555556,
              "#d8576b"
             ],
             [
              0.6666666666666666,
              "#ed7953"
             ],
             [
              0.7777777777777778,
              "#fb9f3a"
             ],
             [
              0.8888888888888888,
              "#fdca26"
             ],
             [
              1,
              "#f0f921"
             ]
            ],
            "type": "surface"
           }
          ],
          "table": [
           {
            "cells": {
             "fill": {
              "color": "#EBF0F8"
             },
             "line": {
              "color": "white"
             }
            },
            "header": {
             "fill": {
              "color": "#C8D4E3"
             },
             "line": {
              "color": "white"
             }
            },
            "type": "table"
           }
          ]
         },
         "layout": {
          "annotationdefaults": {
           "arrowcolor": "#2a3f5f",
           "arrowhead": 0,
           "arrowwidth": 1
          },
          "autotypenumbers": "strict",
          "coloraxis": {
           "colorbar": {
            "outlinewidth": 0,
            "ticks": ""
           }
          },
          "colorscale": {
           "diverging": [
            [
             0,
             "#8e0152"
            ],
            [
             0.1,
             "#c51b7d"
            ],
            [
             0.2,
             "#de77ae"
            ],
            [
             0.3,
             "#f1b6da"
            ],
            [
             0.4,
             "#fde0ef"
            ],
            [
             0.5,
             "#f7f7f7"
            ],
            [
             0.6,
             "#e6f5d0"
            ],
            [
             0.7,
             "#b8e186"
            ],
            [
             0.8,
             "#7fbc41"
            ],
            [
             0.9,
             "#4d9221"
            ],
            [
             1,
             "#276419"
            ]
           ],
           "sequential": [
            [
             0,
             "#0d0887"
            ],
            [
             0.1111111111111111,
             "#46039f"
            ],
            [
             0.2222222222222222,
             "#7201a8"
            ],
            [
             0.3333333333333333,
             "#9c179e"
            ],
            [
             0.4444444444444444,
             "#bd3786"
            ],
            [
             0.5555555555555556,
             "#d8576b"
            ],
            [
             0.6666666666666666,
             "#ed7953"
            ],
            [
             0.7777777777777778,
             "#fb9f3a"
            ],
            [
             0.8888888888888888,
             "#fdca26"
            ],
            [
             1,
             "#f0f921"
            ]
           ],
           "sequentialminus": [
            [
             0,
             "#0d0887"
            ],
            [
             0.1111111111111111,
             "#46039f"
            ],
            [
             0.2222222222222222,
             "#7201a8"
            ],
            [
             0.3333333333333333,
             "#9c179e"
            ],
            [
             0.4444444444444444,
             "#bd3786"
            ],
            [
             0.5555555555555556,
             "#d8576b"
            ],
            [
             0.6666666666666666,
             "#ed7953"
            ],
            [
             0.7777777777777778,
             "#fb9f3a"
            ],
            [
             0.8888888888888888,
             "#fdca26"
            ],
            [
             1,
             "#f0f921"
            ]
           ]
          },
          "colorway": [
           "#636efa",
           "#EF553B",
           "#00cc96",
           "#ab63fa",
           "#FFA15A",
           "#19d3f3",
           "#FF6692",
           "#B6E880",
           "#FF97FF",
           "#FECB52"
          ],
          "font": {
           "color": "#2a3f5f"
          },
          "geo": {
           "bgcolor": "white",
           "lakecolor": "white",
           "landcolor": "#E5ECF6",
           "showlakes": true,
           "showland": true,
           "subunitcolor": "white"
          },
          "hoverlabel": {
           "align": "left"
          },
          "hovermode": "closest",
          "mapbox": {
           "style": "light"
          },
          "paper_bgcolor": "white",
          "plot_bgcolor": "#E5ECF6",
          "polar": {
           "angularaxis": {
            "gridcolor": "white",
            "linecolor": "white",
            "ticks": ""
           },
           "bgcolor": "#E5ECF6",
           "radialaxis": {
            "gridcolor": "white",
            "linecolor": "white",
            "ticks": ""
           }
          },
          "scene": {
           "xaxis": {
            "backgroundcolor": "#E5ECF6",
            "gridcolor": "white",
            "gridwidth": 2,
            "linecolor": "white",
            "showbackground": true,
            "ticks": "",
            "zerolinecolor": "white"
           },
           "yaxis": {
            "backgroundcolor": "#E5ECF6",
            "gridcolor": "white",
            "gridwidth": 2,
            "linecolor": "white",
            "showbackground": true,
            "ticks": "",
            "zerolinecolor": "white"
           },
           "zaxis": {
            "backgroundcolor": "#E5ECF6",
            "gridcolor": "white",
            "gridwidth": 2,
            "linecolor": "white",
            "showbackground": true,
            "ticks": "",
            "zerolinecolor": "white"
           }
          },
          "shapedefaults": {
           "line": {
            "color": "#2a3f5f"
           }
          },
          "ternary": {
           "aaxis": {
            "gridcolor": "white",
            "linecolor": "white",
            "ticks": ""
           },
           "baxis": {
            "gridcolor": "white",
            "linecolor": "white",
            "ticks": ""
           },
           "bgcolor": "#E5ECF6",
           "caxis": {
            "gridcolor": "white",
            "linecolor": "white",
            "ticks": ""
           }
          },
          "title": {
           "x": 0.05
          },
          "xaxis": {
           "automargin": true,
           "gridcolor": "white",
           "linecolor": "white",
           "ticks": "",
           "title": {
            "standoff": 15
           },
           "zerolinecolor": "white",
           "zerolinewidth": 2
          },
          "yaxis": {
           "automargin": true,
           "gridcolor": "white",
           "linecolor": "white",
           "ticks": "",
           "title": {
            "standoff": 15
           },
           "zerolinecolor": "white",
           "zerolinewidth": 2
          }
         }
        },
        "title": {
         "text": "COnitnent of Asylum"
        },
        "xaxis": {
         "anchor": "y",
         "domain": [
          0,
          1
         ],
         "title": {
          "text": "Year"
         }
        },
        "yaxis": {
         "anchor": "x",
         "domain": [
          0,
          1
         ],
         "title": {
          "text": "Total refugees"
         }
        }
       }
      }
     },
     "metadata": {},
     "output_type": "display_data"
    }
   ],
   "source": [
    "fig = px.bar(asylum_grouped, x='Year', y='Total refugees', color='Continent_of_Asylum', labels={'Total refugees': 'Total refugees'},title='Conitnent of Asylum')\n",
    "            \n",
    "fig.show()"
   ]
  },
  {
   "cell_type": "code",
   "execution_count": 123,
   "metadata": {},
   "outputs": [
    {
     "data": {
      "application/vnd.plotly.v1+json": {
       "config": {
        "plotlyServerURL": "https://plot.ly"
       },
       "data": [
        {
         "alignmentgroup": "True",
         "hovertemplate": "Continent_of_origin=Africa<br>Year=%{x}<br>Total refugees=%{y}<extra></extra>",
         "legendgroup": "Africa",
         "marker": {
          "color": "#636efa",
          "pattern": {
           "shape": ""
          }
         },
         "name": "Africa",
         "offsetgroup": "Africa",
         "orientation": "v",
         "showlegend": true,
         "textposition": "auto",
         "type": "bar",
         "x": [
          2000,
          2001,
          2002,
          2003,
          2004,
          2005,
          2006,
          2007,
          2008,
          2009,
          2010,
          2011,
          2012,
          2013,
          2014,
          2015,
          2016,
          2017,
          2018,
          2019,
          2020,
          2021,
          2022,
          2023
         ],
         "xaxis": "x",
         "y": [
          5938694,
          4241711,
          4633086,
          4279058,
          4832957,
          5017107,
          8698185,
          9013430,
          9348113,
          9465620,
          9399671,
          10772047,
          11076739,
          11965432,
          15076332,
          17232974,
          18208759,
          23032547,
          26175462,
          27289075,
          31046889,
          34415399,
          34320559,
          34977584
         ],
         "yaxis": "y"
        },
        {
         "alignmentgroup": "True",
         "hovertemplate": "Continent_of_origin=Americas<br>Year=%{x}<br>Total refugees=%{y}<extra></extra>",
         "legendgroup": "Americas",
         "marker": {
          "color": "#EF553B",
          "pattern": {
           "shape": ""
          }
         },
         "name": "Americas",
         "offsetgroup": "Americas",
         "orientation": "v",
         "showlegend": true,
         "textposition": "auto",
         "type": "bar",
         "x": [
          2000,
          2001,
          2002,
          2003,
          2004,
          2005,
          2006,
          2007,
          2008,
          2009,
          2010,
          2011,
          2012,
          2013,
          2014,
          2015,
          2016,
          2017,
          2018,
          2019,
          2020,
          2021,
          2022,
          2023
         ],
         "xaxis": "x",
         "y": [
          949177,
          1156492,
          1396885,
          1645261,
          2323073,
          2257007,
          3271490,
          3740834,
          3564965,
          3901970,
          4241676,
          4441717,
          4473513,
          5937612,
          6616555,
          7744181,
          8327422,
          8835515,
          9379772,
          10330318,
          10861417,
          9729893,
          10773678,
          11295100
         ],
         "yaxis": "y"
        },
        {
         "alignmentgroup": "True",
         "hovertemplate": "Continent_of_origin=Asia<br>Year=%{x}<br>Total refugees=%{y}<extra></extra>",
         "legendgroup": "Asia",
         "marker": {
          "color": "#00cc96",
          "pattern": {
           "shape": ""
          }
         },
         "name": "Asia",
         "offsetgroup": "Asia",
         "orientation": "v",
         "showlegend": true,
         "textposition": "auto",
         "type": "bar",
         "x": [
          2000,
          2001,
          2002,
          2003,
          2004,
          2005,
          2006,
          2007,
          2008,
          2009,
          2010,
          2011,
          2012,
          2013,
          2014,
          2015,
          2016,
          2017,
          2018,
          2019,
          2020,
          2021,
          2022,
          2023
         ],
         "xaxis": "x",
         "y": [
          8366064,
          9208127,
          7337516,
          6141140,
          6225565,
          7105911,
          9580787,
          11577856,
          11335807,
          11980159,
          11002986,
          10209705,
          12317661,
          17950088,
          24451672,
          28005130,
          26903482,
          27412239,
          27167726,
          28648909,
          29764184,
          31373416,
          34494588,
          35335516
         ],
         "yaxis": "y"
        },
        {
         "alignmentgroup": "True",
         "hovertemplate": "Continent_of_origin=Europe<br>Year=%{x}<br>Total refugees=%{y}<extra></extra>",
         "legendgroup": "Europe",
         "marker": {
          "color": "#ab63fa",
          "pattern": {
           "shape": ""
          }
         },
         "name": "Europe",
         "offsetgroup": "Europe",
         "orientation": "v",
         "showlegend": true,
         "textposition": "auto",
         "type": "bar",
         "x": [
          2000,
          2001,
          2002,
          2003,
          2004,
          2005,
          2006,
          2007,
          2008,
          2009,
          2010,
          2011,
          2012,
          2013,
          2014,
          2015,
          2016,
          2017,
          2018,
          2019,
          2020,
          2021,
          2022,
          2023
         ],
         "xaxis": "x",
         "y": [
          2478025,
          2280840,
          2367256,
          2114956,
          1886166,
          1349657,
          1368806,
          1124492,
          1024952,
          988272,
          961002,
          882953,
          841729,
          624367,
          1696041,
          2604939,
          2670384,
          2553101,
          2201493,
          1398741,
          1347085,
          1487747,
          12281325,
          11668617
         ],
         "yaxis": "y"
        },
        {
         "alignmentgroup": "True",
         "hovertemplate": "Continent_of_origin=Oceania<br>Year=%{x}<br>Total refugees=%{y}<extra></extra>",
         "legendgroup": "Oceania",
         "marker": {
          "color": "#FFA15A",
          "pattern": {
           "shape": ""
          }
         },
         "name": "Oceania",
         "offsetgroup": "Oceania",
         "orientation": "v",
         "showlegend": true,
         "textposition": "auto",
         "type": "bar",
         "x": [
          2000,
          2001,
          2002,
          2003,
          2004,
          2005,
          2006,
          2007,
          2008,
          2009,
          2010,
          2011,
          2012,
          2013,
          2014,
          2015,
          2016,
          2017,
          2018,
          2019,
          2020,
          2021,
          2022,
          2023
         ],
         "xaxis": "x",
         "y": [
          2167,
          2784,
          2765,
          2301,
          1965,
          1920,
          2144,
          2261,
          2293,
          2490,
          2457,
          2219,
          2100,
          2194,
          2508,
          2152,
          2317,
          2635,
          3421,
          5007,
          19918,
          31270,
          99785,
          99756
         ],
         "yaxis": "y"
        }
       ],
       "layout": {
        "barmode": "relative",
        "legend": {
         "title": {
          "text": "Continent_of_origin"
         },
         "tracegroupgap": 0
        },
        "template": {
         "data": {
          "bar": [
           {
            "error_x": {
             "color": "#2a3f5f"
            },
            "error_y": {
             "color": "#2a3f5f"
            },
            "marker": {
             "line": {
              "color": "#E5ECF6",
              "width": 0.5
             },
             "pattern": {
              "fillmode": "overlay",
              "size": 10,
              "solidity": 0.2
             }
            },
            "type": "bar"
           }
          ],
          "barpolar": [
           {
            "marker": {
             "line": {
              "color": "#E5ECF6",
              "width": 0.5
             },
             "pattern": {
              "fillmode": "overlay",
              "size": 10,
              "solidity": 0.2
             }
            },
            "type": "barpolar"
           }
          ],
          "carpet": [
           {
            "aaxis": {
             "endlinecolor": "#2a3f5f",
             "gridcolor": "white",
             "linecolor": "white",
             "minorgridcolor": "white",
             "startlinecolor": "#2a3f5f"
            },
            "baxis": {
             "endlinecolor": "#2a3f5f",
             "gridcolor": "white",
             "linecolor": "white",
             "minorgridcolor": "white",
             "startlinecolor": "#2a3f5f"
            },
            "type": "carpet"
           }
          ],
          "choropleth": [
           {
            "colorbar": {
             "outlinewidth": 0,
             "ticks": ""
            },
            "type": "choropleth"
           }
          ],
          "contour": [
           {
            "colorbar": {
             "outlinewidth": 0,
             "ticks": ""
            },
            "colorscale": [
             [
              0,
              "#0d0887"
             ],
             [
              0.1111111111111111,
              "#46039f"
             ],
             [
              0.2222222222222222,
              "#7201a8"
             ],
             [
              0.3333333333333333,
              "#9c179e"
             ],
             [
              0.4444444444444444,
              "#bd3786"
             ],
             [
              0.5555555555555556,
              "#d8576b"
             ],
             [
              0.6666666666666666,
              "#ed7953"
             ],
             [
              0.7777777777777778,
              "#fb9f3a"
             ],
             [
              0.8888888888888888,
              "#fdca26"
             ],
             [
              1,
              "#f0f921"
             ]
            ],
            "type": "contour"
           }
          ],
          "contourcarpet": [
           {
            "colorbar": {
             "outlinewidth": 0,
             "ticks": ""
            },
            "type": "contourcarpet"
           }
          ],
          "heatmap": [
           {
            "colorbar": {
             "outlinewidth": 0,
             "ticks": ""
            },
            "colorscale": [
             [
              0,
              "#0d0887"
             ],
             [
              0.1111111111111111,
              "#46039f"
             ],
             [
              0.2222222222222222,
              "#7201a8"
             ],
             [
              0.3333333333333333,
              "#9c179e"
             ],
             [
              0.4444444444444444,
              "#bd3786"
             ],
             [
              0.5555555555555556,
              "#d8576b"
             ],
             [
              0.6666666666666666,
              "#ed7953"
             ],
             [
              0.7777777777777778,
              "#fb9f3a"
             ],
             [
              0.8888888888888888,
              "#fdca26"
             ],
             [
              1,
              "#f0f921"
             ]
            ],
            "type": "heatmap"
           }
          ],
          "heatmapgl": [
           {
            "colorbar": {
             "outlinewidth": 0,
             "ticks": ""
            },
            "colorscale": [
             [
              0,
              "#0d0887"
             ],
             [
              0.1111111111111111,
              "#46039f"
             ],
             [
              0.2222222222222222,
              "#7201a8"
             ],
             [
              0.3333333333333333,
              "#9c179e"
             ],
             [
              0.4444444444444444,
              "#bd3786"
             ],
             [
              0.5555555555555556,
              "#d8576b"
             ],
             [
              0.6666666666666666,
              "#ed7953"
             ],
             [
              0.7777777777777778,
              "#fb9f3a"
             ],
             [
              0.8888888888888888,
              "#fdca26"
             ],
             [
              1,
              "#f0f921"
             ]
            ],
            "type": "heatmapgl"
           }
          ],
          "histogram": [
           {
            "marker": {
             "pattern": {
              "fillmode": "overlay",
              "size": 10,
              "solidity": 0.2
             }
            },
            "type": "histogram"
           }
          ],
          "histogram2d": [
           {
            "colorbar": {
             "outlinewidth": 0,
             "ticks": ""
            },
            "colorscale": [
             [
              0,
              "#0d0887"
             ],
             [
              0.1111111111111111,
              "#46039f"
             ],
             [
              0.2222222222222222,
              "#7201a8"
             ],
             [
              0.3333333333333333,
              "#9c179e"
             ],
             [
              0.4444444444444444,
              "#bd3786"
             ],
             [
              0.5555555555555556,
              "#d8576b"
             ],
             [
              0.6666666666666666,
              "#ed7953"
             ],
             [
              0.7777777777777778,
              "#fb9f3a"
             ],
             [
              0.8888888888888888,
              "#fdca26"
             ],
             [
              1,
              "#f0f921"
             ]
            ],
            "type": "histogram2d"
           }
          ],
          "histogram2dcontour": [
           {
            "colorbar": {
             "outlinewidth": 0,
             "ticks": ""
            },
            "colorscale": [
             [
              0,
              "#0d0887"
             ],
             [
              0.1111111111111111,
              "#46039f"
             ],
             [
              0.2222222222222222,
              "#7201a8"
             ],
             [
              0.3333333333333333,
              "#9c179e"
             ],
             [
              0.4444444444444444,
              "#bd3786"
             ],
             [
              0.5555555555555556,
              "#d8576b"
             ],
             [
              0.6666666666666666,
              "#ed7953"
             ],
             [
              0.7777777777777778,
              "#fb9f3a"
             ],
             [
              0.8888888888888888,
              "#fdca26"
             ],
             [
              1,
              "#f0f921"
             ]
            ],
            "type": "histogram2dcontour"
           }
          ],
          "mesh3d": [
           {
            "colorbar": {
             "outlinewidth": 0,
             "ticks": ""
            },
            "type": "mesh3d"
           }
          ],
          "parcoords": [
           {
            "line": {
             "colorbar": {
              "outlinewidth": 0,
              "ticks": ""
             }
            },
            "type": "parcoords"
           }
          ],
          "pie": [
           {
            "automargin": true,
            "type": "pie"
           }
          ],
          "scatter": [
           {
            "fillpattern": {
             "fillmode": "overlay",
             "size": 10,
             "solidity": 0.2
            },
            "type": "scatter"
           }
          ],
          "scatter3d": [
           {
            "line": {
             "colorbar": {
              "outlinewidth": 0,
              "ticks": ""
             }
            },
            "marker": {
             "colorbar": {
              "outlinewidth": 0,
              "ticks": ""
             }
            },
            "type": "scatter3d"
           }
          ],
          "scattercarpet": [
           {
            "marker": {
             "colorbar": {
              "outlinewidth": 0,
              "ticks": ""
             }
            },
            "type": "scattercarpet"
           }
          ],
          "scattergeo": [
           {
            "marker": {
             "colorbar": {
              "outlinewidth": 0,
              "ticks": ""
             }
            },
            "type": "scattergeo"
           }
          ],
          "scattergl": [
           {
            "marker": {
             "colorbar": {
              "outlinewidth": 0,
              "ticks": ""
             }
            },
            "type": "scattergl"
           }
          ],
          "scattermapbox": [
           {
            "marker": {
             "colorbar": {
              "outlinewidth": 0,
              "ticks": ""
             }
            },
            "type": "scattermapbox"
           }
          ],
          "scatterpolar": [
           {
            "marker": {
             "colorbar": {
              "outlinewidth": 0,
              "ticks": ""
             }
            },
            "type": "scatterpolar"
           }
          ],
          "scatterpolargl": [
           {
            "marker": {
             "colorbar": {
              "outlinewidth": 0,
              "ticks": ""
             }
            },
            "type": "scatterpolargl"
           }
          ],
          "scatterternary": [
           {
            "marker": {
             "colorbar": {
              "outlinewidth": 0,
              "ticks": ""
             }
            },
            "type": "scatterternary"
           }
          ],
          "surface": [
           {
            "colorbar": {
             "outlinewidth": 0,
             "ticks": ""
            },
            "colorscale": [
             [
              0,
              "#0d0887"
             ],
             [
              0.1111111111111111,
              "#46039f"
             ],
             [
              0.2222222222222222,
              "#7201a8"
             ],
             [
              0.3333333333333333,
              "#9c179e"
             ],
             [
              0.4444444444444444,
              "#bd3786"
             ],
             [
              0.5555555555555556,
              "#d8576b"
             ],
             [
              0.6666666666666666,
              "#ed7953"
             ],
             [
              0.7777777777777778,
              "#fb9f3a"
             ],
             [
              0.8888888888888888,
              "#fdca26"
             ],
             [
              1,
              "#f0f921"
             ]
            ],
            "type": "surface"
           }
          ],
          "table": [
           {
            "cells": {
             "fill": {
              "color": "#EBF0F8"
             },
             "line": {
              "color": "white"
             }
            },
            "header": {
             "fill": {
              "color": "#C8D4E3"
             },
             "line": {
              "color": "white"
             }
            },
            "type": "table"
           }
          ]
         },
         "layout": {
          "annotationdefaults": {
           "arrowcolor": "#2a3f5f",
           "arrowhead": 0,
           "arrowwidth": 1
          },
          "autotypenumbers": "strict",
          "coloraxis": {
           "colorbar": {
            "outlinewidth": 0,
            "ticks": ""
           }
          },
          "colorscale": {
           "diverging": [
            [
             0,
             "#8e0152"
            ],
            [
             0.1,
             "#c51b7d"
            ],
            [
             0.2,
             "#de77ae"
            ],
            [
             0.3,
             "#f1b6da"
            ],
            [
             0.4,
             "#fde0ef"
            ],
            [
             0.5,
             "#f7f7f7"
            ],
            [
             0.6,
             "#e6f5d0"
            ],
            [
             0.7,
             "#b8e186"
            ],
            [
             0.8,
             "#7fbc41"
            ],
            [
             0.9,
             "#4d9221"
            ],
            [
             1,
             "#276419"
            ]
           ],
           "sequential": [
            [
             0,
             "#0d0887"
            ],
            [
             0.1111111111111111,
             "#46039f"
            ],
            [
             0.2222222222222222,
             "#7201a8"
            ],
            [
             0.3333333333333333,
             "#9c179e"
            ],
            [
             0.4444444444444444,
             "#bd3786"
            ],
            [
             0.5555555555555556,
             "#d8576b"
            ],
            [
             0.6666666666666666,
             "#ed7953"
            ],
            [
             0.7777777777777778,
             "#fb9f3a"
            ],
            [
             0.8888888888888888,
             "#fdca26"
            ],
            [
             1,
             "#f0f921"
            ]
           ],
           "sequentialminus": [
            [
             0,
             "#0d0887"
            ],
            [
             0.1111111111111111,
             "#46039f"
            ],
            [
             0.2222222222222222,
             "#7201a8"
            ],
            [
             0.3333333333333333,
             "#9c179e"
            ],
            [
             0.4444444444444444,
             "#bd3786"
            ],
            [
             0.5555555555555556,
             "#d8576b"
            ],
            [
             0.6666666666666666,
             "#ed7953"
            ],
            [
             0.7777777777777778,
             "#fb9f3a"
            ],
            [
             0.8888888888888888,
             "#fdca26"
            ],
            [
             1,
             "#f0f921"
            ]
           ]
          },
          "colorway": [
           "#636efa",
           "#EF553B",
           "#00cc96",
           "#ab63fa",
           "#FFA15A",
           "#19d3f3",
           "#FF6692",
           "#B6E880",
           "#FF97FF",
           "#FECB52"
          ],
          "font": {
           "color": "#2a3f5f"
          },
          "geo": {
           "bgcolor": "white",
           "lakecolor": "white",
           "landcolor": "#E5ECF6",
           "showlakes": true,
           "showland": true,
           "subunitcolor": "white"
          },
          "hoverlabel": {
           "align": "left"
          },
          "hovermode": "closest",
          "mapbox": {
           "style": "light"
          },
          "paper_bgcolor": "white",
          "plot_bgcolor": "#E5ECF6",
          "polar": {
           "angularaxis": {
            "gridcolor": "white",
            "linecolor": "white",
            "ticks": ""
           },
           "bgcolor": "#E5ECF6",
           "radialaxis": {
            "gridcolor": "white",
            "linecolor": "white",
            "ticks": ""
           }
          },
          "scene": {
           "xaxis": {
            "backgroundcolor": "#E5ECF6",
            "gridcolor": "white",
            "gridwidth": 2,
            "linecolor": "white",
            "showbackground": true,
            "ticks": "",
            "zerolinecolor": "white"
           },
           "yaxis": {
            "backgroundcolor": "#E5ECF6",
            "gridcolor": "white",
            "gridwidth": 2,
            "linecolor": "white",
            "showbackground": true,
            "ticks": "",
            "zerolinecolor": "white"
           },
           "zaxis": {
            "backgroundcolor": "#E5ECF6",
            "gridcolor": "white",
            "gridwidth": 2,
            "linecolor": "white",
            "showbackground": true,
            "ticks": "",
            "zerolinecolor": "white"
           }
          },
          "shapedefaults": {
           "line": {
            "color": "#2a3f5f"
           }
          },
          "ternary": {
           "aaxis": {
            "gridcolor": "white",
            "linecolor": "white",
            "ticks": ""
           },
           "baxis": {
            "gridcolor": "white",
            "linecolor": "white",
            "ticks": ""
           },
           "bgcolor": "#E5ECF6",
           "caxis": {
            "gridcolor": "white",
            "linecolor": "white",
            "ticks": ""
           }
          },
          "title": {
           "x": 0.05
          },
          "xaxis": {
           "automargin": true,
           "gridcolor": "white",
           "linecolor": "white",
           "ticks": "",
           "title": {
            "standoff": 15
           },
           "zerolinecolor": "white",
           "zerolinewidth": 2
          },
          "yaxis": {
           "automargin": true,
           "gridcolor": "white",
           "linecolor": "white",
           "ticks": "",
           "title": {
            "standoff": 15
           },
           "zerolinecolor": "white",
           "zerolinewidth": 2
          }
         }
        },
        "title": {
         "text": "Conitnent of origin"
        },
        "xaxis": {
         "anchor": "y",
         "domain": [
          0,
          1
         ],
         "title": {
          "text": "Year"
         }
        },
        "yaxis": {
         "anchor": "x",
         "domain": [
          0,
          1
         ],
         "title": {
          "text": "Total refugees"
         }
        }
       }
      }
     },
     "metadata": {},
     "output_type": "display_data"
    }
   ],
   "source": [
    "fig = px.bar(origin_grouped, x='Year', y='Total refugees', color='Continent_of_origin', labels={'Total refugees': 'Total refugees'},title='Conitnent of origin')\n",
    "            \n",
    "fig.show()"
   ]
  }
 ],
 "metadata": {
  "kernelspec": {
   "display_name": "Python 3",
   "language": "python",
   "name": "python3"
  },
  "language_info": {
   "codemirror_mode": {
    "name": "ipython",
    "version": 3
   },
   "file_extension": ".py",
   "mimetype": "text/x-python",
   "name": "python",
   "nbconvert_exporter": "python",
   "pygments_lexer": "ipython3",
   "version": "3.10.0"
  }
 },
 "nbformat": 4,
 "nbformat_minor": 2
}
