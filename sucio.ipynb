{
 "cells": [
  {
   "cell_type": "code",
   "execution_count": 1,
   "metadata": {},
   "outputs": [],
   "source": [
    "import pandas as pd\n",
    "import numpy as np\n",
    "import seaborn as sns\n",
    "import matplotlib.pyplot as plt\n",
    "import plotly.express as px "
   ]
  },
  {
   "cell_type": "code",
   "execution_count": 3,
   "metadata": {},
   "outputs": [],
   "source": [
    "asylum = pd.read_csv(r'C:\\Users\\ioana\\OneDrive\\Escritorio\\Entorno10\\Refugee_project_study\\Refugees-flow-study-project\\Data\\asylum_decisions.csv')\n",
    "population = pd.read_csv(r'C:\\Users\\ioana\\OneDrive\\Escritorio\\Entorno10\\Refugee_project_study\\Refugees-flow-study-project\\Data\\population.csv')"
   ]
  },
  {
   "cell_type": "code",
   "execution_count": 4,
   "metadata": {},
   "outputs": [
    {
     "data": {
      "text/html": [
       "<div>\n",
       "<style scoped>\n",
       "    .dataframe tbody tr th:only-of-type {\n",
       "        vertical-align: middle;\n",
       "    }\n",
       "\n",
       "    .dataframe tbody tr th {\n",
       "        vertical-align: top;\n",
       "    }\n",
       "\n",
       "    .dataframe thead th {\n",
       "        text-align: right;\n",
       "    }\n",
       "</style>\n",
       "<table border=\"1\" class=\"dataframe\">\n",
       "  <thead>\n",
       "    <tr style=\"text-align: right;\">\n",
       "      <th></th>\n",
       "      <th>Year</th>\n",
       "      <th>Country of origin</th>\n",
       "      <th>Country of origin (ISO)</th>\n",
       "      <th>Country of asylum</th>\n",
       "      <th>Country of asylum (ISO)</th>\n",
       "      <th>Refugees under UNHCR's mandate</th>\n",
       "      <th>Asylum-seekers</th>\n",
       "      <th>IDPs of concern to UNHCR</th>\n",
       "      <th>Other people in need of international protection</th>\n",
       "      <th>Stateless persons</th>\n",
       "      <th>Host Community</th>\n",
       "      <th>Others of concern</th>\n",
       "    </tr>\n",
       "  </thead>\n",
       "  <tbody>\n",
       "    <tr>\n",
       "      <th>0</th>\n",
       "      <td>2023</td>\n",
       "      <td>Philippines</td>\n",
       "      <td>PHL</td>\n",
       "      <td>Poland</td>\n",
       "      <td>POL</td>\n",
       "      <td>5</td>\n",
       "      <td>0</td>\n",
       "      <td>0</td>\n",
       "      <td>-</td>\n",
       "      <td>0</td>\n",
       "      <td>0</td>\n",
       "      <td>0</td>\n",
       "    </tr>\n",
       "    <tr>\n",
       "      <th>1</th>\n",
       "      <td>2023</td>\n",
       "      <td>South Africa</td>\n",
       "      <td>ZAF</td>\n",
       "      <td>Poland</td>\n",
       "      <td>POL</td>\n",
       "      <td>6</td>\n",
       "      <td>0</td>\n",
       "      <td>0</td>\n",
       "      <td>-</td>\n",
       "      <td>0</td>\n",
       "      <td>0</td>\n",
       "      <td>0</td>\n",
       "    </tr>\n",
       "    <tr>\n",
       "      <th>2</th>\n",
       "      <td>2023</td>\n",
       "      <td>Russian Federation</td>\n",
       "      <td>RUS</td>\n",
       "      <td>Poland</td>\n",
       "      <td>POL</td>\n",
       "      <td>2284</td>\n",
       "      <td>1102</td>\n",
       "      <td>0</td>\n",
       "      <td>-</td>\n",
       "      <td>0</td>\n",
       "      <td>0</td>\n",
       "      <td>0</td>\n",
       "    </tr>\n",
       "    <tr>\n",
       "      <th>3</th>\n",
       "      <td>2023</td>\n",
       "      <td>Rwanda</td>\n",
       "      <td>RWA</td>\n",
       "      <td>Poland</td>\n",
       "      <td>POL</td>\n",
       "      <td>5</td>\n",
       "      <td>0</td>\n",
       "      <td>0</td>\n",
       "      <td>-</td>\n",
       "      <td>0</td>\n",
       "      <td>0</td>\n",
       "      <td>0</td>\n",
       "    </tr>\n",
       "    <tr>\n",
       "      <th>4</th>\n",
       "      <td>2023</td>\n",
       "      <td>Serbia and Kosovo: S/RES/1244 (1999)</td>\n",
       "      <td>SRB</td>\n",
       "      <td>Poland</td>\n",
       "      <td>POL</td>\n",
       "      <td>5</td>\n",
       "      <td>0</td>\n",
       "      <td>0</td>\n",
       "      <td>-</td>\n",
       "      <td>0</td>\n",
       "      <td>0</td>\n",
       "      <td>0</td>\n",
       "    </tr>\n",
       "  </tbody>\n",
       "</table>\n",
       "</div>"
      ],
      "text/plain": [
       "   Year                     Country of origin Country of origin (ISO)  \\\n",
       "0  2023                           Philippines                     PHL   \n",
       "1  2023                          South Africa                     ZAF   \n",
       "2  2023                    Russian Federation                     RUS   \n",
       "3  2023                                Rwanda                     RWA   \n",
       "4  2023  Serbia and Kosovo: S/RES/1244 (1999)                     SRB   \n",
       "\n",
       "  Country of asylum Country of asylum (ISO)  Refugees under UNHCR's mandate  \\\n",
       "0            Poland                     POL                               5   \n",
       "1            Poland                     POL                               6   \n",
       "2            Poland                     POL                            2284   \n",
       "3            Poland                     POL                               5   \n",
       "4            Poland                     POL                               5   \n",
       "\n",
       "   Asylum-seekers  IDPs of concern to UNHCR  \\\n",
       "0               0                         0   \n",
       "1               0                         0   \n",
       "2            1102                         0   \n",
       "3               0                         0   \n",
       "4               0                         0   \n",
       "\n",
       "  Other people in need of international protection  Stateless persons  \\\n",
       "0                                                -                  0   \n",
       "1                                                -                  0   \n",
       "2                                                -                  0   \n",
       "3                                                -                  0   \n",
       "4                                                -                  0   \n",
       "\n",
       "  Host Community  Others of concern  \n",
       "0              0                  0  \n",
       "1              0                  0  \n",
       "2              0                  0  \n",
       "3              0                  0  \n",
       "4              0                  0  "
      ]
     },
     "execution_count": 4,
     "metadata": {},
     "output_type": "execute_result"
    }
   ],
   "source": [
    "population.head()"
   ]
  },
  {
   "cell_type": "markdown",
   "metadata": {},
   "source": [
    "Refugees include individuals recognized under the 1951 Convention relating to the Status of Refugees, its 1967 Protocol, the 1969 Organization of African Unity (OAU) Convention Governing the Specific Aspects of Refugee Problems in Africa, the refugee definition contained in the 1984 Cartagena Declaration on Refugees as incorporated into national laws, those recognized in accordance with the UNHCR Statute, individuals granted complementary forms of protection, and those enjoying temporary protection. The refugee population also includes people in refugee-like situations.<br>\n",
    "\n",
    "Asylum-seekers are individuals who have sought international protection and whose claims for refugee status have not yet been determined. <br>\n",
    "\n",
    "Internally displaced persons (IDPs) are persons or groups of persons who have been forced or obliged to flee or to leave their homes or places of habitual residence, in particular as a result of, or in order to avoid the effects of armed conflict, situations of generalized violence, violations of human rights or natural or human-made disasters, and who have not crossed an internationally recognized State border. For the purposes of UNHCR’s statistics, this population includes only conflict-generated IDPs to whom the Office extends protection and/or assistance. The IDP population also includes people in an IDP-like situation.<br>\n",
    "\n",
    "Other people in need of international protection refers to people who are outside their country or territory of origin, typically because they have been forcibly displaced across international borders, who have not been reported under other categories (asylum-seekers, refugees, people in refugee-like situations) but who likely need international protection, including protection against forced return, as well as access to basic services on a temporary or longer-term basis.<br>\n",
    "\n",
    "Stateless People as those not considered as nationals by any State under the operation of its law. In other words, they do not possess the nationality of any State. UNHCR statistics refer to people who fall under the organization’s statelessness mandate as those who are stateless according to this international definition. Data from some countries may also include people with undetermined nationality. These are people who lack proof of possession of any nationality and at the same time have or are regarded as having important links to more than one State. UNHCR also works with populations at risk of statelessness, but persons at risk of statelessness are not reported on under the statistical category of individuals under UNHCR’s statelessness mandate.<br>\n",
    "\n",
    "Host community refers to a community that hosts large populations of refugees or internally displaced persons, whether in camps, integrated into households, or independently. UNHCR reports on host communities in countries with substantive programmes focusing on sharing the burden of hosting large refugee populations, as set out in the Global Compact on Refugees.<br>\n",
    "\n",
    "Other groups or persons of concern refers to individuals who do not necessarily fall directly into any of these groups above but to whom UNHCR has extended its protection and/or assistance services, based on humanitarian or other special grounds."
   ]
  },
  {
   "cell_type": "code",
   "execution_count": 20,
   "metadata": {},
   "outputs": [
    {
     "data": {
      "text/plain": [
       "Year                                                0\n",
       "Country of origin                                   0\n",
       "Country of origin (ISO)                             0\n",
       "Country of asylum                                   0\n",
       "Country of asylum (ISO)                             0\n",
       "Refugees under UNHCR's mandate                      0\n",
       "Asylum-seekers                                      0\n",
       "IDPs of concern to UNHCR                            0\n",
       "Other people in need of international protection    0\n",
       "Stateless persons                                   0\n",
       "Host Community                                      0\n",
       "Others of concern                                   0\n",
       "dtype: int64"
      ]
     },
     "execution_count": 20,
     "metadata": {},
     "output_type": "execute_result"
    }
   ],
   "source": [
    "population.isnull().sum()   "
   ]
  },
  {
   "cell_type": "code",
   "execution_count": 14,
   "metadata": {},
   "outputs": [
    {
     "data": {
      "text/plain": [
       "Country of asylum\n",
       "Thailand              14138030\n",
       "Myanmar               13276638\n",
       "Cote d'Ivoire          9581213\n",
       "Nepal                  7801762\n",
       "Bangladesh             7192879\n",
       "Latvia                 5746592\n",
       "Syrian Arab Rep.       4312000\n",
       "Estonia                1891145\n",
       "Iraq                   1840197\n",
       "Kuwait                 1819106\n",
       "Russian Federation     1706567\n",
       "Saudi Arabia           1330000\n",
       "Malaysia                924003\n",
       "Ukraine                 889671\n",
       "Uzbekistan              683372\n",
       "Kenya                   662657\n",
       "Dominican Rep.          553770\n",
       "Sweden                  475381\n",
       "Cambodia                397332\n",
       "Viet Nam                335900\n",
       "Name: Stateless persons, dtype: int64"
      ]
     },
     "execution_count": 14,
     "metadata": {},
     "output_type": "execute_result"
    }
   ],
   "source": [
    "# No eliminar stateless person sino agrupar por pais de asilo. Vamos a ver si las personas viajan a paises cercanos y así podemos deducir que los refugiados stateless provienen en su gran mayoría de ciertas áreas. \n",
    "#agrupar por pais de origen y sumar los stateless persons \n",
    "population.groupby(['Country of asylum'])['Stateless persons'].sum().nlargest(20)"
   ]
  },
  {
   "cell_type": "code",
   "execution_count": 16,
   "metadata": {},
   "outputs": [
    {
     "data": {
      "text/plain": [
       "Country of origin\n",
       "Afghanistan       0000000000000000000000000000000000000000000000...\n",
       "Albania           0000000000000000000000000000000000000000000000...\n",
       "Algeria           0000000000000000000000000000000000000000000000...\n",
       "Andorra                              000---------------------------\n",
       "Angola            0000000000000000000000000000000000000000000000...\n",
       "                                        ...                        \n",
       "Viet Nam          0000000000000000000000000000000000000000000000...\n",
       "Western Sahara    00000000000000000000000000--------------------...\n",
       "Yemen             0000000000000000000000000000000000000000000000...\n",
       "Zambia            00000000000000000000000000000000000-----------...\n",
       "Zimbabwe          0000000000000000000000000000000000000000000000...\n",
       "Name: Host Community, Length: 214, dtype: object"
      ]
     },
     "execution_count": 16,
     "metadata": {},
     "output_type": "execute_result"
    }
   ],
   "source": [
    "population.groupby(['Country of origin'])['Host Community'].sum()"
   ]
  },
  {
   "cell_type": "code",
   "execution_count": 18,
   "metadata": {},
   "outputs": [
    {
     "data": {
      "text/plain": [
       "array(['0', '12002', '49305', '454831', '15765482', '2581900', '7576',\n",
       "       '1700', '401356', '1400000', '14521', '3365', '827077', '81620',\n",
       "       '174850', '13666', '83995', '876000', '3051', '947281', '1038257',\n",
       "       '406161', '1224393', '96800', '2155', '617687', '81619', '5480',\n",
       "       '1102358', '640', '11972', '85061', '371594', '15209720', '5433',\n",
       "       '9346', '596148', '4200', '878451', '-', '3581', '500353', '8165',\n",
       "       '391', '250000', '4605', '2428906', '4020', '6000', '5226',\n",
       "       '110526', '741889', '1863', '1301', '84953', '5892', '494710',\n",
       "       '68880', '9201', '26596', '154150', '472000', '44000', '2351313',\n",
       "       '2304506'], dtype=object)"
      ]
     },
     "execution_count": 18,
     "metadata": {},
     "output_type": "execute_result"
    }
   ],
   "source": [
    "population['Host Community'].unique()"
   ]
  },
  {
   "cell_type": "code",
   "execution_count": 23,
   "metadata": {},
   "outputs": [
    {
     "data": {
      "text/plain": [
       "<Axes: xlabel='Year'>"
      ]
     },
     "execution_count": 23,
     "metadata": {},
     "output_type": "execute_result"
    },
    {
     "data": {
      "image/png": "[encoded data removed]",
      "text/plain": [
       "<Figure size 640x480 with 1 Axes>"
      ]
     },
     "metadata": {},
     "output_type": "display_data"
    }
   ],
   "source": [
    "#quiero ver como evoluciona el numero de refugiados en el tiempo en una grafica de linea\n",
    "population.groupby(['Year'])['Asylum-seekers'].sum().plot(kind='line')\n",
    "\n",
    "#No había datos de asylum seekers hasta el año 1990 y algo?"
   ]
  },
  {
   "cell_type": "code",
   "execution_count": 24,
   "metadata": {},
   "outputs": [
    {
     "data": {
      "text/plain": [
       "<Axes: xlabel='Year'>"
      ]
     },
     "execution_count": 24,
     "metadata": {},
     "output_type": "execute_result"
    },
    {
     "data": {
      "image/png": "[encoded data removed]",
      "text/plain": [
       "<Figure size 640x480 with 1 Axes>"
      ]
     },
     "metadata": {},
     "output_type": "display_data"
    }
   ],
   "source": [
    "population.groupby(['Year'])['Refugees under UNHCR\\'s mandate'].sum().plot(kind='line')"
   ]
  },
  {
   "cell_type": "code",
   "execution_count": 26,
   "metadata": {},
   "outputs": [
    {
     "data": {
      "text/plain": [
       "<Axes: xlabel='Year'>"
      ]
     },
     "execution_count": 26,
     "metadata": {},
     "output_type": "execute_result"
    },
    {
     "data": {
      "image/png": "[encoded data removed]",
      "text/plain": [
       "<Figure size 640x480 with 1 Axes>"
      ]
     },
     "metadata": {},
     "output_type": "display_data"
    }
   ],
   "source": [
    "population.groupby(['Year'])['Others of concern'].sum().plot(kind='line')"
   ]
  },
  {
   "cell_type": "code",
   "execution_count": 32,
   "metadata": {},
   "outputs": [
    {
     "data": {
      "text/plain": [
       "array(['-', '10878', '23628', '17000', '14000', '51156', '146559', '311',\n",
       "       '980470', '214771', '15428', '310148', '436060', '2452890',\n",
       "       '18900', '114805', '495481', '19635', '53027', '146696', '1004',\n",
       "       '969817', '165174', '13531', '264040', '436845', '2453862',\n",
       "       '16598', '14178', '23023', '113722', '495304', '128000', '1910',\n",
       "       '791442', '60', '8403', '14995', '5', '25', '175992', '92',\n",
       "       '500271', '1842390', '21766', '116000', '503882', '234', '1469',\n",
       "       '25800', '164622', '11805', '67', '63179', '81847', '118937',\n",
       "       '2879', '515039', '19', '171659', '9557', '163754', '39', '454547',\n",
       "       '1729537', '22401', '114050', '401777', '23307', '4663', '14063',\n",
       "       '14', '21', '16691', '38', '11', '16602', '16190', '115768',\n",
       "       '3588', '377864', '7664', '14362', '5472', '123507', '52',\n",
       "       '452712', '1771237', '20828', '33816', '374045', '173343', '22000',\n",
       "       '121', '52982', '42104', '94400', '803', '428214', '127152',\n",
       "       '39771', '285122', '1171552', '26428', '256265', '36400', '31843',\n",
       "       '11605', '15602', '25686'], dtype=object)"
      ]
     },
     "execution_count": 32,
     "metadata": {},
     "output_type": "execute_result"
    }
   ],
   "source": [
    "population['Other people in need of international protection'].unique() "
   ]
  },
  {
   "cell_type": "code",
   "execution_count": 33,
   "metadata": {},
   "outputs": [],
   "source": [
    "#reemplazar los valores '-' por np.nan en la columna 'Other people in need of international protection'\n",
    "population['Other people in need of international protection'] = population['Other people in need of international protection'].replace('-', np.nan)"
   ]
  },
  {
   "cell_type": "code",
   "execution_count": 37,
   "metadata": {},
   "outputs": [
    {
     "data": {
      "text/plain": [
       "(125689, 13)"
      ]
     },
     "execution_count": 37,
     "metadata": {},
     "output_type": "execute_result"
    }
   ],
   "source": [
    "population.shape"
   ]
  },
  {
   "cell_type": "code",
   "execution_count": 36,
   "metadata": {},
   "outputs": [
    {
     "data": {
      "text/plain": [
       "125572"
      ]
     },
     "execution_count": 36,
     "metadata": {},
     "output_type": "execute_result"
    }
   ],
   "source": [
    "population['Other people in need of international protection'].isnull().sum()"
   ]
  },
  {
   "cell_type": "code",
   "execution_count": 38,
   "metadata": {},
   "outputs": [],
   "source": [
    "#ELimino la columna other people in need of international protection porque tiene muchos valores nulos y no me aporta información. \n",
    "population = population.drop(columns=['Other people in need of international protection'])"
   ]
  },
  {
   "cell_type": "code",
   "execution_count": 39,
   "metadata": {},
   "outputs": [],
   "source": [
    "# hacer una nueva columna que sea la suma de los tres tipos de refugiados\n",
    "population['Total refugees'] = population['Refugees under UNHCR\\'s mandate'] + population['Asylum-seekers'] + population['IDPs of concern to UNHCR']"
   ]
  },
  {
   "cell_type": "code",
   "execution_count": 40,
   "metadata": {},
   "outputs": [
    {
     "data": {
      "text/plain": [
       "<Axes: xlabel='Year'>"
      ]
     },
     "execution_count": 40,
     "metadata": {},
     "output_type": "execute_result"
    },
    {
     "data": {
      "image/png": "[encoded data removed]",
      "text/plain": [
       "<Figure size 640x480 with 1 Axes>"
      ]
     },
     "metadata": {},
     "output_type": "display_data"
    }
   ],
   "source": [
    "population.groupby(['Year'])['Total refugees'].sum().plot(kind='line')"
   ]
  },
  {
   "cell_type": "code",
   "execution_count": 29,
   "metadata": {},
   "outputs": [
    {
     "data": {
      "text/html": [
       "<div>\n",
       "<style scoped>\n",
       "    .dataframe tbody tr th:only-of-type {\n",
       "        vertical-align: middle;\n",
       "    }\n",
       "\n",
       "    .dataframe tbody tr th {\n",
       "        vertical-align: top;\n",
       "    }\n",
       "\n",
       "    .dataframe thead th {\n",
       "        text-align: right;\n",
       "    }\n",
       "</style>\n",
       "<table border=\"1\" class=\"dataframe\">\n",
       "  <thead>\n",
       "    <tr style=\"text-align: right;\">\n",
       "      <th></th>\n",
       "      <th>Year</th>\n",
       "      <th>Country of origin</th>\n",
       "      <th>Country of origin (ISO)</th>\n",
       "      <th>Country of asylum</th>\n",
       "      <th>Country of asylum (ISO)</th>\n",
       "      <th>Refugees under UNHCR's mandate</th>\n",
       "      <th>Asylum-seekers</th>\n",
       "      <th>IDPs of concern to UNHCR</th>\n",
       "      <th>Other people in need of international protection</th>\n",
       "      <th>Stateless persons</th>\n",
       "      <th>Host Community</th>\n",
       "      <th>Others of concern</th>\n",
       "      <th>Total refugees</th>\n",
       "    </tr>\n",
       "  </thead>\n",
       "  <tbody>\n",
       "    <tr>\n",
       "      <th>0</th>\n",
       "      <td>2023</td>\n",
       "      <td>Philippines</td>\n",
       "      <td>PHL</td>\n",
       "      <td>Poland</td>\n",
       "      <td>POL</td>\n",
       "      <td>5</td>\n",
       "      <td>0</td>\n",
       "      <td>0</td>\n",
       "      <td>-</td>\n",
       "      <td>0</td>\n",
       "      <td>0</td>\n",
       "      <td>0</td>\n",
       "      <td>5</td>\n",
       "    </tr>\n",
       "    <tr>\n",
       "      <th>1</th>\n",
       "      <td>2023</td>\n",
       "      <td>South Africa</td>\n",
       "      <td>ZAF</td>\n",
       "      <td>Poland</td>\n",
       "      <td>POL</td>\n",
       "      <td>6</td>\n",
       "      <td>0</td>\n",
       "      <td>0</td>\n",
       "      <td>-</td>\n",
       "      <td>0</td>\n",
       "      <td>0</td>\n",
       "      <td>0</td>\n",
       "      <td>6</td>\n",
       "    </tr>\n",
       "    <tr>\n",
       "      <th>2</th>\n",
       "      <td>2023</td>\n",
       "      <td>Russian Federation</td>\n",
       "      <td>RUS</td>\n",
       "      <td>Poland</td>\n",
       "      <td>POL</td>\n",
       "      <td>2284</td>\n",
       "      <td>1102</td>\n",
       "      <td>0</td>\n",
       "      <td>-</td>\n",
       "      <td>0</td>\n",
       "      <td>0</td>\n",
       "      <td>0</td>\n",
       "      <td>3386</td>\n",
       "    </tr>\n",
       "    <tr>\n",
       "      <th>3</th>\n",
       "      <td>2023</td>\n",
       "      <td>Rwanda</td>\n",
       "      <td>RWA</td>\n",
       "      <td>Poland</td>\n",
       "      <td>POL</td>\n",
       "      <td>5</td>\n",
       "      <td>0</td>\n",
       "      <td>0</td>\n",
       "      <td>-</td>\n",
       "      <td>0</td>\n",
       "      <td>0</td>\n",
       "      <td>0</td>\n",
       "      <td>5</td>\n",
       "    </tr>\n",
       "    <tr>\n",
       "      <th>4</th>\n",
       "      <td>2023</td>\n",
       "      <td>Serbia and Kosovo: S/RES/1244 (1999)</td>\n",
       "      <td>SRB</td>\n",
       "      <td>Poland</td>\n",
       "      <td>POL</td>\n",
       "      <td>5</td>\n",
       "      <td>0</td>\n",
       "      <td>0</td>\n",
       "      <td>-</td>\n",
       "      <td>0</td>\n",
       "      <td>0</td>\n",
       "      <td>0</td>\n",
       "      <td>5</td>\n",
       "    </tr>\n",
       "    <tr>\n",
       "      <th>...</th>\n",
       "      <td>...</td>\n",
       "      <td>...</td>\n",
       "      <td>...</td>\n",
       "      <td>...</td>\n",
       "      <td>...</td>\n",
       "      <td>...</td>\n",
       "      <td>...</td>\n",
       "      <td>...</td>\n",
       "      <td>...</td>\n",
       "      <td>...</td>\n",
       "      <td>...</td>\n",
       "      <td>...</td>\n",
       "      <td>...</td>\n",
       "    </tr>\n",
       "    <tr>\n",
       "      <th>125684</th>\n",
       "      <td>1951</td>\n",
       "      <td>Unknown</td>\n",
       "      <td>UNK</td>\n",
       "      <td>Switzerland</td>\n",
       "      <td>CHE</td>\n",
       "      <td>10000</td>\n",
       "      <td>0</td>\n",
       "      <td>0</td>\n",
       "      <td>-</td>\n",
       "      <td>0</td>\n",
       "      <td>-</td>\n",
       "      <td>0</td>\n",
       "      <td>10000</td>\n",
       "    </tr>\n",
       "    <tr>\n",
       "      <th>125685</th>\n",
       "      <td>1951</td>\n",
       "      <td>Unknown</td>\n",
       "      <td>UNK</td>\n",
       "      <td>Tunisia</td>\n",
       "      <td>TUN</td>\n",
       "      <td>2000</td>\n",
       "      <td>0</td>\n",
       "      <td>0</td>\n",
       "      <td>-</td>\n",
       "      <td>0</td>\n",
       "      <td>-</td>\n",
       "      <td>0</td>\n",
       "      <td>2000</td>\n",
       "    </tr>\n",
       "    <tr>\n",
       "      <th>125686</th>\n",
       "      <td>1951</td>\n",
       "      <td>Unknown</td>\n",
       "      <td>UNK</td>\n",
       "      <td>Türkiye</td>\n",
       "      <td>TUR</td>\n",
       "      <td>2700</td>\n",
       "      <td>0</td>\n",
       "      <td>0</td>\n",
       "      <td>-</td>\n",
       "      <td>0</td>\n",
       "      <td>-</td>\n",
       "      <td>0</td>\n",
       "      <td>2700</td>\n",
       "    </tr>\n",
       "    <tr>\n",
       "      <th>125687</th>\n",
       "      <td>1951</td>\n",
       "      <td>Unknown</td>\n",
       "      <td>UNK</td>\n",
       "      <td>United States of America</td>\n",
       "      <td>USA</td>\n",
       "      <td>350000</td>\n",
       "      <td>0</td>\n",
       "      <td>0</td>\n",
       "      <td>-</td>\n",
       "      <td>0</td>\n",
       "      <td>-</td>\n",
       "      <td>0</td>\n",
       "      <td>350000</td>\n",
       "    </tr>\n",
       "    <tr>\n",
       "      <th>125688</th>\n",
       "      <td>1951</td>\n",
       "      <td>Unknown</td>\n",
       "      <td>UNK</td>\n",
       "      <td>Unknown</td>\n",
       "      <td>UNK</td>\n",
       "      <td>158800</td>\n",
       "      <td>0</td>\n",
       "      <td>0</td>\n",
       "      <td>-</td>\n",
       "      <td>0</td>\n",
       "      <td>-</td>\n",
       "      <td>0</td>\n",
       "      <td>158800</td>\n",
       "    </tr>\n",
       "  </tbody>\n",
       "</table>\n",
       "<p>125689 rows × 13 columns</p>\n",
       "</div>"
      ],
      "text/plain": [
       "        Year                     Country of origin Country of origin (ISO)  \\\n",
       "0       2023                           Philippines                     PHL   \n",
       "1       2023                          South Africa                     ZAF   \n",
       "2       2023                    Russian Federation                     RUS   \n",
       "3       2023                                Rwanda                     RWA   \n",
       "4       2023  Serbia and Kosovo: S/RES/1244 (1999)                     SRB   \n",
       "...      ...                                   ...                     ...   \n",
       "125684  1951                              Unknown                      UNK   \n",
       "125685  1951                              Unknown                      UNK   \n",
       "125686  1951                              Unknown                      UNK   \n",
       "125687  1951                              Unknown                      UNK   \n",
       "125688  1951                              Unknown                      UNK   \n",
       "\n",
       "               Country of asylum Country of asylum (ISO)  \\\n",
       "0                         Poland                     POL   \n",
       "1                         Poland                     POL   \n",
       "2                         Poland                     POL   \n",
       "3                         Poland                     POL   \n",
       "4                         Poland                     POL   \n",
       "...                          ...                     ...   \n",
       "125684               Switzerland                     CHE   \n",
       "125685                   Tunisia                     TUN   \n",
       "125686                   Türkiye                     TUR   \n",
       "125687  United States of America                     USA   \n",
       "125688                  Unknown                      UNK   \n",
       "\n",
       "        Refugees under UNHCR's mandate  Asylum-seekers  \\\n",
       "0                                    5               0   \n",
       "1                                    6               0   \n",
       "2                                 2284            1102   \n",
       "3                                    5               0   \n",
       "4                                    5               0   \n",
       "...                                ...             ...   \n",
       "125684                           10000               0   \n",
       "125685                            2000               0   \n",
       "125686                            2700               0   \n",
       "125687                          350000               0   \n",
       "125688                          158800               0   \n",
       "\n",
       "        IDPs of concern to UNHCR  \\\n",
       "0                              0   \n",
       "1                              0   \n",
       "2                              0   \n",
       "3                              0   \n",
       "4                              0   \n",
       "...                          ...   \n",
       "125684                         0   \n",
       "125685                         0   \n",
       "125686                         0   \n",
       "125687                         0   \n",
       "125688                         0   \n",
       "\n",
       "       Other people in need of international protection  Stateless persons  \\\n",
       "0                                                     -                  0   \n",
       "1                                                     -                  0   \n",
       "2                                                     -                  0   \n",
       "3                                                     -                  0   \n",
       "4                                                     -                  0   \n",
       "...                                                 ...                ...   \n",
       "125684                                                -                  0   \n",
       "125685                                                -                  0   \n",
       "125686                                                -                  0   \n",
       "125687                                                -                  0   \n",
       "125688                                                -                  0   \n",
       "\n",
       "       Host Community  Others of concern  Total refugees  \n",
       "0                   0                  0               5  \n",
       "1                   0                  0               6  \n",
       "2                   0                  0            3386  \n",
       "3                   0                  0               5  \n",
       "4                   0                  0               5  \n",
       "...               ...                ...             ...  \n",
       "125684              -                  0           10000  \n",
       "125685              -                  0            2000  \n",
       "125686              -                  0            2700  \n",
       "125687              -                  0          350000  \n",
       "125688              -                  0          158800  \n",
       "\n",
       "[125689 rows x 13 columns]"
      ]
     },
     "execution_count": 29,
     "metadata": {},
     "output_type": "execute_result"
    }
   ],
   "source": [
    "population"
   ]
  }
 ],
 "metadata": {
  "kernelspec": {
   "display_name": "Python 3",
   "language": "python",
   "name": "python3"
  },
  "language_info": {
   "codemirror_mode": {
    "name": "ipython",
    "version": 3
   },
   "file_extension": ".py",
   "mimetype": "text/x-python",
   "name": "python",
   "nbconvert_exporter": "python",
   "pygments_lexer": "ipython3",
   "version": "3.10.0"
  }
 },
 "nbformat": 4,
 "nbformat_minor": 2
}
